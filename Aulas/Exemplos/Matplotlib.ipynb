{
 "cells": [
  {
   "cell_type": "markdown",
   "id": "32f5974b-efc1-42cb-a7e5-23cca84639b8",
   "metadata": {},
   "source": [
    "# Introdução a Programação Científica em Python"
   ]
  },
  {
   "cell_type": "markdown",
   "id": "5f71d962-c7b9-451a-923b-039687ccdf2d",
   "metadata": {},
   "source": [
    "#### Lista de Exemplos"
   ]
  },
  {
   "cell_type": "markdown",
   "id": "c6b1bc0b-90eb-49dd-be32-4ae937341777",
   "metadata": {},
   "source": [
    "- **Dia 4:** *Matplotlib*"
   ]
  },
  {
   "cell_type": "code",
   "execution_count": 9,
   "id": "63c8b5e5-ec26-4e89-83f1-cdbf0561166e",
   "metadata": {},
   "outputs": [
    {
     "name": "stdout",
     "output_type": "stream",
     "text": [
      "Versão do Matplotlib = 3.6.0\n",
      "Versão do NumPy = 1.21.6\n"
     ]
    }
   ],
   "source": [
    "import matplotlib.pyplot as plt\n",
    "import numpy as np\n",
    "import matplotlib\n",
    "\n",
    "print('Versão do Matplotlib =', matplotlib.__version__)\n",
    "print('Versão do NumPy =', np.__version__)"
   ]
  },
  {
   "cell_type": "markdown",
   "id": "8a7b5571-509a-4e5e-8caa-36b196af0b09",
   "metadata": {},
   "source": [
    "---"
   ]
  },
  {
   "cell_type": "markdown",
   "id": "382be4db-96cd-457d-a95d-acd447561920",
   "metadata": {},
   "source": [
    "### Exemplo 1: Equação da difusão unidimensional"
   ]
  },
  {
   "cell_type": "markdown",
   "id": "a935d4be-e3e8-46da-95cf-2a8e63bd19f0",
   "metadata": {},
   "source": [
    "Considere uma barra de metal com área de seção transversal, $A$, inicialmente a uma temperatura uniforme, $\\theta_0$, que é aquecida instantaneamente no centro exato pela adição de uma quantidade de energia, $H$. A temperatura subsequente da barra (em relação a $\\theta_0$) em função do tempo, $t$ e da posição, $x$ é governado pela equação de difusão unidimensional:"
   ]
  },
  {
   "cell_type": "markdown",
   "id": "4d9cc2c1-b475-460a-8b7d-0721482afcc9",
   "metadata": {},
   "source": [
    "$$\\tag{1.1}\n",
    "\\theta(x,t) = \\frac{H}{c_pA}\\frac{1}{\\sqrt{Dt}}\\frac{1}{\\sqrt{4\\pi}}\\cdot\\exp\\left(-\\frac{x^2}{4Dt}\\right)\\text{ },\n",
    "$$"
   ]
  },
  {
   "cell_type": "markdown",
   "id": "2804a498-5d1a-4b8d-a911-f54fd3940a33",
   "metadata": {},
   "source": [
    "onde $c_p$ e $D$ são a capacidade térmica específica do metal por unidade de volume e a difusividade térmica (que assumimos ser constante com a temperatura). "
   ]
  },
  {
   "cell_type": "markdown",
   "id": "33363d71-d8fb-4a6b-9f81-1aa7ec37a8f5",
   "metadata": {},
   "source": [
    "Faça um conjunto de gráficos de $\\theta(x,t)$ para três tempos específicos e em seguida compare os gráficos entre dois metais, com difusividades térmicas diferentes, mas capacidades térmicas semelhantes, Cobre e Ferro."
   ]
  },
  {
   "cell_type": "code",
   "execution_count": 1,
   "id": "7cde0ee1-359a-41ce-bbae-45444e8124d8",
   "metadata": {},
   "outputs": [],
   "source": [
    "# SEU CÓDIGO AQUI"
   ]
  },
  {
   "cell_type": "markdown",
   "id": "513ec8bf-76b5-4d2c-9e74-1d75ce72f371",
   "metadata": {},
   "source": [
    "---"
   ]
  },
  {
   "cell_type": "markdown",
   "id": "e29d882d-aea2-4b15-96aa-749bacdeb31d",
   "metadata": {},
   "source": [
    "### Exemplo 2: Modelando um conjunto de antenas"
   ]
  },
  {
   "cell_type": "markdown",
   "id": "501658b6-9e47-4757-81e9-3ea601e6b0a6",
   "metadata": {},
   "source": [
    "Um conjunto de antenas pode ser usado para direcionar ondas de rádio em uma direção específica, ajustando seu número, arranjo geométrico e amplitudes e fases relativas (ver, por exemplo, [S. J. Orfanidis, *Electromagnetic Waves and Antennas*, Rutgers University, 2016](http://eceweb1.rutgers.edu/~orfanidi/ewa/).)"
   ]
  },
  {
   "cell_type": "markdown",
   "id": "f126bb7f-33a1-49d1-9541-b9ea30403543",
   "metadata": {},
   "source": [
    "Considere um conjunto de $n$ antenas isotrópicas em posições, $\\boldsymbol{d}_i$, uniformemente espaçadas por $d$ ao longo do eixo $x$ a partir da origem:"
   ]
  },
  {
   "cell_type": "markdown",
   "id": "1bccdf3b-a186-45b1-b58b-3087141062b3",
   "metadata": {},
   "source": [
    "$$\\tag{2.1}\n",
    "\\begin{align*}\r\n",
    "\\boldsymbol{d}_0 = 0, \\boldsymbol{d}_1 = d\\boldsymbol{\\hat{x}}, \\ldots,\\boldsymbol{d}_{n-1} = (n-1)d\\boldsymbol{\\hat{x}\\text{ }}.\r\n",
    "\\end{align*}\n",
    "$$"
   ]
  },
  {
   "cell_type": "markdown",
   "id": "08fd5026-46a7-4674-b431-4164e60e9624",
   "metadata": {},
   "source": [
    "Se uma única antena produz um vetor de radiação, $\\boldsymbol{F}(\\boldsymbol{k})$, onde $\\boldsymbol{k}=k\\boldsymbol{\\hat{r}}=(2\\pi/\\lambda)\\boldsymbol{\\hat{r}}$, o vetor de radiação total devido a todas as $n$ antenas é"
   ]
  },
  {
   "cell_type": "markdown",
   "id": "957721a1-2980-4e05-bc17-e253f2514921",
   "metadata": {},
   "source": [
    "$$\\tag{2.2}\n",
    "\\begin{align*}\n",
    "\\boldsymbol{F}_\\mathrm{tot}(\\boldsymbol{k}) = \\sum_{j=0}^{n-1}w_j\\mathrm{e}^{ji\\boldsymbol{k}\\cdot\\boldsymbol{d}_j}\\boldsymbol{F}(\\boldsymbol{k}) = A(\\boldsymbol{k})F(\\boldsymbol{k})\\text{ },\n",
    "\\end{align*}\n",
    "$$"
   ]
  },
  {
   "cell_type": "markdown",
   "id": "83802120-05de-41bb-957d-13225f2aeeeb",
   "metadata": {},
   "source": [
    "onde $wj$ é o coeficiente de alimentação da $j-$ésima antena, representando sua amplitude e fase, e $A(\\boldsymbol{k})$ é conhecido como *fator de arranjo*. Podemos escolher $w_0=1$ para especificar os coeficientes de alimentação relativos à antena na origem. Se optarmos ainda por olhar apenas para a contribuição azimutal $(\\phi)$ para a radiação no plano $xy$, definindo o ângulo polar $\\theta=\\pi/2$, teremos:"
   ]
  },
  {
   "cell_type": "markdown",
   "id": "2a669ab4-7552-4b77-b024-8560f9d7e543",
   "metadata": {},
   "source": [
    "$$\\tag{2.3}\n",
    "A(\\phi) = \\sum_{j=0}^{n-1}w_j\\mathrm{e}^{jikd\\cos\\phi}\\text{ }.\n",
    "$$"
   ]
  },
  {
   "cell_type": "markdown",
   "id": "788a28eb-7bc6-4827-a31c-12b71ac093ba",
   "metadata": {},
   "source": [
    "O padrão relativo de potência de radiação (\"ganho\") é o quadrado desta quantidade. Para duas antenas idênticas,"
   ]
  },
  {
   "cell_type": "markdown",
   "id": "71b2a73f-2315-4dab-87e2-834c166a796b",
   "metadata": {},
   "source": [
    "$$\\tag{2.4}\n",
    "g(\\phi) = |A(\\phi)|^2 = |w_0 + w_1\\mathrm{e}^{ikd\\cos\\phi}|^2\\text{ }.\n",
    "$$"
   ]
  },
  {
   "cell_type": "markdown",
   "id": "a3b71b5d-eb0c-4747-85d3-ab5e019ec7ff",
   "metadata": {},
   "source": [
    "Considere a quantidade relacionada, o *ganho diretivo*, $10\\log_{10}(g/g_{\\text{máx.}})$. Faça um gráfico polar do ganho diretivo como uma função de $\\phi$ para o caso de duas antenas para $d=\\lambda$ e $w_0=1$ e $w_1=-i$."
   ]
  },
  {
   "cell_type": "code",
   "execution_count": 2,
   "id": "a5d70e5b-1f4f-47a1-93cd-d53527454383",
   "metadata": {},
   "outputs": [],
   "source": [
    "# SEU CÓDIGO AQUI"
   ]
  },
  {
   "cell_type": "markdown",
   "id": "8fd46e40-859f-482e-8a18-d830f3064cc6",
   "metadata": {},
   "source": [
    "---"
   ]
  },
  {
   "cell_type": "markdown",
   "id": "4b15c412-ba9d-4da7-8a67-ff49735f1270",
   "metadata": {},
   "source": [
    "### Exemplo 3: Samambaia de Barnsley"
   ]
  },
  {
   "cell_type": "markdown",
   "id": "d7d86b04-099e-4f56-b57f-912480ee2322",
   "metadata": {},
   "source": [
    "A *samambaia de Barnsley* é um fractal que se assemelha à espécie de samambaia Black Spleenwort. É construído traçando uma sequência de pontos no plano $(x,y)$, começando em $(0,0)$, gerada pelas seguintes [transformações afins](https://en.wikipedia.org/wiki/Affine_transformation) $f_1$, $f_2$, $f_3$ e $f_4$ onde cada transformação é aplicada ao ponto anterior e escolhido aleatoriamente com probabilidades $p_1=0.01$, $p_2=0.85$, $p_3=0.07$ e $p_4=0.07$."
   ]
  },
  {
   "cell_type": "markdown",
   "id": "d82a9219-b2b3-4536-b083-001e8ba4b966",
   "metadata": {},
   "source": [
    "$$\\tag{3.1}\n",
    "\\begin{cases}\n",
    "f_1(x,y) &= \\left( \\begin{array}{ll} 0 & 0\\\\0 & 0.16 \\end{array}\\right)\n",
    "\\left( \\begin{array}{l}x\\\\y\\end{array} \\right)\\text{ }, \\\\\n",
    "f_2(x,y) &= \\left( \\begin{array}{ll} 0.85 & 0.04\\\\-0.04 & 0.85 \\end{array}\\right)\n",
    "\\left( \\begin{array}{l}x\\\\y\\end{array} \\right) + \\left( \\begin{array}{l}0\\\\1.6\\end{array} \\right)\\text{ }, \\\\\n",
    "f_3(x,y) &= \\left( \\begin{array}{ll} 0.2 & -0.26\\\\0.23 & 0.22 \\end{array}\\right)\n",
    "\\left( \\begin{array}{l}x\\\\y\\end{array} \\right) + \\left( \\begin{array}{l}0\\\\1.6\\end{array} \\right)\\text{ }, \\\\\n",
    "f_4(x,y) &= \\left( \\begin{array}{ll} -0.15 & 0.28\\\\0.26 & 0.24 \\end{array}\\right)\n",
    "\\left( \\begin{array}{l}x\\\\y\\end{array} \\right) + \\left( \\begin{array}{l}0\\\\0.44\\end{array} \\right)\\text{ }.\n",
    "\\end{cases}\n",
    "$$"
   ]
  },
  {
   "cell_type": "markdown",
   "id": "98f92de0-68de-42df-b408-4ab60de1bc6a",
   "metadata": {},
   "source": [
    "Implemente as transformações afins acima e gere uma samambaia de Barnsley."
   ]
  },
  {
   "cell_type": "code",
   "execution_count": 3,
   "id": "4e9fb145-e98a-4e3d-982c-fb21906be50c",
   "metadata": {},
   "outputs": [],
   "source": [
    "# SEU CÓDIGO AQUI"
   ]
  },
  {
   "cell_type": "markdown",
   "id": "c1b7f7e8-d90d-4fdc-b95a-80b00903b61d",
   "metadata": {},
   "source": [
    "---"
   ]
  },
  {
   "cell_type": "markdown",
   "id": "d506af72-80eb-4e1d-a78b-2b59e173c102",
   "metadata": {},
   "source": [
    "### Exemplo 4: Equação de difusão bidimensional"
   ]
  },
  {
   "cell_type": "markdown",
   "id": "ae51f7fb-097d-4f0d-af5e-7078abd40eed",
   "metadata": {},
   "source": [
    "A equação de difusão bidimensional é dada por"
   ]
  },
  {
   "cell_type": "markdown",
   "id": "abf86ccb-c8ce-4749-9e03-1c3a0dfd171e",
   "metadata": {},
   "source": [
    "$$\\tag{4.1}\n",
    "\\frac{\\partial U}{\\partial t} = D\\left(\\frac{\\partial^2U}{\\partial x^2} + \\frac{\\partial^2U}{\\partial y^2}\\right)\\text{ },\n",
    "$$"
   ]
  },
  {
   "cell_type": "markdown",
   "id": "31347969-5a2c-48ff-b159-0ae5f62daf27",
   "metadata": {},
   "source": [
    "onde $D$ é o coeficiente de difusão. Uma solução numérica simples no domínio do quadrado unitário $0\\leq x<1$, $0\\leq y<1$ aproxima $U(x,y;t)$ pela função discreta $u^{(n)}_{i,j}$ onde $x=i\\Delta x$, $y=j\\Delta y$ e $t=n\\Delta t$. A aplicação de aproximações de diferenças finitas produz"
   ]
  },
  {
   "cell_type": "markdown",
   "id": "9cdff411-7c05-4500-8ce2-81b8d138b230",
   "metadata": {},
   "source": [
    "$$\\tag{4.2}\n",
    "\\frac{u_{i,j}^{(n+1)} - u_{i,j}^{(n)}}{\\Delta t} = D\\left[ \\frac{u_{i+1,j}^{(n)} - 2u_{i,j}^{(n)} + u_{i-1,j}^{(n)}}{(\\Delta x)^2} + \\frac{u_{i,j+1}^{(n)} - 2u_{i,j}^{(n)} + u_{i,j-1}^{(n)}}{(\\Delta y)^2} \\right]\\text{ },\n",
    "$$"
   ]
  },
  {
   "cell_type": "markdown",
   "id": "c034b65f-62d3-4799-957a-19a301622a46",
   "metadata": {},
   "source": [
    "e, portanto, o estado do sistema no passo de tempo $n+1$, $u^{(n+1)}_{i,j}$ pode ser calculado a partir de seu estado no passo de tempo $n$, $u^{(n)}_{i,j}$ através da equação"
   ]
  },
  {
   "cell_type": "markdown",
   "id": "7f0656b7-3e8f-4795-bccb-ce68ca531fa1",
   "metadata": {},
   "source": [
    "$$\\tag{4.3}\n",
    "u_{i,j}^{(n+1)} = u_{i,j}^{(n)} + D\\Delta t\\left[ \\frac{u_{i+1,j}^{(n)} - 2u_{i,j}^{(n)} + u_{i-1,j}^{(n)}}{(\\Delta x)^2} + \\frac{u_{i,j+1}^{(n)} - 2u_{i,j}^{(n)} + u_{i,j-1}^{(n)}}{(\\Delta y)^2} \\right]\\text{ }.\n",
    "$$"
   ]
  },
  {
   "cell_type": "markdown",
   "id": "976bdcdd-d476-4ab4-a214-f5ae8f856d0d",
   "metadata": {},
   "source": [
    "Considere a equação de difusão aplicada a uma placa metálica inicialmente à temperatura $T_{\\text{cool}}$, exceto por um disco de tamanho especificado que está à temperatura $T_{\\text{hot}}$. Suponhamos que as bordas da placa sejam mantidas fixas em $T_{\\text{cool}}$. Pode-se mostrar que o intervalo de tempo máximo, $\\Delta t$, que podemos permitir sem que o processo se torne instável é"
   ]
  },
  {
   "cell_type": "markdown",
   "id": "526d6bc8-88a3-410c-8cb1-a93f6d14c7e1",
   "metadata": {},
   "source": [
    "$$\\tag{4.4}\n",
    "\\Delta t = \\frac{1}{2D}\\frac{(\\Delta x\\Delta y)^2}{(\\Delta x)^2 + (\\Delta y)^2}\\text{ }.\n",
    "$$"
   ]
  },
  {
   "cell_type": "markdown",
   "id": "7a8974ee-1142-40cc-8488-e365ef7ea465",
   "metadata": {},
   "source": [
    "Escreva um código que aplica a Equação $(4.3)$ para acompanhar a evolução da temperatura da placa."
   ]
  },
  {
   "cell_type": "code",
   "execution_count": 4,
   "id": "59e65e5b-897f-4c66-a370-cc1c7bb36359",
   "metadata": {},
   "outputs": [],
   "source": [
    "# SEU CÓDIGO AQUI"
   ]
  },
  {
   "cell_type": "markdown",
   "id": "cc62e994-7a36-4db0-abb1-42b936dfe8cf",
   "metadata": {},
   "source": [
    "---"
   ]
  },
  {
   "cell_type": "markdown",
   "id": "8507b9b8-b1ae-4151-85c6-e76554594921",
   "metadata": {},
   "source": [
    "### Exemplo 5: Curvas senoidais decrescentes"
   ]
  },
  {
   "cell_type": "markdown",
   "id": "012f4378-3ff0-4a90-ab31-9e3937497c6b",
   "metadata": {},
   "source": [
    "Considere uma curva senoidal decrescente que poderia, por exemplo, representar o sinal sonoro decrescente de um diapasão tocado em uma frequência fixa:"
   ]
  },
  {
   "cell_type": "markdown",
   "id": "1b615ed4-178c-4ba6-ac31-fa4a53d9c98b",
   "metadata": {},
   "source": [
    "$$\\tag{5.1}\n",
    "M(t) = \\sin(2\\pi f t)\\cdot e^{-\\alpha t}\\text{ },\n",
    "$$"
   ]
  },
  {
   "cell_type": "markdown",
   "id": "67de894a-8ade-4e02-a7de-8ddd4fd71c87",
   "metadata": {},
   "source": [
    "**a)** Escreva um código que gere uma animação dessa curva."
   ]
  },
  {
   "cell_type": "code",
   "execution_count": 5,
   "id": "d9c22398-24d9-4afa-9e64-40ac42f6a947",
   "metadata": {},
   "outputs": [],
   "source": [
    "# SEU CÓDIGO AQUI"
   ]
  },
  {
   "cell_type": "markdown",
   "id": "c1ba3e82-bbce-4645-90b5-dbf5ec2c694e",
   "metadata": {},
   "source": [
    "**b)** Escreva um código que repete a animação gerada no item **a)** mas usando a técninca de *blitting* e passando argumentos explicitamente para a função de animação em vez de declará-los como globais dentro dela."
   ]
  },
  {
   "cell_type": "code",
   "execution_count": 6,
   "id": "409d1d03-644c-4328-93bb-72a8b3b2bcd5",
   "metadata": {},
   "outputs": [],
   "source": [
    "# SEU CÓDIGO AQUI"
   ]
  },
  {
   "cell_type": "markdown",
   "id": "3ea26853-bd1e-4729-9d30-201eef6640a1",
   "metadata": {},
   "source": [
    "---"
   ]
  },
  {
   "cell_type": "markdown",
   "id": "4cfd3c54-93e7-4fc4-81e7-c4b10b84e433",
   "metadata": {},
   "source": [
    "### $\\star$ Desafio: Uma bola quicando"
   ]
  },
  {
   "cell_type": "markdown",
   "id": "8a943fb9-71d9-4ba2-b556-b2ccc11d7a46",
   "metadata": {},
   "source": [
    "Escreva um código que gere uma animação de uma bola quicando, começando de uma posição $(0,y_0)$ com velocidade $(v_{x_0},0)$. A posição da bola, o histórico de trajetória e o rótulo de altura mudam a cada quadro."
   ]
  },
  {
   "cell_type": "code",
   "execution_count": 7,
   "id": "cdb27435-348c-465c-b316-8f10507aaa44",
   "metadata": {},
   "outputs": [],
   "source": [
    "# SEU CÓDIGO AQUI"
   ]
  },
  {
   "cell_type": "markdown",
   "id": "7697b027-1627-4bbf-8aaf-aa559ba509a5",
   "metadata": {},
   "source": [
    "---"
   ]
  },
  {
   "cell_type": "markdown",
   "id": "47879771-3275-466b-ac67-202e6b953b99",
   "metadata": {},
   "source": [
    "![Good Job](img/Good_Job.jpg \"Good_Job\")"
   ]
  }
 ],
 "metadata": {
  "kernelspec": {
   "display_name": "Python 3 (ipykernel)",
   "language": "python",
   "name": "python3"
  },
  "language_info": {
   "codemirror_mode": {
    "name": "ipython",
    "version": 3
   },
   "file_extension": ".py",
   "mimetype": "text/x-python",
   "name": "python",
   "nbconvert_exporter": "python",
   "pygments_lexer": "ipython3",
   "version": "3.9.8"
  }
 },
 "nbformat": 4,
 "nbformat_minor": 5
}
