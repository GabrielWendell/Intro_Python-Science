{
 "cells": [
  {
   "cell_type": "markdown",
   "id": "b28e4a93-f636-4629-a51d-458c3674f7b0",
   "metadata": {},
   "source": [
    "# Introdução à Programação Científica em Python"
   ]
  },
  {
   "cell_type": "markdown",
   "id": "7ab31d6a-58b1-4cee-8987-884d803f4137",
   "metadata": {},
   "source": [
    "## Lista de Exemplos #01"
   ]
  },
  {
   "cell_type": "markdown",
   "id": "35b28fc7-8c62-4f89-9f0d-7da3c4ef7b7a",
   "metadata": {},
   "source": [
    "- **Aula** *Python Core I*"
   ]
  },
  {
   "cell_type": "markdown",
   "id": "393a859f-9c1e-4479-ba0b-a121a4e2190e",
   "metadata": {},
   "source": [
    "---"
   ]
  },
  {
   "cell_type": "markdown",
   "id": "31bcf76d-f18c-4aa0-b68e-f2c505f65d35",
   "metadata": {},
   "source": [
    "### Exemplo 1: A sequência de Fibonacci"
   ]
  },
  {
   "cell_type": "markdown",
   "id": "dc7c8488-3bec-4844-be15-3b12f1c2ddc8",
   "metadata": {},
   "source": [
    "A *sequência de Fibonacci* é uma sequência de números gerados ao se aplicar as seguintes regras:"
   ]
  },
  {
   "cell_type": "markdown",
   "id": "b11cb26b-baca-42d0-a558-bdf875c41c48",
   "metadata": {},
   "source": [
    "$$\\tag{1.1}\n",
    "F_1=F_2=1\\quad,\\quad F_n=F_{n-1}+F_{n-2}\\text{ }.\n",
    "$$"
   ]
  },
  {
   "cell_type": "markdown",
   "id": "22e7d634-927c-461f-9742-d1b485f40f80",
   "metadata": {},
   "source": [
    "Em outras palavras, o $n-$ésimo número de Fibonacci é a soma dos dois anteriores: $1,1,2,3,5,8,13,\\ldots$."
   ]
  },
  {
   "cell_type": "markdown",
   "id": "b58cf08e-18ea-4eed-9250-0d9f697f1e16",
   "metadata": {},
   "source": [
    "Escreva um código que calcula e armazena os primeiros `n=100` números de Fibonacci."
   ]
  },
  {
   "cell_type": "markdown",
   "id": "c6328035-7edb-49e8-b448-188d9a67daec",
   "metadata": {},
   "source": [
    "#### Solução:"
   ]
  },
  {
   "cell_type": "markdown",
   "id": "4df3cdf4-fbe4-432b-adea-76cfedefde78",
   "metadata": {},
   "source": [
    "Existem várias maneiras de gerar a sequência de Fibonacci. Aqui, vamos estão duas soluções possíveis:"
   ]
  },
  {
   "cell_type": "markdown",
   "id": "c63d575d-b5a3-4c86-98a9-e85ba889f980",
   "metadata": {},
   "source": [
    "- **Solução 1:** \\\n",
    "Calculando e armazenando os primeiros `n` números de Fibonacci os anexando a uma lista"
   ]
  },
  {
   "cell_type": "code",
   "execution_count": 1,
   "id": "78b92935-f64b-4fe5-9722-957031d91791",
   "metadata": {},
   "outputs": [
    {
     "name": "stdout",
     "output_type": "stream",
     "text": [
      "[1, 1, 2, 3, 5, 8, 13, 21, 34, 55, 89, 144, 233, 377, 610, 987, 1597, 2584, 4181, 6765, 10946, 17711, 28657, 46368, 75025, 121393, 196418, 317811, 514229, 832040, 1346269, 2178309, 3524578, 5702887, 9227465, 14930352, 24157817, 39088169, 63245986, 102334155, 165580141, 267914296, 433494437, 701408733, 1134903170, 1836311903, 2971215073, 4807526976, 7778742049, 12586269025, 20365011074, 32951280099, 53316291173, 86267571272, 139583862445, 225851433717, 365435296162, 591286729879, 956722026041, 1548008755920, 2504730781961, 4052739537881, 6557470319842, 10610209857723, 17167680177565, 27777890035288, 44945570212853, 72723460248141, 117669030460994, 190392490709135, 308061521170129, 498454011879264, 806515533049393, 1304969544928657, 2111485077978050, 3416454622906707, 5527939700884757, 8944394323791464, 14472334024676221, 23416728348467685, 37889062373143906, 61305790721611591, 99194853094755497, 160500643816367088, 259695496911122585, 420196140727489673, 679891637638612258, 1100087778366101931, 1779979416004714189, 2880067194370816120, 4660046610375530309, 7540113804746346429, 12200160415121876738, 19740274219868223167, 31940434634990099905, 51680708854858323072, 83621143489848422977, 135301852344706746049, 218922995834555169026, 354224848179261915075, 573147844013817084101]\n"
     ]
    }
   ],
   "source": [
    "n = 100\n",
    "fib = [1, 1]\n",
    "for i in range(2, n+1):\n",
    "    fib.append(fib[i-1] + fib[i-2])\n",
    "print(fib)"
   ]
  },
  {
   "cell_type": "markdown",
   "id": "33d21b1a-da0e-4164-b625-935243c1efb4",
   "metadata": {},
   "source": [
    "- **Solução 2:** \\\n",
    "Alternativamente, podemos gerar a sequência sem armazenar mais de dois números por vez, da seguinte maneira:"
   ]
  },
  {
   "cell_type": "code",
   "execution_count": 2,
   "id": "09bdd193-1fa8-49e5-acc4-25bcefc9d5f2",
   "metadata": {},
   "outputs": [
    {
     "name": "stdout",
     "output_type": "stream",
     "text": [
      "1 1  2  3  5  8  13  21  34  55  89  144  233  377  610  987  1597  2584  4181  6765  10946  17711  28657  46368  75025  121393  196418  317811  514229  832040  1346269  2178309  3524578  5702887  9227465  14930352  24157817  39088169  63245986  102334155  165580141  267914296  433494437  701408733  1134903170  1836311903  2971215073  4807526976  7778742049  12586269025  20365011074  32951280099  53316291173  86267571272  139583862445  225851433717  365435296162  591286729879  956722026041  1548008755920  2504730781961  4052739537881  6557470319842  10610209857723  17167680177565  27777890035288  44945570212853  72723460248141  117669030460994  190392490709135  308061521170129  498454011879264  806515533049393  1304969544928657  2111485077978050  3416454622906707  5527939700884757  8944394323791464  14472334024676221  23416728348467685  37889062373143906  61305790721611591  99194853094755497  160500643816367088  259695496911122585  420196140727489673  679891637638612258  1100087778366101931  1779979416004714189  2880067194370816120  4660046610375530309  7540113804746346429  12200160415121876738  19740274219868223167  31940434634990099905  51680708854858323072  83621143489848422977  135301852344706746049  218922995834555169026  354224848179261915075  573147844013817084101"
     ]
    }
   ],
   "source": [
    "n = 100\n",
    "# Acompanhe os dois números de Fibonacci mais recentes\n",
    "a, b = 1, 1\n",
    "print(a, b, end='')\n",
    "for i in range(2, n+1):\n",
    "    # O próximo número (b) é a+b, e a se torna o b anterior\n",
    "    a, b = b, a + b\n",
    "    print(' ', b, end='')"
   ]
  },
  {
   "cell_type": "markdown",
   "id": "470da0b1-7271-4cbd-9209-5da48dcf2fdc",
   "metadata": {},
   "source": [
    "---"
   ]
  },
  {
   "cell_type": "markdown",
   "id": "e8fa1c24-bf36-4c70-9fb3-78239da3afe2",
   "metadata": {},
   "source": [
    "### Exemplo 2: O calendário Gregoriano"
   ]
  },
  {
   "cell_type": "markdown",
   "id": "20594c5b-bde5-4d42-9be5-6ad232873569",
   "metadata": {},
   "source": [
    "No calendário gregoriano, um *ano é bissexto* se for divisível por $4$, com a exceção de que anos divisíveis por $100$ *não são* anos bissextos, a menos que também sejam divisíveis por $400$."
   ]
  },
  {
   "cell_type": "markdown",
   "id": "9834741e-1db5-4fba-9ffc-241750cefbe7",
   "metadata": {},
   "source": [
    "Escreva um programa que determina se o ano é um ano bissexto."
   ]
  },
  {
   "cell_type": "markdown",
   "id": "bf4d05dd-48bb-4c4c-8dfa-a221aa7ba7ac",
   "metadata": {},
   "source": [
    "#### Solução"
   ]
  },
  {
   "cell_type": "code",
   "execution_count": 3,
   "id": "b75dc5a7-1655-4125-bbfb-7e2d2bccb0de",
   "metadata": {},
   "outputs": [
    {
     "name": "stdout",
     "output_type": "stream",
     "text": [
      "2024 is a leap year\n"
     ]
    }
   ],
   "source": [
    "year = 2024\n",
    "\n",
    "if not year % 400:\n",
    "    is_leap_year = True\n",
    "elif not year % 100:\n",
    "    is_leap_year = False \n",
    "elif not year % 4:\n",
    "    is_leap_year = True\n",
    "else: \n",
    "    is_leap_year = False\n",
    "\n",
    "s_ly = 'is a' if is_leap_year else 'is not a'\n",
    "print('{:4d} {:s} leap year'.format(year, s_ly))"
   ]
  },
  {
   "cell_type": "markdown",
   "id": "22f66929-fb9c-463b-883d-668e9ad4506c",
   "metadata": {},
   "source": [
    "Vamos destrinchar cada linha do código acima:"
   ]
  },
  {
   "cell_type": "markdown",
   "id": "447c49ee-02b7-487d-8a76-91597d63d841",
   "metadata": {},
   "source": [
    "1. `year = 2024`: Esta linha atribui o valor 2024 à variável `year`, que representa o ano que queremos verificar se é um ano bissexto ou não;\n",
    "   \n",
    "2. `if not year % 400:`: Esta linha verifica se o ano é divisível por $400$ **sem deixar um resto**. Se isso for verdadeiro (ou seja, se `year` for divisível por $400$ sem deixar resto), então **é um ano bissexto**. A expressão `not year % 400` é avaliada como verdadeira (`True`) se o ano for divisível por $400$ e falsa (`False`) caso contrário;\n",
    "\n",
    "3. `is_leap_year = True`: Se o ano for divisível por $400$, então atribuímos o valor `True` à variável `is_leap_year`, indicando que é um ano bissexto;\n",
    "\n",
    "4. `elif not year % 100:`: Se a condição anterior não for atendida, esta linha verifica se o ano é divisível por $100$ sem deixar um resto. Se for, então não é um ano bissexto;\n",
    "\n",
    "5. `is_leap_year = False`: Se o ano for divisível por $100$, atribuímos o valor `False` à variável `is_leap_year`, indicando que não é um ano bissexto;\n",
    "\n",
    "6. `elif not year % 4:`: Se nenhuma das condições anteriores for atendida, esta linha verifica se o ano é divisível por $4$ sem deixar um resto. Se isso for verdadeiro, então é um ano bissexto;\n",
    "\n",
    "7. `is_leap_year = True`: Se o ano for divisível por $4$, atribuímos o valor `True` à variável `is_leap_year`, indicando que é um ano bissexto;\n",
    "\n",
    "8. `else:`: Se nenhuma das condições anteriores for atendida, ou seja, se o ano não for divisível por $400$, nem por $100$, nem por $4$, então não é um ano bissexto;\n",
    "\n",
    "9. `is_leap_year = False`: Nesse caso, atribuímos o valor `False` à variável `is_leap_year`, indicando que não é um ano bissexto;\n",
    "\n",
    "10. `s_ly = 'is a' if is_leap_year else 'is not a'`: Esta linha cria uma string `s_ly` que contém a frase \"is a\" se `is_leap_year` for verdadeiro (indicando que o ano é bissexto), caso contrário, contém a frase \"is not a\" (indicando que o ano não é bissexto);\n",
    "\n",
    "11. `print('{:4d} {:s} leap year'.format(year, s_ly))`: Finalmente, esta linha imprime uma mensagem formatada que indica se o ano é ou não um ano bissexto, usando o valor de `year` e `s_ly`. Por exemplo, `\"2024 is a leap year\"`."
   ]
  },
  {
   "cell_type": "markdown",
   "id": "15ac6dbd-7ea3-4351-bfa4-507d375aacd2",
   "metadata": {},
   "source": [
    "---"
   ]
  },
  {
   "cell_type": "markdown",
   "id": "601202f5-f4f0-4ef2-b9ef-3a32a025bd18",
   "metadata": {},
   "source": [
    "### Exemplo 3: O algoritmo da divisão de Euclides"
   ]
  },
  {
   "cell_type": "markdown",
   "id": "0d37e95e-ffdf-4e16-95f4-cab036ad34ff",
   "metadata": {},
   "source": [
    "O algoritmo da divisão de Euclides é uma forma rápida de se determinar o $\\text{mdc}$ entre dois inteiros positivos. Define-se o *máximo divisor comum* $(\\text{mdc})$ entre dois números $a$ e $b$ como sendo o *maior número que divide* $a$ e $b$ simultaneamente. "
   ]
  },
  {
   "cell_type": "markdown",
   "id": "3ef0e8ec-6c2f-4b8f-83b3-a30e1fa917d7",
   "metadata": {},
   "source": [
    "Uma forma simples de se determinar o $\\text{mdc}$ entre dois números é fatorando ambos e multiplicando-os pelos seus fatores primos comuns. Por exemplo: "
   ]
  },
  {
   "cell_type": "markdown",
   "id": "7f82afe5-cc2b-49c3-9733-deabed79ea8e",
   "metadata": {},
   "source": [
    "- $36=2\\times2\\times3\\times3$;\n",
    "- $60=2\\times2\\times3\\times5$;"
   ]
  },
  {
   "cell_type": "markdown",
   "id": "e65e4451-fd00-47f9-a1f0-fd20e08cb1f5",
   "metadata": {},
   "source": [
    "$$\n",
    "\\text{mdc}(a,b)=2\\times2\\times3=12\\text{ }.\n",
    "$$"
   ]
  },
  {
   "cell_type": "markdown",
   "id": "ebe96af0-ec04-4385-be7b-d2d64c359ab6",
   "metadata": {},
   "source": [
    "Utilizando um loop do tipo `while`, implemente o algoritmo de Euclides."
   ]
  },
  {
   "cell_type": "markdown",
   "id": "a110e5b0-1e06-43c8-bd95-e91524cc77b2",
   "metadata": {},
   "source": [
    "#### Solução"
   ]
  },
  {
   "cell_type": "code",
   "execution_count": 4,
   "id": "02cd1173-f1c7-4be8-a02e-1e40800d8e1e",
   "metadata": {},
   "outputs": [
    {
     "name": "stdout",
     "output_type": "stream",
     "text": [
      "21\n"
     ]
    }
   ],
   "source": [
    "a, b = 1071, 462\n",
    "\n",
    "while b:\n",
    "    a, b = b, a%b\n",
    "\n",
    "print(a)"
   ]
  },
  {
   "cell_type": "markdown",
   "id": "e838a879-60d1-4c06-843c-49d3cca661cf",
   "metadata": {},
   "source": [
    "Vamos destrinchar cada linha do código acima:"
   ]
  },
  {
   "cell_type": "markdown",
   "id": "d24c3a97-84e8-40b1-b0c4-937700cfcc7f",
   "metadata": {},
   "source": [
    "1. `a, b = 1071, 462`: Esta linha atribui os valores $1071$ e $462$ às variáveis `a` e `b`, respectivamente. Esses são os dois números que queremos encontrar o máximo divisor comum (mdc);\n",
    "\n",
    "2. `while b:`: Este é um loop `while` que continua executando enquanto o valor de `b` for diferente de zero. O loop será interrompido quando `b` for zero, pois **zero é considerado falso em Python**;\n",
    "\n",
    "3. `a, b = b, a % b`: Dentro do loop, atualizamos os valores de `a` e `b`. A variável `a` recebe o valor de `b`, e `b` recebe o resto da divisão de `a` por `b`, calculado através do operador `%` (operador de módulo). Isso é feito repetidamente até que `b` seja zero;\n",
    "\n",
    "4. `print(a)`: Finalmente, o código imprime o valor final de `a`, que neste ponto representa o máximo divisor comum (mdc) entre os números iniciais $1071$ e $462$."
   ]
  },
  {
   "cell_type": "markdown",
   "id": "0ba94b80-20ed-478b-ba1f-cf90039363d2",
   "metadata": {},
   "source": [
    "**OBS:** O loop continua a executar até que `b` seja zero porque a condição `while b:` só será falsa quando `b` for zero. Quando `b` se torna zero, o loop termina. Em cada iteração, `b` é definido como o restante de `a//b` e então `a` é definido como o valor antigo de `b`. Lembre-se de que o número inteiro `0` é avaliado como booleano do tipo `False`, portanto, `while b:` é equivalente a `while b != 0:`."
   ]
  },
  {
   "cell_type": "markdown",
   "id": "431aa364-1311-48e4-90d7-58dd8f18300a",
   "metadata": {},
   "source": [
    "---"
   ]
  },
  {
   "cell_type": "markdown",
   "id": "1619ba7a-3d04-4e71-a316-1d492ee8821a",
   "metadata": {},
   "source": [
    "### Exemplo 4: A sequência do cortador preguiçoso"
   ]
  },
  {
   "cell_type": "markdown",
   "id": "aba4fe4d-3350-4efb-9ad5-d8ce0f1015d1",
   "metadata": {},
   "source": [
    "A *sequência do cortador preguiçoso*, $f(n)$, descreve o número máximo de pedaços em que uma pizza circular que pode ser dividida com um número crescente de cortes, $n$. Claramente, $f(0)=1$, $f(1)=2$ e $f(2)=4$. Para $n=3$, temos $f(3)=7$ (o número máximo de peças é formado se os cortes não se cruzarem em um ponto comum). Pode-se mostrar que fórmula de recursão geral é dada por: "
   ]
  },
  {
   "cell_type": "markdown",
   "id": "baacd9e3-886b-4f0b-9c6d-718753503b33",
   "metadata": {},
   "source": [
    "$$\\tag{2}\n",
    "f(n)=f(n-1)+n\\quad\\wedge\\quad f(n)=\\frac{1}{2}(n^{2}+n+2)\\text{ }.\n",
    "$$"
   ]
  },
  {
   "cell_type": "markdown",
   "id": "ed36063b-fbc7-437b-8f87-a476a938caed",
   "metadata": {},
   "source": [
    "Escreva um código que calcula o `n = 16` primeiros termos da sequência e imprima o resultado em uma lista crescente de valores da sequência."
   ]
  },
  {
   "cell_type": "markdown",
   "id": "66b78485-7d8b-4089-b4f1-427bda4f1242",
   "metadata": {},
   "source": [
    "#### Solução"
   ]
  },
  {
   "cell_type": "code",
   "execution_count": 5,
   "id": "0011d89c-0613-4ac9-ba53-d82447872a21",
   "metadata": {},
   "outputs": [
    {
     "name": "stdout",
     "output_type": "stream",
     "text": [
      "[1, 2, 4, 7, 11, 16, 22, 29, 37, 46, 56, 67, 79, 92, 106, 121]\n"
     ]
    }
   ],
   "source": [
    "def f(seq):\n",
    "    seq.append(seq[-1] + n)\n",
    "\n",
    "# f(0) = 1\n",
    "seq = [1]\n",
    "for n in range(1,16):\n",
    "    f(seq)\n",
    "\n",
    "print(seq)"
   ]
  },
  {
   "cell_type": "markdown",
   "id": "a890ab42-be44-4070-b3fe-cb4a4595b865",
   "metadata": {},
   "source": [
    "Vamos destrinchar cada linha do código acima:"
   ]
  },
  {
   "cell_type": "markdown",
   "id": "0d11d416-c2b3-4fba-841b-e7eff76d95bd",
   "metadata": {},
   "source": [
    "1. `def f(seq):`: Esta linha define uma função chamada `f` que recebe um argumento `seq`. Esta função irá adicionar ao final da lista seq o valor do último elemento da lista mais o valor de `n`;\n",
    "\n",
    "2. `seq = [1]`: Aqui, inicializamos a lista `seq` com um único elemento, o número $1$. Esta é a condição inicial para a sequência que queremos gerar;\n",
    "\n",
    "3. `for n in range(1, 16):`: Este loop for vai iterar sobre os números de $1$ a $15$ ($16$ é o limite superior, mas o último número não é incluído);\n",
    "\n",
    "4. `f(seq)`: Dentro do loop, chamamos a função `f` passando a lista `seq` como argumento. Isso significa que a função `f` será chamada $15$ vezes, uma vez para cada valor de `n` no intervalo de $1$ a $15$;\n",
    "\n",
    "5. Dentro da função `f`, o valor de `seq[-1] + n` será adicionado ao final da lista `seq`. Além disso, `seq[-1]` é o último elemento da lista seq, e `n` é o valor do loop atual;\n",
    "\n",
    "6. `print(seq)`: Após o loop, o código imprime a lista `seq`, que agora contém os números gerados pela função `f` durante as $15$ iterações."
   ]
  },
  {
   "cell_type": "markdown",
   "id": "a8014fc3-0829-4134-a03b-83c02a81cf34",
   "metadata": {},
   "source": [
    "**OBS:** A lista `seq` é mutável e, portanto, cresce cada vez que a função `f()` é chamada. O `n` referido nesta função é o nome encontrado no escopo global (o contador do loop `for`)."
   ]
  },
  {
   "cell_type": "markdown",
   "id": "fd341486-3d80-4ad0-b792-72ca0c794930",
   "metadata": {},
   "source": [
    "---"
   ]
  },
  {
   "cell_type": "markdown",
   "id": "4dce19b3-21af-47f0-a66d-255526da0c78",
   "metadata": {},
   "source": [
    "### Exemplo 5: Torre de Hanói"
   ]
  },
  {
   "cell_type": "markdown",
   "id": "17c342fc-4704-4786-be2d-5ff37130b9fa",
   "metadata": {},
   "source": [
    "O famoso problema da *Torre de Hanói* envolve três pinos (ou polos), um dos quais (pino $A$) é empilhado com $n$ discos circulares de tamanhos diferentes, em ordem decrescente de altura, com o maior na parte inferior. A tarefa é mover a pilha para o terceiro pólo (pino $C$) movendo um disco de cada vez, de forma que um disco maior nunca seja colocado sobre um disco menor. É necessário utilizar o segundo poste (pino $B$) como local de descanso intermediário dos discos."
   ]
  },
  {
   "cell_type": "markdown",
   "id": "46c74d70-73a5-4840-bc27-74732031286a",
   "metadata": {},
   "source": [
    "O problema pode ser resolvido usando o seguinte algoritmo recursivo. Rotule os discos $D_i$ com $D_1$ sendo o menor disco e $D_n$ o maior disco."
   ]
  },
  {
   "cell_type": "markdown",
   "id": "78ea2912-e3f1-45c5-86ab-0cbccfc747cf",
   "metadata": {},
   "source": [
    "1. Mova os discos $D_1,D_2,\\ldots,D_{n-1}$ de $A$ até $B$;\n",
    "2. Mova o disco $D_n$ de $A$ até $C$;\n",
    "3. Mova os discos $D_1,D_2,\\ldots,D_{n-1}$ de $B$ até $C$."
   ]
  },
  {
   "cell_type": "markdown",
   "id": "9d5f3b2b-162c-409f-b23d-af80cfe5e7e8",
   "metadata": {},
   "source": [
    "O segundo passo é um movimento único, mas o primeiro e o último requerem o movimento de uma pilha de $n−1$ discos de um pino para outro $-$ que é exatamente o que o próprio algoritmo resolve!"
   ]
  },
  {
   "cell_type": "markdown",
   "id": "7ae81226-62de-4204-8b99-854d7bb180f3",
   "metadata": {},
   "source": [
    "Escreva um código que implementa o algoritmo acima descrito. "
   ]
  },
  {
   "cell_type": "markdown",
   "id": "47a08b7c-d70b-412c-af0b-34abd65e38d3",
   "metadata": {},
   "source": [
    "#### Solução:"
   ]
  },
  {
   "cell_type": "markdown",
   "id": "57c2d5d9-c01b-4cf7-99a4-080d7bce7ae5",
   "metadata": {},
   "source": [
    "No código a seguir, identificamos os discos pelos inteiros $1,2,3,\\ldots$ armazenados em uma das três listas, `A`, `B` e `C`. O estado inicial do sistema, com todos os discos no pino `A` é denotado por, por exemplo, `A = [5,4,3,2,1]` onde o primeiro item indexado é o “fundo” do pino e o último item indexado é o “topo”. As regras do problema exigem que essas listas sejam sempre sequências *decrescentes*."
   ]
  },
  {
   "cell_type": "code",
   "execution_count": 6,
   "id": "11098958-f7cb-46ab-923a-f3dcdd323a90",
   "metadata": {},
   "outputs": [],
   "source": [
    "def Hanoi(n, P1, P2, P3):\n",
    "    \"\"\" Move n discos do pino P1 para o pino P3. \"\"\"\n",
    "    if n == 0:\n",
    "        # Não há mais discos para mover nesta etapa\n",
    "        return\n",
    "\n",
    "    global count\n",
    "    count += 1\n",
    "\n",
    "    # Move n-1 discos de P1 para P2\n",
    "    Hanoi(n-1, P1, P3, P2)\n",
    "\n",
    "    if P1:\n",
    "        # Move o disco de P1 para P3\n",
    "        P3.append(P1.pop())\n",
    "        print(A, B, C)\n",
    "\n",
    "    # Move n-1 discos de P2 para P3\n",
    "    Hanoi(n-1, P2, P1, P3)"
   ]
  },
  {
   "cell_type": "markdown",
   "id": "15e1db5f-76f3-4a30-8fb6-2af908c3a6c4",
   "metadata": {},
   "source": [
    "Observe que a função `Hanoi` apenas move uma pilha de discos de um pino para outro: listas (representando os pinos) são passadas para ela em alguma ordem e ela move os discos do pino representado pela primeira lista, conhecida localmente como `P1`, àquela representada pelo terceiro (`P3`). Não é necessário saber qual lista é `A`, `B` ou `C`."
   ]
  },
  {
   "cell_type": "code",
   "execution_count": 7,
   "id": "3b108d03-beb1-434e-b865-f66db2395d25",
   "metadata": {},
   "outputs": [
    {
     "name": "stdout",
     "output_type": "stream",
     "text": [
      "[3, 2, 1] [] []\n",
      "[3, 2] [] [1]\n",
      "[3] [2] [1]\n",
      "[3] [2, 1] []\n",
      "[] [2, 1] [3]\n",
      "[1] [2] [3]\n",
      "[1] [] [3, 2]\n",
      "[] [] [3, 2, 1]\n",
      "7\n"
     ]
    }
   ],
   "source": [
    "# Inicialize os pinos: todos os n discos estão no pólo A.\n",
    "n = 3\n",
    "A = list(range(n,0,-1))\n",
    "B, C = [], []\n",
    "\n",
    "print(A, B, C)\n",
    "count = 0\n",
    "Hanoi(n, A, B, C)\n",
    "print(count)"
   ]
  },
  {
   "cell_type": "markdown",
   "id": "8c268b28-bf27-4113-8aeb-ec8b42e68cb2",
   "metadata": {},
   "source": [
    "---"
   ]
  },
  {
   "cell_type": "markdown",
   "id": "0a5bd150-b837-4c45-b36f-885ca72b163f",
   "metadata": {},
   "source": [
    "### $\\star$ Desafio: Uma simples \"tartaruga\""
   ]
  },
  {
   "cell_type": "markdown",
   "id": "b6e0c26c-c675-480a-b58c-f041b08fc08c",
   "metadata": {},
   "source": [
    "Um simples robô virtual \"tartaruga\" vive em um plano bidimensional infinito no qual sua localização é sempre um par inteiro de coordenadas $(x,y)$. Ele pode enfrentar apenas em direções paralelas aos eixos $x$ e $y$ (ou seja, 'Norte', 'Leste', 'Sul' ou 'Oeste') e compreende quatro comandos:"
   ]
  },
  {
   "cell_type": "markdown",
   "id": "8e9b1d3e-5aa7-4f86-9c97-da2513b09362",
   "metadata": {},
   "source": [
    "- `F`: avance uma unidade;\n",
    "- `L`: vire à esquerda (sentido anti-horário) em $90^{\\circ}$;\n",
    "- `R`: vire à direita (sentido horário) em $90^{\\circ}$;\n",
    "- `S`: pare e saia."
   ]
  },
  {
   "cell_type": "markdown",
   "id": "51582edf-14e9-4be7-b9a3-240a81bf9824",
   "metadata": {},
   "source": [
    "Escreva um código que pega uma lista desses comandos como uma string e rastreia a localização da tartaruga. A tartaruga deve começar no ponto de coordenadas $(0,0)$, voltada na direção $(1,0)$ (\"Leste\"). Além disso, o seu programa de ignorar (porém avisar sobre) comandos inválidos e informar quando a tartaruga cruza seu próprio caminho."
   ]
  },
  {
   "cell_type": "markdown",
   "id": "eff7430e-9509-4b72-ae8a-c5a4c65aece9",
   "metadata": {},
   "source": [
    "#### Solução"
   ]
  },
  {
   "cell_type": "markdown",
   "id": "e1a6587c-b2fb-4078-a579-5ab07d9bf004",
   "metadata": {},
   "source": [
    "Algumas notas importantes para o bom entendimento do código abaixo:"
   ]
  },
  {
   "cell_type": "markdown",
   "id": "dc01b277-e304-4223-b4de-80e4115c29fa",
   "metadata": {},
   "source": [
    "- Podemos iterar os comandos de string para pegar seus caracteres, um de cada vez;\n",
    "\n",
    "- A cláusula `else`: do loop `for` só é executada se não sairmos dela ao encontrar um comando `STOP`;\n",
    "\n",
    "- Descompactamos a lista de tuplas, `locs`, em sequências separadas das coordenadas $x$ e $y$ com `zip(*locs)`."
   ]
  },
  {
   "cell_type": "code",
   "execution_count": 8,
   "id": "1e994689-ecb5-41c3-baaa-4d1998960ea1",
   "metadata": {},
   "outputs": [
    {
     "name": "stdout",
     "output_type": "stream",
     "text": [
      "Unknown command: X\n",
      "Path crosses itself at: (1, 0)\n",
      " *****\n",
      " *   *\n",
      " *   *\n",
      "******\n",
      " *    \n",
      " *    \n",
      " *    \n",
      " *    \n"
     ]
    }
   ],
   "source": [
    "commands = 'FFFFFLFFFLFFFFRRRFXFFFFFFS'\n",
    "\n",
    "# Localização atual, direção atual para a qual a tartaruga está \"olhando\"\n",
    "x, y = 0, 0\n",
    "dx, dy = 1, 0\n",
    "# Acompanhe a localização da tartaruga na lista de tuplas, locs\n",
    "locs = [(0, 0)]\n",
    "\n",
    "for cmd in commands:\n",
    "    if cmd == 'S':\n",
    "        # Comando de parada\n",
    "        break\n",
    "    if cmd == 'F':\n",
    "        # Avança na direção atual\n",
    "        x += dx\n",
    "        y += dy\n",
    "        if (x, y) in locs:\n",
    "            print('Path crosses itself at: ({}, {})'.format(x,y))\n",
    "        locs.append((x,y))\n",
    "        continue\n",
    "    if cmd == 'L':\n",
    "        # Vire para a esquerda (sentido anti-horário).\n",
    "        # L => (dx, dy): (1,0) -> (0, 1) -> (-1,0) -> (0,-1) -> (1,0)\n",
    "        dx, dy = -dy, dx\n",
    "        continue\n",
    "    if cmd == 'R':\n",
    "        # Vire para a direita (sentido horário).\n",
    "        # R => (dx, dy): (1,0) -> (0,-1) -> (-1,0) -> (0, 1) -> (1,0)\n",
    "        dx, dy = dy, -dx\n",
    "        continue\n",
    "    # Se estamos aqui é porque não reconhecemos o comando: avisar\n",
    "    print('Unknown command:', cmd)\n",
    "else:\n",
    "    # Esgotamos os comandos sem encontrar um S para STOP\n",
    "    print('Instructions ended without a STOP')\n",
    "\n",
    "\n",
    "\n",
    "########################################################################\n",
    "\n",
    "\n",
    "\n",
    "# Trace um caminho de asteriscos\n",
    "# Primeiro encontre o intervalo total de valores x e y encontrados\n",
    "x, y = zip(*locs)\n",
    "xmin, xmax = min(x), max(x)\n",
    "ymin, ymax = min(y), max(y)\n",
    "# O tamanho da grade necessário para o gráfico é (nx, ny)\n",
    "nx = xmax - xmin + 1\n",
    "ny = ymax - ymin + 1\n",
    "# Inverta o eixo y para que ele diminua *para baixo* na tela\n",
    "for iy in reversed(range(ny)):\n",
    "    for ix in range(nx):\n",
    "        if (ix+xmin, iy+ymin) in locs:\n",
    "            print('*', end = '')\n",
    "        else:\n",
    "            print(' ', end = '')\n",
    "    print()"
   ]
  },
  {
   "cell_type": "markdown",
   "id": "55da21e3-7a34-49e8-b3c6-339d40fffc1d",
   "metadata": {},
   "source": [
    "---"
   ]
  },
  {
   "cell_type": "markdown",
   "id": "78055032-3d7a-4c09-a830-f9f0ba87729c",
   "metadata": {},
   "source": [
    "![Good Job](img/Good_Job.jpg \"Good_Job\")"
   ]
  }
 ],
 "metadata": {
  "kernelspec": {
   "display_name": "Python 3 (ipykernel)",
   "language": "python",
   "name": "python3"
  },
  "language_info": {
   "codemirror_mode": {
    "name": "ipython",
    "version": 3
   },
   "file_extension": ".py",
   "mimetype": "text/x-python",
   "name": "python",
   "nbconvert_exporter": "python",
   "pygments_lexer": "ipython3",
   "version": "3.9.8"
  }
 },
 "nbformat": 4,
 "nbformat_minor": 5
}
