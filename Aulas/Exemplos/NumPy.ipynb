{
 "cells": [
  {
   "cell_type": "markdown",
   "id": "32f5974b-efc1-42cb-a7e5-23cca84639b8",
   "metadata": {},
   "source": [
    "# Introdução a Programação Científica em Python"
   ]
  },
  {
   "cell_type": "markdown",
   "id": "5f71d962-c7b9-451a-923b-039687ccdf2d",
   "metadata": {},
   "source": [
    "#### Lista de Exemplos"
   ]
  },
  {
   "cell_type": "markdown",
   "id": "c6b1bc0b-90eb-49dd-be32-4ae937341777",
   "metadata": {},
   "source": [
    "- **Dia 3:** *NumPy*"
   ]
  },
  {
   "cell_type": "code",
   "execution_count": 1,
   "id": "63c8b5e5-ec26-4e89-83f1-cdbf0561166e",
   "metadata": {},
   "outputs": [
    {
     "name": "stdout",
     "output_type": "stream",
     "text": [
      "Versão do NumPy = 1.21.6\n"
     ]
    }
   ],
   "source": [
    "import numpy as np\n",
    "\n",
    "print('Versão do NumPy =', np.__version__)"
   ]
  },
  {
   "cell_type": "markdown",
   "id": "8a7b5571-509a-4e5e-8caa-36b196af0b09",
   "metadata": {},
   "source": [
    "---"
   ]
  },
  {
   "cell_type": "markdown",
   "id": "382be4db-96cd-457d-a95d-acd447561920",
   "metadata": {},
   "source": [
    "### Exemplo 1: Quadrados mágicos e Sudoku"
   ]
  },
  {
   "cell_type": "markdown",
   "id": "01358df2-6ff0-4b66-a60a-569324b75225",
   "metadata": {},
   "source": [
    "**a)** Um *quadrado mágico* é uma grade $N\\times N$ de números em que as entradas em cada linha, coluna e diagonal principal somam o mesmo número (igual a $N(N2+1)/2)$. Um método para construir um quadrado mágico para $N$ ímpar é o seguinte:"
   ]
  },
  {
   "cell_type": "markdown",
   "id": "d30a5f1b-7e29-4c9f-9585-082a6d3e2de1",
   "metadata": {},
   "source": [
    "> **Passo 1:** Comece no meio da linha superior e deixe $n=1$;\n",
    "\n",
    "> **Passo 2:** Insira n na posição atual da grade;\n",
    "\n",
    "> **Passo 3:** Se $n=N^{2}$ a grade está completa, então pare. Caso contrário, incremente $n$;\n",
    "\n",
    "> **Passo 4:** Mova-se diagonalmente para cima e para a direita, passando para a primeira coluna ou última linha se o movimento sair da grade. Se esta célula já estiver preenchida, mova verticalmente um espaço para baixo;\n",
    "\n",
    "> **Passo 5:** Retorne passo 2."
   ]
  },
  {
   "cell_type": "markdown",
   "id": "9502fe28-ac09-4f87-b016-98c7ea00bdd6",
   "metadata": {},
   "source": [
    "Escreva um programa que cria um quadrado mágico:"
   ]
  },
  {
   "cell_type": "code",
   "execution_count": 2,
   "id": "0fc9e0af-7ad8-489e-96af-3890f61ae1a4",
   "metadata": {},
   "outputs": [],
   "source": [
    "# SEU CÓDIGO AQUI"
   ]
  },
  {
   "cell_type": "markdown",
   "id": "c5b3d4a7-35f2-4713-9a86-1d01ba77f95b",
   "metadata": {},
   "source": [
    "**b)** Um quadrado *Sudoku* consiste em uma grade $9\\times9$ com entradas tais que cada linha, coluna e cada uma das $9$ peças $3\\times3$ não sobrepostas contêm os números de $1$ a $9$ apenas uma vez."
   ]
  },
  {
   "cell_type": "markdown",
   "id": "8d55ae10-682b-41c2-9584-066824220cce",
   "metadata": {},
   "source": [
    "Escreva um programa que verifica se uma grade fornecida é um quadrado Sudoku válido."
   ]
  },
  {
   "cell_type": "code",
   "execution_count": 3,
   "id": "9fd71c03-7c52-4606-b4b2-952312375197",
   "metadata": {},
   "outputs": [],
   "source": [
    "# SEU CÓDIGO AQUI"
   ]
  },
  {
   "cell_type": "markdown",
   "id": "468e738b-72f3-47ac-92a8-9036d8687e0e",
   "metadata": {},
   "source": [
    "---"
   ]
  },
  {
   "cell_type": "markdown",
   "id": "3f8a3bcb-c45c-4ecc-b479-47d6af69e8c1",
   "metadata": {},
   "source": [
    "### Exemplo 2: Método `loadtxt()` do NumPy"
   ]
  },
  {
   "cell_type": "markdown",
   "id": "c28332f8-fda9-4223-af8f-30c8bbd4ce6d",
   "metadata": {},
   "source": [
    "O uso de np.loadtxt é melhor ilustrado com um exemplo. Considere o seguinte arquivo de texto de dados relativos a uma população (fictícia) de estudantes. Este arquivo pode ser baixado como [`eg6-a-student-data.txt`](https://scipython.com/eg/bac)."
   ]
  },
  {
   "cell_type": "markdown",
   "id": "38811cc4-0537-45a7-aa72-2e1cd146a40f",
   "metadata": {},
   "source": [
    "```\n",
    "# Student data collected on 17 July 2014.\r\n",
    "# Researcher: Dr Wicks, University College Newbury.\r\n",
    "\r\n",
    "# The following data relate to N = 20 students. It\r\n",
    "# has been totally made up and so therefore is 100%\r\n",
    "# anonymous.\r\n",
    "\r\n",
    "Subject Sex    DOB      Height  Weight       BP     VO2max\r\n",
    "(ID)    M/F  dd/mm/yy     m       kg        mmHg  mL.kg-1.min-1\r\n",
    "JW-1     M    19/12/95    1.82     92.4    119/76   39.3\r\n",
    "JW-2     M    11/1/96     1.77     80.9    114/73   35.5\r\n",
    "JW-3     F    2/10/95     1.68     69.7    124/79   29.1\r\n",
    "JW-6     M    6/7/95      1.72     75.5    110/60   45.5\r\n",
    "# JW-7    F    28/3/96     1.66     72.4    101/68   -\r\n",
    "JW-9     F    11/12/95    1.78     82.1    115/75   32.3\r\n",
    "JW-10    F    7/4/96      1.60     -       -/-      30.1\r\n",
    "JW-11    M    22/8/95     1.72     77.2    97/63    48.8\r\n",
    "JW-12    M    23/5/96     1.83     88.9    105/70   37.7\r\n",
    "JW-14    F    12/1/96     1.56     56.3    108/72   26.0\r\n",
    "JW-15    F    1/6/96      1.64     65.0    99/67    35.7\r\n",
    "JW-16    M    10/9/95     1.63     73.0    131/84   29.9\r\n",
    "JW-17    M    17/2/96     1.67     89.8    101/76   40.2\r\n",
    "JW-18    M    31/7/96     1.66     75.1    -/-      -\r\n",
    "JW-19    F    30/10/95    1.59     67.3    103/69   33.5\r\n",
    "JW-22    F    9/3/96      1.70     -       119/80   30.9\r\n",
    "JW-23    M    15/5/95     1.97     89.2    124/82   -\r\n",
    "JW-24    F    1/12/95     1.66     63.8    100/78   -\r\n",
    "JW-25    F    25/10/95    1.63     64.4    -/-      28.0\r\n",
    "JW-26    M    17/4/96     1.69     -       121/82   39.\n",
    "```"
   ]
  },
  {
   "cell_type": "markdown",
   "id": "4e69ce8f-5586-41e3-a916-5223e8e36ead",
   "metadata": {},
   "source": [
    "Encontre as alturas médias dos alunos do sexo masculino e feminino."
   ]
  },
  {
   "cell_type": "code",
   "execution_count": 7,
   "id": "55be04de-9327-4557-a8cc-a6f6bfdd873d",
   "metadata": {},
   "outputs": [],
   "source": [
    "# SEU CÓDIGO AQUI"
   ]
  },
  {
   "cell_type": "markdown",
   "id": "93378675-d672-447e-a155-224689cebdfd",
   "metadata": {},
   "source": [
    "---"
   ]
  },
  {
   "cell_type": "markdown",
   "id": "52a5f4d4-3a2c-4036-bc56-692c9860650f",
   "metadata": {},
   "source": [
    "### Exemplo 3: Polinômios e ajustes polinomiais"
   ]
  },
  {
   "cell_type": "markdown",
   "id": "b91ea92d-f9de-4788-85a9-312a054bc7ce",
   "metadata": {},
   "source": [
    "### PARTE I: Altura do líquido de um tanque esférico"
   ]
  },
  {
   "cell_type": "markdown",
   "id": "cdb9cd4d-ad66-4e7a-947f-155b54d78d1a",
   "metadata": {},
   "source": [
    "Os tanques utilizados no armazenamento de líquidos criogênicos e combustível de foguete são frequentemente esféricos (por quê?). Suponha que um tanque esférico específico tenha raio $R$ e esteja cheio de líquido até uma altura $h$. É (bastante) fácil encontrar uma fórmula para o volume de líquido a partir da altura:"
   ]
  },
  {
   "cell_type": "markdown",
   "id": "c8192141-8fa9-42aa-8e32-94a307b1138e",
   "metadata": {},
   "source": [
    "$$\\tag{3.1}\n",
    "V=\\pi Rh^{2}-\\frac{1}{3}\\pi h^{3}\\text{ }.\n",
    "$$"
   ]
  },
  {
   "cell_type": "markdown",
   "id": "667ebeca-71f8-4634-b382-af9fe95dc29e",
   "metadata": {},
   "source": [
    "Suponha que haja um *fluxo constante* de líquido do tanque a uma taxa $F=−\\text{d}V/\\text{d}t$. Como a altura do líquido, $h$, varia com o tempo? Diferenciando a Equação $(3.1)$ com relção a $t$ obtemos:"
   ]
  },
  {
   "cell_type": "markdown",
   "id": "b631652f-be79-4321-8368-41c4aca415d1",
   "metadata": {},
   "source": [
    "$$\\tag{3.2}\n",
    "\\left(2\\pi Rh-\\pi h^{2}\\right)\\frac{\\text{d}h}{\\text{d}t}=-F\\text{ }.\n",
    "$$"
   ]
  },
  {
   "cell_type": "markdown",
   "id": "a7dfdadc-997b-4d15-ac60-ad3e864b51ae",
   "metadata": {},
   "source": [
    "Se iniciarmos a evolução temporal com um tanque cheio $(h=2R)$ no instante inicial $t=0$, a EDO (Equação Diferencial Ordinária) $(3.2)$ pode ser intergrada de forma a obter a seguinte equação:"
   ]
  },
  {
   "cell_type": "markdown",
   "id": "55d84ecd-4246-4d5d-b83d-308d768c5abe",
   "metadata": {},
   "source": [
    "$$\\tag{3.3}\n",
    "-\\frac{1}{3}\\pi h^{3}+\\pi Rh^{2}+\\left[F(t)-\\frac{4}{3}\\pi R^{3}\\right]=0\\text{ }.\n",
    "$$"
   ]
  },
  {
   "cell_type": "markdown",
   "id": "aceb7c43-c3bd-4458-8d09-cea2e0b8b64d",
   "metadata": {},
   "source": [
    "O volume total de líquido no tanque cheio é $V_0=\\frac{4}{3}\\pi R^{3}$. Claramente, o tanque está vazio quando $h=0$, o que ocorre no instante $t=T=V_0/F$, uma vez que a vazão é constante. Em qualquer momento específico, $t$, podemos encontrar $h$ encontrando as raízes da Equação $(3.3)$."
   ]
  },
  {
   "cell_type": "markdown",
   "id": "77c20c98-e62e-485c-8b89-47a5a0fe1625",
   "metadata": {},
   "source": [
    "A Equação $(3.3)$ é uma equação cúbica (polinomial de grau $3$) em $h$. Como esta equação não pode ser invertida analiticamente para $h$, use a classe `Polynomial` do NumPy para encontrar $h(t)$, dado um tanque de raio $R=1.5\\text{ m}$ do qual o líquido está sendo retirado a $200\\text{ cm}^{3}\\text{ s}^{−1}$."
   ]
  },
  {
   "cell_type": "code",
   "execution_count": 4,
   "id": "7e468055-e0cb-4454-a8b4-5f2f1521af72",
   "metadata": {},
   "outputs": [],
   "source": [
    "# SEU CÓDIGO AQUI"
   ]
  },
  {
   "cell_type": "markdown",
   "id": "05322dd8-7768-4d67-afde-b247ea4b9b47",
   "metadata": {},
   "source": [
    "### PARTE II: Ajustes lineares e concentrações químicas"
   ]
  },
  {
   "cell_type": "markdown",
   "id": "59ceff6c-60c7-41f6-bfa7-5637a5d11a89",
   "metadata": {},
   "source": [
    "**a)** Um melhor ajuste de linha reta é apenas um caso especial de ajuste de mínimos quadrados polinomiais (com `deg = 1`). Considere os seguintes dados que fornecem a absorbância ao longo de um caminho de $55\\text{ mm}$ de luz UV a $280\\text{ nm}$, $A$, por uma proteína em função da concentração, $[\\text{P}]$:"
   ]
  },
  {
   "cell_type": "markdown",
   "id": "67a198c8-2047-4887-9f5d-65b7250b2b4f",
   "metadata": {},
   "source": [
    "| $[\\text{P}]\\text{ }\\mu\\text{g}/\\text{mL}$ | $A$      |\r\n",
    "|-------------------------------------------|----------|\r\n",
    "| $0$                                       | $2.287$  |\r\n",
    "| $20$                                      | $3.528$  |\r\n",
    "| $40$                                      | $4.336$  |\r\n",
    "| $80$                                      | $6.909$  |\r\n",
    "| $120$                                     | $8.274$  |\r\n",
    "| $180$                                     | $12.855$ |\r\n",
    "| $260$                                     | $16.085$ |\r\n",
    "| $400$                                     | $24.797$ |\r\n",
    "| $800$                                     | $49.058$ |\r\n",
    "| $1500$                                    | $89.400$ |"
   ]
  },
  {
   "cell_type": "markdown",
   "id": "8d30e218-d7f7-47b4-8686-bafc8439fb64",
   "metadata": {},
   "source": [
    "Espera-se que a absorvância esteja linearmente relacionada com a concentração de proteína:"
   ]
  },
  {
   "cell_type": "markdown",
   "id": "08499c35-2165-4542-b388-e935eedc0d1a",
   "metadata": {},
   "source": [
    "$$\\tag{3.4}\n",
    "A=m[\\text{P}]+A_0\\text{ }, \n",
    "$$"
   ]
  },
  {
   "cell_type": "markdown",
   "id": "a7840c52-32a5-43e9-8fda-96a3e2a35497",
   "metadata": {},
   "source": [
    "onde $A_0$ é a absorvância na ausência de proteína (por exemplo, devido ao solvente e aos componentes experimentais). Dado o exposto, faça um ajuste linear nos dados apresentados na Tabela acima."
   ]
  },
  {
   "cell_type": "code",
   "execution_count": 5,
   "id": "280fa4ee-8959-4c96-95f1-83b25d31906a",
   "metadata": {},
   "outputs": [],
   "source": [
    "# SEU CÓDIGO AQUI"
   ]
  },
  {
   "cell_type": "markdown",
   "id": "b1696ff1-73c0-45e7-890e-6b4a105813d2",
   "metadata": {},
   "source": [
    "**b)** A lei de Beer-Lambert relaciona a concentração, $[\\text{X}]=c$, de uma substância em uma amostra de solução com a intensidade da luz transmitida através da amostra, $I(t)=I_t$, através de um determinado comprimento de caminho, $\\ell$, em um determinado comprimento de onda, $\\lambda$:"
   ]
  },
  {
   "cell_type": "markdown",
   "id": "a8d1b7f4-acdc-4011-8889-6d27f666477d",
   "metadata": {},
   "source": [
    "$$\\tag{3.5}\n",
    "I_t=I_0 e^{-\\alpha c\\ell}\\text{ },\n",
    "$$"
   ]
  },
  {
   "cell_type": "markdown",
   "id": "cd732b46-ab80-413e-85a1-352348827219",
   "metadata": {},
   "source": [
    "onde $I_0$ é a intensidade da luz incidente e $\\alpha$ é o coeficiente de absorção em $\\lambda$."
   ]
  },
  {
   "cell_type": "markdown",
   "id": "fccca953-6573-4bde-9060-ab31313ac3b6",
   "metadata": {},
   "source": [
    "Dada uma série de medições da fração de luz transmitida, $I_t/I_0$, α pode ser determinado através de mínimos quadrados ajustados à linha reta:"
   ]
  },
  {
   "cell_type": "markdown",
   "id": "d927ee92-3e43-41be-b0dc-6099609f26a9",
   "metadata": {},
   "source": [
    "$$\\tag{3.6}\n",
    "y=\\ln{\\left(\\frac{I_t}{I_0}\\right)}=-\\alpha c\\ell\\text{ }.\n",
    "$$"
   ]
  },
  {
   "cell_type": "markdown",
   "id": "1c806142-efca-40ba-b85a-612ab6fdf755",
   "metadata": {},
   "source": [
    "Embora esta reta passe pela origem ($y=0$ para $c=0$), ajustaremos a relação linear mais geral: $y=mc+k$, onde $m=-\\alpha\\ell$, e verifica que $k$ é próximo de zero."
   ]
  },
  {
   "cell_type": "markdown",
   "id": "aa00d4ec-6dde-4e72-9bc3-1f38c2dbbe64",
   "metadata": {},
   "source": [
    "Dada uma amostra com comprimento de caminho $\\ell=0.8\\text{ cm}$, os seguintes dados foram medidos para $I_t/I_0$ em cinco concentrações diferentes:"
   ]
  },
  {
   "cell_type": "markdown",
   "id": "cab54cad-ec1c-43a9-b517-5a1a6b3d685f",
   "metadata": {},
   "source": [
    "| $c\\text{ }[\\text{M}]$ | $I_t/I_0$ |\r\n",
    "|-----------------------|-----------|\r\n",
    "| $0.4$                 | $0.886$   |\r\n",
    "| $0.6$                 | $0.833$   |\r\n",
    "| $0.8$                 | $0.784$   |\r\n",
    "| $1.0$                 | $0.738$   |\r\n",
    "| $1.2$                 | $0.694$   | $89.400$ |"
   ]
  },
  {
   "cell_type": "markdown",
   "id": "790feb2c-1369-4546-9977-f0ab53072bc0",
   "metadata": {},
   "source": [
    "A forma matricial da equação de mínimos quadrados a ser resolvida é"
   ]
  },
  {
   "cell_type": "markdown",
   "id": "765e7dbb-f1bf-4ca1-9573-71dec7c94fd8",
   "metadata": {},
   "source": [
    "$$\\tag{3.7}\n",
    "\\begin{align*}\n",
    "\\left(\\begin{array}{ll}\n",
    "c_1 & 1\\\\\n",
    "c_2 & 1\\\\\n",
    "c_3 & 1\\\\\n",
    "c_4 & 1\\\\\n",
    "c_5 & 1\\\\\n",
    "\\end{array}\\right)\n",
    "\\left(\\begin{array}{l}\n",
    "m \\\\ k\n",
    "\\end{array}\\right)\n",
    "=\n",
    "\\left(\\begin{array}{ll}\n",
    "T_1\\\\\n",
    "T_2\\\\\n",
    "T_3\\\\\n",
    "T_4\\\\\n",
    "T_5\\\\\n",
    "\\end{array}\\right)\n",
    "\\end{align*}\n",
    "\\quad,\\quad\n",
    "\\text{onde: }\\text{ }T=\\ln{\\left(\\frac{I_t}{I_0}\\right)}\n",
    "$$"
   ]
  },
  {
   "cell_type": "markdown",
   "id": "d11acf99-9d7c-4d72-ac7d-5e0332ae0b5d",
   "metadata": {},
   "source": [
    "Escreva um código que determina $m$ e $\\alpha$ usando a função `np.linalg.lstsq`."
   ]
  },
  {
   "cell_type": "code",
   "execution_count": 6,
   "id": "6b70cd0f-008b-4954-8cc8-9dc2ee7d54d6",
   "metadata": {},
   "outputs": [],
   "source": [
    "# SEU CÓDIGO AQUI"
   ]
  },
  {
   "cell_type": "markdown",
   "id": "08e5ba66-083b-4164-8b5f-a8d1b3dace4c",
   "metadata": {},
   "source": [
    "---"
   ]
  },
  {
   "cell_type": "markdown",
   "id": "328920d8-0204-436e-b748-df98cd24b720",
   "metadata": {},
   "source": [
    "### Exemplo 4: Operações matriciais"
   ]
  },
  {
   "cell_type": "markdown",
   "id": "932e53df-3368-4165-9515-8a87f291e631",
   "metadata": {},
   "source": [
    "### PARTE I: Análise de malha de uma rede elétrica"
   ]
  },
  {
   "cell_type": "markdown",
   "id": "a12ee0bd-e38c-424e-8c87-1ed2e6ad73e6",
   "metadata": {},
   "source": [
    "As correntes que fluem nas regiões fechadas denominadas $I_1$, $I_2$ e $I_3$ do circuito abaixo podem ser analisadas por *análise de malha*."
   ]
  },
  {
   "cell_type": "markdown",
   "id": "91bc9a65-82b3-47c7-9d89-90b3dc5eae04",
   "metadata": {},
   "source": [
    "![Electrical Network](img/electrical-network.png)"
   ]
  },
  {
   "cell_type": "markdown",
   "id": "0a8f8d52-c865-41d9-a9cb-ae2ba54cced0",
   "metadata": {},
   "source": [
    "Para cada malha fechada, podemos aplicar a *Lei de Tensão de Kirchhoff*, $\\sum_{k}V_k=0$, em conjunto com a Lei de Ohm, $V=IR$, para obter três equações simultâneas:"
   ]
  },
  {
   "cell_type": "markdown",
   "id": "f8bb1af6-2b29-47c7-847c-356a88f2f083",
   "metadata": {},
   "source": [
    "$$\\tag{4.1}\n",
    "\\begin{align*}\n",
    "50I_1 - 30I_3 &= 80 \\text{ }, \\\\\n",
    "40I_2 - 20I_3 &= 80 \\text{ }, \\\\\n",
    "-30I_1 - 20I_2 + 100I_3 &= 0 \\text{ }.\n",
    "\\end{align*}\n",
    "$$"
   ]
  },
  {
   "cell_type": "markdown",
   "id": "ce26e91e-66c2-4581-b2f1-b190d408a37f",
   "metadata": {},
   "source": [
    "O sistema $(4.1)$ pode ser expresso na forma matricial como $\\mathbf{R}\\mathbf{I} = \\mathbf{V}$:"
   ]
  },
  {
   "cell_type": "markdown",
   "id": "32097763-c0d3-4eb7-bc42-0bc8f85e3b94",
   "metadata": {},
   "source": [
    "$$\\tag{4.2}\n",
    "\\left( \\begin{array}{rrr}50 & 0 & -30\\\\0 & 40 & -20\\\\-30 & -20 & 100\\end{array} \\right)\n",
    "\\left( \\begin{array}{l}I_1 \\\\ I_2 \\\\ I_3\\end{array}\\right)\n",
    " = \\left( \\begin{array}{l}80 \\\\ 80 \\\\ 0\\end{array}\\right)\\text{ },\n",
    "$$"
   ]
  },
  {
   "cell_type": "markdown",
   "id": "b6deac29-796b-40ce-8ca1-5623dd2742a0",
   "metadata": {},
   "source": [
    "uma forma de obter as correntes de loop, $\\mathbf{I}$, seria usando o método `np.linalg.solve` que é numericamente estável. Entretanto, uma forma alternativa de determinar as correntes de loop, é através da multiplicação à esquerda pela matriz inversa $\\mathbf{R^{-1}}$:"
   ]
  },
  {
   "cell_type": "markdown",
   "id": "2fabc965-17ae-4274-ad7d-1417ebac1c3f",
   "metadata": {},
   "source": [
    "$$\\tag{4.3}\n",
    "\\mathbf{R^{-1}}\\mathbf{R}\\mathbf{I} = \\mathbf{I} = \\mathbf{R^{-1}}\\mathbf{V}\\text{ }.\n",
    "$$"
   ]
  },
  {
   "cell_type": "markdown",
   "id": "0d5a8005-90e0-4452-9450-c1820c733d7a",
   "metadata": {},
   "source": [
    "Escreva um código que determina as correntes de loop através da Equação $(4.3)$:"
   ]
  },
  {
   "cell_type": "code",
   "execution_count": 8,
   "id": "91fc3693-6b5c-467b-ac08-63842c1be23e",
   "metadata": {},
   "outputs": [],
   "source": [
    "# SEU CÓDIGO AQUI"
   ]
  },
  {
   "cell_type": "markdown",
   "id": "f75c8762-beca-4563-ab5c-ded16c3dabbc",
   "metadata": {},
   "source": [
    "### PARTE II: Matriz de rotação"
   ]
  },
  {
   "cell_type": "markdown",
   "id": "bc3e06f3-a963-4e59-8612-722b215a1288",
   "metadata": {},
   "source": [
    "A matriz de rotação bidimensional que gira pontos no plano $xy$ no sentido anti-horário através de um ângulo $\\theta$ em torno da origem é:"
   ]
  },
  {
   "cell_type": "markdown",
   "id": "19958b0a-c6b5-4782-8997-fac06866e9d6",
   "metadata": {},
   "source": [
    "$$\\tag{4.4}\n",
    "\\mathbf{R} = \n",
    "\\left(\\begin{array}{rr}\\cos\\theta & -\\sin\\theta\\\\ \\sin\\theta & \\cos\\theta \\end{array}\\right)\n",
    "\\text{ }.\n",
    "$$"
   ]
  },
  {
   "cell_type": "markdown",
   "id": "a92675f9-6557-428e-b704-b0626e15260b",
   "metadata": {},
   "source": [
    "Escreva um código que cria uma matriz de rotação usando arrays do NumPy e em seguida compute a matriz de rotação para $\\theta=30^{\\circ}$ ."
   ]
  },
  {
   "cell_type": "code",
   "execution_count": 7,
   "id": "2741ff0f-c0c9-40a0-a34d-97325108e3c4",
   "metadata": {},
   "outputs": [],
   "source": [
    "# SEU CÓDIGO AQUI"
   ]
  },
  {
   "cell_type": "markdown",
   "id": "6d66cc63-877a-4612-ba6c-2ff05e3a1517",
   "metadata": {},
   "source": [
    "---"
   ]
  },
  {
   "cell_type": "markdown",
   "id": "b775a73b-7ead-4004-a010-289d6fb7c19a",
   "metadata": {},
   "source": [
    "### Exemplo 5: Distribuições estatísticas"
   ]
  },
  {
   "cell_type": "markdown",
   "id": "98a186f5-bcc2-4535-8362-ad74b8c35a26",
   "metadata": {},
   "source": [
    "### PARTE I: Simulando um lançamento de moeda"
   ]
  },
  {
   "cell_type": "markdown",
   "id": "434a7305-86c2-4ea6-8d61-6ef660ad17e0",
   "metadata": {},
   "source": [
    "**a)** Numa experiência famosa, pede-se a um grupo de voluntários que lance uma moeda honesta 100 vezes e anote os resultados de cada lançamento (cara, `H`, ou coroa, `T`). Geralmente é fácil identificar os participantes que falsificam os resultados, escrevendo o que eles acham que é uma sequência aleatória de `H`s e `T`s, em vez de realmente jogar a moeda, porque eles tendem a não incluir tantas \"sequências\" de resultados repetidos quanto seriam. esperado por acaso. \n",
    "\n",
    "Escreva um código que simula um lançamento de moeda:"
   ]
  },
  {
   "cell_type": "code",
   "execution_count": 11,
   "id": "89f753d5-a0bd-4056-83a8-9f5f6b96a58e",
   "metadata": {},
   "outputs": [],
   "source": [
    "# SEU CÓDIGO AQUI"
   ]
  },
  {
   "cell_type": "markdown",
   "id": "68c3920a-efa4-4168-ad49-dcd329db4a13",
   "metadata": {},
   "source": [
    "**b)** Você consegue reproduzir os resultados do seu código escrito no item **a)** em até no máximo três linhas de código?"
   ]
  },
  {
   "cell_type": "code",
   "execution_count": 12,
   "id": "d4ba0e4b-58cd-4bca-aa6e-b897e161a435",
   "metadata": {},
   "outputs": [],
   "source": [
    "# SEU CÓDIGO AQUI"
   ]
  },
  {
   "cell_type": "markdown",
   "id": "608700dc-efba-4e3b-965a-3e7d08294ad1",
   "metadata": {},
   "source": [
    "### PARTE II: Modelando a distribuição de átomos $^{13}\\text{C}$ em $\\text{C}_{60}$"
   ]
  },
  {
   "cell_type": "markdown",
   "id": "b0c1c1e1-af57-4627-9aa7-51498dfc7cae",
   "metadata": {},
   "source": [
    "Existem dois isótopos estáveis de carbono, $^{12}\\text{C}$ e $^{13}\\text{C}$ (o núcleo radioativo de $^{14}\\text{C}$ está presente na natureza em apenas vestígios da ordem de partes por trilhão). Tomando a abundância de $^{13}\\text{C}$ como $x=0.0107$ (ou seja, cerca de $1\\%$), calcularemos as quantidades relativas de fulereno de *buckminster*, $\\text{C}_{60}$, com exatamente zero, um, dois, três e quatro átomos de $^{13}\\text{C}$. (Isto é importante em estudos de ressonância magnética nuclear de fulerenos, por exemplo, porque apenas o núcleo $^{13}\\text{C}$ é magnético e, portanto, detectável por NMR)."
   ]
  },
  {
   "cell_type": "markdown",
   "id": "0db2756e-28b2-48e8-b3ec-b725ba8d459f",
   "metadata": {},
   "source": [
    "O número de átomos de $^{13}\\text{C}$ em uma população de átomos de carbono amostrados aleatoriamente de uma população com abundância isotópica natural segue uma distribuição binomial: a probabilidade de que, de $n$ átomos, $m$ seja $^{13}\\text{C}$ (e, portanto, $n−m$ seja $^{12}\\text{C}$) é:"
   ]
  },
  {
   "cell_type": "markdown",
   "id": "f1ba8d97-6d56-4d50-a7c6-9ea9b74cc24e",
   "metadata": {},
   "source": [
    "$$\\tag{5.1}\n",
    "\\mathbb{P}(m,n)=p_m(n) = \\binom{n}{m} x^m (1-x)^{n-m}\\text{ }.\n",
    "$$"
   ]
  },
  {
   "cell_type": "markdown",
   "id": "c1f3fee3-526b-4ce9-b99f-a5ab4d024d3f",
   "metadata": {},
   "source": [
    "Escreva um código que implementa a Equação $(5.1)$ e em seguida calcule $p_{m}(60)$ exatamente para $0\\leq m\\leq4$. Por fim, simule a amostragem com o método `np.random.binomial`."
   ]
  },
  {
   "cell_type": "code",
   "execution_count": 13,
   "id": "369d5f78-14b4-4efc-9871-982fcc94ccdf",
   "metadata": {},
   "outputs": [],
   "source": [
    "# SEU CÓDIGO AQUI"
   ]
  },
  {
   "cell_type": "markdown",
   "id": "f288b54f-da6d-40c3-a9a4-0fa216941e27",
   "metadata": {},
   "source": [
    "---"
   ]
  },
  {
   "cell_type": "markdown",
   "id": "a4968366-9057-4a3b-9477-c1b2cddac04c",
   "metadata": {},
   "source": [
    "### $\\star$ Desafio: Brincando com a Transformada de Fourier"
   ]
  },
  {
   "cell_type": "markdown",
   "id": "1cbfa772-77a3-46ff-9b74-d1fa7a88e7d0",
   "metadata": {},
   "source": [
    "### PARTE I: Tempo de execução e velocidade de processamento"
   ]
  },
  {
   "cell_type": "markdown",
   "id": "6720801a-14cd-41ea-a864-ffe216f69baa",
   "metadata": {},
   "source": [
    "Compare a velocidade de execução do algoritmo `np.fft.fft` do NumPy e a da implementação direta da Equação:"
   ]
  },
  {
   "cell_type": "markdown",
   "id": "11a81036-0cb2-4cf5-8502-4efcc3f47ae2",
   "metadata": {},
   "source": [
    "$$\\tag{*.1}\n",
    "F_k = \\sum_{m=0}^{n-1}f_m\\exp\\left( -\\frac{2\\pi i m k}{n} \\right), \\quad k=0,1,2,\\cdots, n-1\\text{ }.\n",
    "$$"
   ]
  },
  {
   "cell_type": "markdown",
   "id": "c43f6f68-a752-43f5-a475-5de9efd34eae",
   "metadata": {},
   "source": [
    "**DICA:** trate a Equação $(*.1)$ como uma multiplicação de matrizes (faça o produto) de uma matriz de $n$ valores de função (aleatórios servirão) com a matriz $n\\times n$ com entradas $\\exp(−2\\pi imk/n)$ para $m,k=0,1,\\ldots,n−1$. Use a magic function `%timeit` do IPython."
   ]
  },
  {
   "cell_type": "code",
   "execution_count": 14,
   "id": "3a320f9b-c553-42e2-9eae-a69f3b703385",
   "metadata": {},
   "outputs": [],
   "source": [
    "# SEU CÓDIGO AQUI"
   ]
  },
  {
   "cell_type": "markdown",
   "id": "ac7921c0-5289-455b-86e4-626cbc8aab26",
   "metadata": {},
   "source": [
    "### PARTE II: Expansão de Fourier de uma onda quadrada"
   ]
  },
  {
   "cell_type": "markdown",
   "id": "020433f2-42b8-47eb-ae37-4c9e95e2a09b",
   "metadata": {},
   "source": [
    "Uma onda quadrada de período $T$ pode ser definida através da seguinte função:"
   ]
  },
  {
   "cell_type": "markdown",
   "id": "868f76b7-7f7c-4c1d-8742-cdaa756eb08b",
   "metadata": {},
   "source": [
    "$$\\tag{5.1}\n",
    "f_{\\text{sq}}(t)=\n",
    "\\begin{cases}\n",
    "1\\text{ }t<T/2 \\\\\n",
    "-1\\text{ }t\\geq T/2\n",
    "\\end{cases}\n",
    "\\text{ },\n",
    "$$"
   ]
  },
  {
   "cell_type": "markdown",
   "id": "1108282a-419c-45d1-bc9f-be93fc661089",
   "metadata": {},
   "source": [
    "com $f(t)=f(t+nT)$ para $n=\\pm1,\\pm2,\\ldots$"
   ]
  },
  {
   "cell_type": "markdown",
   "id": "d575c27d-d3cd-4be6-a4f1-1b351a66a25e",
   "metadata": {},
   "source": [
    "**a)** Calcule a Transformada Discreta de Fourier (DFT) para a função em análise."
   ]
  },
  {
   "cell_type": "code",
   "execution_count": 15,
   "id": "9a19c60e-0424-44af-922f-207b0e388974",
   "metadata": {},
   "outputs": [],
   "source": [
    "# SEU CÓDIGO AQUI"
   ]
  },
  {
   "cell_type": "markdown",
   "id": "9fc88c75-ef72-4a54-ad4e-e88cc66e8557",
   "metadata": {},
   "source": [
    "**b)** A *expansão de Fourier* dessa função como uma série infinita é:"
   ]
  },
  {
   "cell_type": "markdown",
   "id": "b9b32ac2-c2b1-4dd0-ac00-63b510da11d3",
   "metadata": {},
   "source": [
    "$$\\tag{5.2}\n",
    "f_{\\text{sq}}(t)=\\frac{4}{\\pi}\\sum_{k=1}^{\\infty}\\frac{1}{2k-1}\\sin{\\left[2\\pi\\left(2k-1\\right)\\nu t\\right]}\\text{ }.\n",
    "$$"
   ]
  },
  {
   "cell_type": "markdown",
   "id": "7c4c5367-1ab6-495c-938f-f1b7b838de8a",
   "metadata": {},
   "source": [
    "Compare a função de onda quadrada com esta expansão de Fourier truncada em $3$, $9$ e $18$ termoss"
   ]
  },
  {
   "cell_type": "code",
   "execution_count": 16,
   "id": "a003544a-328e-48a8-932e-21b14d82b45d",
   "metadata": {},
   "outputs": [],
   "source": [
    "# SEU CÓDIGO AQUI"
   ]
  },
  {
   "cell_type": "markdown",
   "id": "e59e82cc-2b66-44b1-a43f-a1527ac3ad9a",
   "metadata": {},
   "source": [
    "**c)** Compare suas transformadas de Fourier (adequadamente normalizadas): as frequências ausentes em cada série truncada devem aparecer como zeros em sua transformada de Fourier, enquanto os termos presentes terão intensidades $4/\\left[\\pi\\left(2k−1\\right)\\right]$."
   ]
  },
  {
   "cell_type": "code",
   "execution_count": 17,
   "id": "2a641ab9-7ecd-4185-bbb8-f17b3c662139",
   "metadata": {},
   "outputs": [],
   "source": [
    "# SEU CÓDIGO AQUI"
   ]
  },
  {
   "cell_type": "markdown",
   "id": "5ff34a9a-24ff-4046-94d1-1a995f3ec5eb",
   "metadata": {},
   "source": [
    "### PARTE III: Desfocando uma imagem com a FFT"
   ]
  },
  {
   "cell_type": "markdown",
   "id": "e779be34-2338-456a-8c5f-b06a4dc784d4",
   "metadata": {},
   "source": [
    "O DFT bidimensional é amplamente utilizado no processamento de imagens. Por exemplo, multiplicar a DFT de uma imagem por uma função gaussiana bidimensional é uma forma comum de desfocar uma imagem, diminuindo a magnitude dos seus componentes de alta frequência."
   ]
  },
  {
   "cell_type": "markdown",
   "id": "d20e8454-d2db-41bd-ab7d-f0e5700af810",
   "metadata": {},
   "source": [
    "Escreva um código que produz uma imagem de quadrados dispostos aleatoriamente e depois a desfoca com um filtro Gaussiano:"
   ]
  },
  {
   "cell_type": "code",
   "execution_count": 18,
   "id": "b0e9e087-4634-4c87-99db-12ad5ea858c5",
   "metadata": {},
   "outputs": [],
   "source": [
    "# SEU CÓDIGO AQUI"
   ]
  },
  {
   "cell_type": "markdown",
   "id": "7697b027-1627-4bbf-8aaf-aa559ba509a5",
   "metadata": {},
   "source": [
    "---"
   ]
  },
  {
   "cell_type": "markdown",
   "id": "47879771-3275-466b-ac67-202e6b953b99",
   "metadata": {},
   "source": [
    "![Good Job](img/Good_Job.jpg \"Good_Job\")"
   ]
  }
 ],
 "metadata": {
  "kernelspec": {
   "display_name": "Python 3 (ipykernel)",
   "language": "python",
   "name": "python3"
  },
  "language_info": {
   "codemirror_mode": {
    "name": "ipython",
    "version": 3
   },
   "file_extension": ".py",
   "mimetype": "text/x-python",
   "name": "python",
   "nbconvert_exporter": "python",
   "pygments_lexer": "ipython3",
   "version": "3.9.8"
  }
 },
 "nbformat": 4,
 "nbformat_minor": 5
}
