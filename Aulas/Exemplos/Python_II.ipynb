{
 "cells": [
  {
   "cell_type": "markdown",
   "id": "b28e4a93-f636-4629-a51d-458c3674f7b0",
   "metadata": {},
   "source": [
    "# Introdução à Programação Científica em Python"
   ]
  },
  {
   "cell_type": "markdown",
   "id": "7ab31d6a-58b1-4cee-8987-884d803f4137",
   "metadata": {},
   "source": [
    "## Lista de Exemplos #02"
   ]
  },
  {
   "cell_type": "markdown",
   "id": "35b28fc7-8c62-4f89-9f0d-7da3c4ef7b7a",
   "metadata": {},
   "source": [
    "- **Aula 2:** *Python Core II*"
   ]
  },
  {
   "cell_type": "markdown",
   "id": "393a859f-9c1e-4479-ba0b-a121a4e2190e",
   "metadata": {},
   "source": [
    "---"
   ]
  },
  {
   "cell_type": "markdown",
   "id": "31bcf76d-f18c-4aa0-b68e-f2c505f65d35",
   "metadata": {},
   "source": [
    "### Exemplo 1: Uma simples base de dados de objetos astronômicos"
   ]
  },
  {
   "cell_type": "markdown",
   "id": "dc7c8488-3bec-4844-be15-3b12f1c2ddc8",
   "metadata": {},
   "source": [
    "Considere a Tabela abaixo que contém os dados de raio e massa para alguns corpos astronômicos:"
   ]
  },
  {
   "cell_type": "markdown",
   "id": "b11cb26b-baca-42d0-a558-bdf875c41c48",
   "metadata": {},
   "source": [
    "| Objeto   | Massa [kg]           | Raio [km]           |\r\n",
    "|----------|----------------------|---------------------|\r\n",
    "| Sol      | $1.988\\times10^{30}$ | $6.955\\times10^{5}$ |\r\n",
    "| Mercúrio | $3.301\\times10^{23}$ | $2440$              |\r\n",
    "| Vênus    | $4.867\\times10^{24}$ | $6052$              |\r\n",
    "| Terra    | $5.972\\times10^{24}$ | $6371$              |\r\n",
    "| Marte    | $6.417\\times10^{23}$ | $3390$              |\r\n",
    "| Júpiter  | $1.899\\times10^{27}$ | $69911$             |\r\n",
    "| Saturno  | $5.685\\times10^{26}$ | $58232$             |\r\n",
    "| Urano    | $8.682\\times10^{25}$ | $25362$             |\r\n",
    "| Netuno   | $1.024\\times10^{26}$ | $24622$             |"
   ]
  },
  {
   "cell_type": "markdown",
   "id": "b58cf08e-18ea-4eed-9250-0d9f697f1e16",
   "metadata": {},
   "source": [
    "Escreva um código que calcula a densidade de cada um dos objetos apresentados na Tabela acima. Assuma que todos os corpos possuem simetria esférica."
   ]
  },
  {
   "cell_type": "code",
   "execution_count": 2,
   "id": "78b92935-f64b-4fe5-9722-957031d91791",
   "metadata": {},
   "outputs": [],
   "source": [
    "# SEU CÓDIGO AQUI"
   ]
  },
  {
   "cell_type": "markdown",
   "id": "470da0b1-7271-4cbd-9209-5da48dcf2fdc",
   "metadata": {},
   "source": [
    "---"
   ]
  },
  {
   "cell_type": "markdown",
   "id": "e8fa1c24-bf36-4c70-9fb3-78239da3afe2",
   "metadata": {},
   "source": [
    "### Exemplo 2: Comprimento de palavras"
   ]
  },
  {
   "cell_type": "markdown",
   "id": "20594c5b-bde5-4d42-9be5-6ad232873569",
   "metadata": {},
   "source": [
    "Escreva um código que analisa o comprimento das palavras nas duas primeiras frases no conto *The Call of Cthulhu* de H.P. Lovecraft."
   ]
  },
  {
   "cell_type": "markdown",
   "id": "9834741e-1db5-4fba-9ffc-241750cefbe7",
   "metadata": {},
   "source": [
    "*There is no greater grace in the world, I think, than the human inability to correlate all he contents contained in his mind. We live on a placid island of ignorance in the midst of dark, endless oceans in which we were not made to sail very far.*"
   ]
  },
  {
   "cell_type": "code",
   "execution_count": 5,
   "id": "b75dc5a7-1655-4125-bbfb-7e2d2bccb0de",
   "metadata": {},
   "outputs": [],
   "source": [
    "# SEU CÓDIGO AQUI"
   ]
  },
  {
   "cell_type": "markdown",
   "id": "15ac6dbd-7ea3-4351-bfa4-507d375aacd2",
   "metadata": {},
   "source": [
    "---"
   ]
  },
  {
   "cell_type": "markdown",
   "id": "601202f5-f4f0-4ef2-b9ef-3a32a025bd18",
   "metadata": {},
   "source": [
    "### Exemplo 3: Primos de Mersenne"
   ]
  },
  {
   "cell_type": "markdown",
   "id": "0d37e95e-ffdf-4e16-95f4-cab036ad34ff",
   "metadata": {},
   "source": [
    "Um *primo de Mersenne*, $M_i$, é um número primo na forma $M_n=2^{n}-1$. O conjunto de primos de Mersenne menores que $k$ pode ser pensado como a interseção do conjunto de todos os primos menores que $k$, $P_k$, com o conjunto, $A_k$, de inteiros que satisfazem $2^{n}−1<k$."
   ]
  },
  {
   "cell_type": "markdown",
   "id": "3ef0e8ec-6c2f-4b8f-83b3-a30e1fa917d7",
   "metadata": {},
   "source": [
    "Escreva um código que retorna uma lista com todos os primos de Mersenne menores que $1\\times10^{6}$."
   ]
  },
  {
   "cell_type": "code",
   "execution_count": 3,
   "id": "02cd1173-f1c7-4be8-a02e-1e40800d8e1e",
   "metadata": {},
   "outputs": [],
   "source": [
    "# SEU CÓDIGO AQUI"
   ]
  },
  {
   "cell_type": "markdown",
   "id": "431aa364-1311-48e4-90d7-58dd8f18300a",
   "metadata": {},
   "source": [
    "---"
   ]
  },
  {
   "cell_type": "markdown",
   "id": "1619ba7a-3d04-4e71-a316-1d492ee8821a",
   "metadata": {},
   "source": [
    "### Exemplo 4: O Problema de Monty Hall"
   ]
  },
  {
   "cell_type": "markdown",
   "id": "aba4fe4d-3350-4efb-9ad5-d8ce0f1015d1",
   "metadata": {},
   "source": [
    "O *problema de Monty Hall* é um famoso enigma de probabilidade que assume a forma de um game show hipotético. O competidor recebe três portas; atrás de um está um carro e atrás de cada um dos outros dois está uma cabra. O competidor escolhe uma porta e então o apresentador do gameshow abre uma porta diferente para revelar uma cabra. O anfitrião sabe qual porta esconde o carro. O competidor é então convidado a mudar para a outra porta fechada ou manter sua escolha inicial."
   ]
  },
  {
   "cell_type": "markdown",
   "id": "baacd9e3-886b-4f0b-9c6d-718753503b33",
   "metadata": {},
   "source": [
    "Escreva um código que mostra que, de forma contra-intuitiva, a melhor estratégia para ganhar o carro seja trocar."
   ]
  },
  {
   "cell_type": "code",
   "execution_count": 4,
   "id": "0011d89c-0613-4ac9-ba53-d82447872a21",
   "metadata": {},
   "outputs": [],
   "source": [
    "# SEU CÓDIGO AQUI"
   ]
  },
  {
   "cell_type": "markdown",
   "id": "fd341486-3d80-4ad0-b792-72ca0c794930",
   "metadata": {},
   "source": [
    "---"
   ]
  },
  {
   "cell_type": "markdown",
   "id": "0a5bd150-b837-4c45-b36f-885ca72b163f",
   "metadata": {},
   "source": [
    "### Exemplo 5: Vetores bidimensionais"
   ]
  },
  {
   "cell_type": "markdown",
   "id": "b6e0c26c-c675-480a-b58c-f041b08fc08c",
   "metadata": {},
   "source": [
    "Escreva um código que implementa uma classe chamada `Vector2D` e as operações abaixo para o seu vetor:"
   ]
  },
  {
   "cell_type": "markdown",
   "id": "8e9b1d3e-5aa7-4f86-9c97-da2513b09362",
   "metadata": {},
   "source": [
    "- Representação em termos dos versores $\\boldsymbol{i}$ e $\\boldsymbol{j}$;\n",
    "- Produto escalar entre dois vetores;\n",
    "- Adição de vetores;\n",
    "- Subtração de vetores;\n",
    "- Multiplicação de um vetor por um escalar;\n",
    "- Negativo de um vetor (inversão em torno da origem);\n",
    "- Divisão verdadeira de um vetor por um escalar;\n",
    "- Módulo de um vetor;\n",
    "- Valor absoluto de um vetor;\n",
    "- Distância entre dois vetores;\n",
    "- Representação em termos das coordenadas polares."
   ]
  },
  {
   "cell_type": "code",
   "execution_count": 8,
   "id": "1e994689-ecb5-41c3-baaa-4d1998960ea1",
   "metadata": {},
   "outputs": [],
   "source": [
    "# SEU CÓDIGO AQUI"
   ]
  },
  {
   "cell_type": "markdown",
   "id": "55da21e3-7a34-49e8-b3c6-339d40fffc1d",
   "metadata": {},
   "source": [
    "---"
   ]
  },
  {
   "cell_type": "markdown",
   "id": "65034747-2fdc-4669-b885-601b00995c7a",
   "metadata": {},
   "source": [
    "### $\\star$ Desafio: Uma simples simulação de dinâmica molecular"
   ]
  },
  {
   "cell_type": "markdown",
   "id": "8ee5cf97-df4c-4f3d-b82a-d8c3c35bb861",
   "metadata": {},
   "source": [
    "A distribuição de Maxwell-Boltzmann é uma distribuição estatística que surge como um resultado natural da *Teoria Cinética dos Gases*. Essa distribuição fornece uma explicação simplificada de várias propriedades fundamentais dos gases, incluindo pressão e difusão. Essa distribuição é dada por:"
   ]
  },
  {
   "cell_type": "markdown",
   "id": "cfe270f5-08ec-4cd4-a22d-6212a9a58316",
   "metadata": {},
   "source": [
    "$$\\tag{*.1}\n",
    "f(v) = \\frac{mv}{k_\\mathrm{B}T}\\exp\\left(-\\frac{mv^2}{2k_\\mathrm{B}T}\\right)\\text{ }.\n",
    "$$"
   ]
  },
  {
   "cell_type": "markdown",
   "id": "526352fe-d7c9-453a-a4ce-4092b7c84dfd",
   "metadata": {},
   "source": [
    "Usando a classe `Vector2D` para implementar uma simulação simples de dinâmica molecular de partículas circulares com massas idênticas se movendo em duas dimensões. Assuma que todas as partículas têm inicialmente a mesma velocidade e que as colisões eequilibram as velocidades segundo a distribuição de Maxwell-Boltzmann."
   ]
  },
  {
   "cell_type": "code",
   "execution_count": 1,
   "id": "7c52b6b3-57bd-410c-b2b2-981e07260408",
   "metadata": {},
   "outputs": [],
   "source": [
    "# SEU CÓDIGO AQUI"
   ]
  },
  {
   "cell_type": "markdown",
   "id": "78055032-3d7a-4c09-a830-f9f0ba87729c",
   "metadata": {},
   "source": [
    "![Good Job](img/Good_Job.jpg \"Good_Job\")"
   ]
  }
 ],
 "metadata": {
  "kernelspec": {
   "display_name": "Python 3 (ipykernel)",
   "language": "python",
   "name": "python3"
  },
  "language_info": {
   "codemirror_mode": {
    "name": "ipython",
    "version": 3
   },
   "file_extension": ".py",
   "mimetype": "text/x-python",
   "name": "python",
   "nbconvert_exporter": "python",
   "pygments_lexer": "ipython3",
   "version": "3.9.8"
  }
 },
 "nbformat": 4,
 "nbformat_minor": 5
}
