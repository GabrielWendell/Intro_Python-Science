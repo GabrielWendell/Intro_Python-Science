{
 "cells": [
  {
   "cell_type": "markdown",
   "id": "9b60a569-8ee3-434e-a01b-c5dbbe779fb8",
   "metadata": {},
   "source": [
    "# Introdução à Programação Científica em Python"
   ]
  },
  {
   "cell_type": "markdown",
   "id": "6b98fba7-8581-42db-82a2-eae4027a02a4",
   "metadata": {},
   "source": [
    "- Gabriel Wendell Celestino Rocha"
   ]
  },
  {
   "cell_type": "markdown",
   "id": "dd5c29fb-e718-48b2-ad15-7417d9fd6b79",
   "metadata": {},
   "source": [
    "---"
   ]
  },
  {
   "cell_type": "markdown",
   "id": "20befa68-fd66-4669-89c0-4f21566ab2b7",
   "metadata": {},
   "source": [
    "## 2. IPython"
   ]
  },
  {
   "cell_type": "markdown",
   "id": "8868321d-0759-4d27-8d70-426565ee16d3",
   "metadata": {},
   "source": [
    "O shell IPython e o Jupyter Notebook interativo e baseado em navegador são duas interfaces poderosas e relacionadas à linguagem Python. O IPython tem diversas vantagens sobre o shell Python nativo, incluindo fácil interação com o sistema operacional, introspecção e preenchimento de guias. O Jupyter Notebook (anteriormente IPython Notebook) está sendo cada vez mais adotado por cientistas para compartilhar seus dados e o código que escrevem para analisá-los de maneira padronizada, o que auxilia na reprodutibilidade e na visualização. Seu ambiente de execução padrão (“*kernel*”) é Python, mas pode ser configurado para funcionar com qualquer uma das dezenas de linguagens."
   ]
  },
  {
   "cell_type": "markdown",
   "id": "04904ff4-caaa-48ec-a25e-81d99a8dc197",
   "metadata": {},
   "source": [
    "### 2.1 Instalando o IPython"
   ]
  },
  {
   "cell_type": "markdown",
   "id": "8d01aa13-7cc9-433c-adfe-a04f849f6283",
   "metadata": {},
   "source": [
    "Detalhes abrangentes sobre a instalação do IPython estão disponíveis no site do [IPython](https://ipython.org/install.html). Vamos dar um resumo aqui."
   ]
  },
  {
   "cell_type": "markdown",
   "id": "a247858e-8cee-497c-9d18-e1a60e0540cc",
   "metadata": {},
   "source": [
    "O IPython está incluído na distribuição *Continuum Anaconda Python*. Para atualizar para a versão atual no Anaconda, use o gerenciador de pacotes `conda`:"
   ]
  },
  {
   "cell_type": "markdown",
   "id": "cd3778a0-de19-4272-b8ac-97b5b2f90d71",
   "metadata": {},
   "source": [
    "```python\n",
    "> conda update conda\n",
    "> conda update ipython\n",
    "```"
   ]
  },
  {
   "cell_type": "markdown",
   "id": "58c6d6ff-b70f-4683-8097-da9d56c011f3",
   "metadata": {},
   "source": [
    "Se você já possui o Python instalado, existem várias opções alternativas. Se você tiver o gerenciador de pacotes `pip`:"
   ]
  },
  {
   "cell_type": "markdown",
   "id": "2700c99e-a25f-4a21-a613-fa1a1499f254",
   "metadata": {},
   "source": [
    "```python\n",
    "> pip install ipython\n",
    "```"
   ]
  },
  {
   "cell_type": "markdown",
   "id": "9cabfdb7-ebfe-449d-85ac-268d4a7c8af2",
   "metadata": {},
   "source": [
    "Também é possível baixar manualmente a versão mais recente do IPython de seu repositório [GitHub](https://github.com/ipython/ipython/releases) e compilar e instalar a partir de seu diretório de origem de nível superior com o seguinte comando:"
   ]
  },
  {
   "cell_type": "markdown",
   "id": "dfff4fdf-e0e4-410e-8ee9-378d3fb915fe",
   "metadata": {},
   "source": [
    "```python\n",
    "> python setup.py install\n",
    "```"
   ]
  },
  {
   "cell_type": "markdown",
   "id": "3ea1e6a3-2488-42f0-9b43-7286348bc574",
   "metadata": {},
   "source": [
    "### 2.2 Usando o shell IPython"
   ]
  },
  {
   "cell_type": "markdown",
   "id": "34bc7041-67ed-4a95-b750-cde22304f5b6",
   "metadata": {},
   "source": [
    "Para iniciar uma sessão interativa do shell IPython a partir da linha de comando, basta digitar `ipython`. Você deverá ser saudado com uma mensagem semelhante a esta:"
   ]
  },
  {
   "cell_type": "markdown",
   "id": "28d56ace-2078-4df5-a90a-3750a6929d95",
   "metadata": {},
   "source": [
    "```\n",
    "> ipython\n",
    "\r\n",
    "Python 3.9.8 (tags/v3.9.8:bb3fdcf, Nov  5 2021, 20:48:33) [MSC v.1929 64 bit (AMD64)]\r\n",
    "Type 'copyright', 'credits' or 'license' for more information\r\n",
    "IPython 8.0.1 -- An enhanced Interactive Python. Type '?' for help.\r\n",
    "\r\n",
    "In [1]:\n",
    "```"
   ]
  },
  {
   "cell_type": "markdown",
   "id": "bd10f7d7-00e9-4029-8e10-999a3d2d9cf7",
   "metadata": {},
   "source": [
    "**OBS:** Os detalhes precisos desta mensagem dependerão da configuração do seu sistema."
   ]
  },
  {
   "cell_type": "markdown",
   "id": "327570d3-85f4-4b7b-96c2-5acc6c84295c",
   "metadata": {},
   "source": [
    "O prompt `In [1]:` é onde você digita suas instruções Python e substitui o nativo\n",
    "Python `>>>` prompt do shell. O contador entre colchetes aumenta com cada instrução Python ou bloco de código. Por exemplo,"
   ]
  },
  {
   "cell_type": "markdown",
   "id": "51445d53-d6c6-4dea-a839-917c8772abb3",
   "metadata": {},
   "source": [
    "```python\n",
    "In [1]: 4 + 5\r\n",
    "Out [1]: 9\r\n",
    "In [2]: print(1)\r\n",
    "1\r\n",
    "In [3]: for i in range(4):\r\n",
    "...: print(i, end='')\r\n",
    "...:\r\n",
    "0123\r\n",
    "In [4]:\r\n",
    "```"
   ]
  },
  {
   "cell_type": "markdown",
   "id": "8003d1a2-666f-487c-8cd3-adafc6cecbf3",
   "metadata": {},
   "source": [
    "Para sair do shell IPython, digite `quit` ou `exit`. Ao contrário do shell nativo do Python, não são necessários parênteses."
   ]
  },
  {
   "cell_type": "markdown",
   "id": "86b4e0a1-bc70-4095-9a89-ed1217bb95d5",
   "metadata": {},
   "source": [
    "### 2.3 Help Commands"
   ]
  },
  {
   "cell_type": "markdown",
   "id": "11fc07f9-23d3-48e5-843c-09804bc4a827",
   "metadata": {},
   "source": [
    "Conforme listado na mensagem de boas-vindas, existem vários comandos úteis para obter informações sobre o uso do IPython:"
   ]
  },
  {
   "cell_type": "markdown",
   "id": "6fdcb877-41a4-451a-897e-66093dfa7229",
   "metadata": {},
   "source": [
    "- Digitar um único `?` gera uma visão geral do uso dos principais recursos do IPython (página para baixo com a barra de espaço ou `f`; página de backup com `b`; saída da página de ajuda com `q`);\n",
    "- `%quickref` fornece um breve resumo de referência de cada um dos principais comandos e “mágicas” do IPython;\n",
    "- `help()` ou `help(object)` invoca o próprio sistema de ajuda do Python (interativamente ou para objeto, se especificado);\n",
    "- Digitar um ponto de interrogação após o nome de um objeto fornece informações sobre esse objeto."
   ]
  },
  {
   "cell_type": "markdown",
   "id": "c6f049e6-f5db-484f-8a1d-e026b585c618",
   "metadata": {},
   "source": [
    "Possivelmente, a funcionalidade de ajuda fornecida com mais frequência pelo IPython é a `introspecção` fornecida pela sintaxe `object?`. Por exemplo:"
   ]
  },
  {
   "cell_type": "markdown",
   "id": "488fc873-f1a6-4463-9c99-f6e6526c26df",
   "metadata": {},
   "source": [
    "```python\n",
    "In [4]: a = [5, 6]\n",
    "In [5]: a?\n",
    "Type: list\n",
    "String form: [5, 6]\n",
    "Length: 2\n",
    "Docstring :\n",
    "Built -in mutable sequence.\n",
    "\n",
    "If no argument is given , the constructor creates a new empty list.\n",
    "The argument must be an iterable if specified .\n",
    "```"
   ]
  },
  {
   "cell_type": "markdown",
   "id": "9311705f-9fe8-44be-92ba-60a70c138a48",
   "metadata": {},
   "source": [
    "Aqui, o comando `a?` fornece detalhes sobre o objeto a: sua representação em string (que seria produzida, por exemplo, por `print(a)`), seu comprimento (equivalente a `len(a)`) e\r\n",
    "a docstring associada à classe da qual é uma instância: como a é uma lista, fornece breves detalhes de como instanciar um objeto de list (isto é o que significa introspecção: Python é capaz de inspecionar seus próprios objetos e fornecer informações sobre eles).a"
   ]
  },
  {
   "cell_type": "markdown",
   "id": "42a820aa-306b-4eb3-8ce3-1b088a66fde8",
   "metadata": {},
   "source": [
    "A sintaxe `?` é particularmente útil como um lembrete dos argumentos que uma função ou método utiliza. Por exemplo:"
   ]
  },
  {
   "cell_type": "markdown",
   "id": "4b003841-78b7-4d47-a24c-81461c851c9c",
   "metadata": {},
   "source": [
    "```python\n",
    "In [6]: import numpy as np\n",
    "In [7]: np.linspace ?\n",
    "Signature :\n",
    "np. linspace (\n",
    "    start ,\n",
    "    stop ,\n",
    "    num =50,\n",
    "    endpoint=True ,\n",
    "    retstep=False ,\n",
    "    dtype=None ,\n",
    "    axis =0,\n",
    ")\n",
    "Docstring :\n",
    "Return evenly spaced numbers over a specified interval.\n",
    "\n",
    "Returns `num` evenly spaced samples , calculated over the\n",
    "interval [`start `, `stop `].\n",
    "\n",
    "The endpoint of the interval can optionally be excluded.\n",
    "    \n",
    ".. versionchanged :: 1.16.0\n",
    "    Non -scalar `start ` and `stop ` are now supported .\n",
    "\n",
    "Parameters\n",
    "----------\n",
    "start : array_like\n",
    "    The starting value of the sequence.\n",
    "stop : array_like\n",
    "    The end value of the sequence , unless `endpoint ` is set to False.\n",
    "    In that case , the sequence consists of all but the last of ``num + 1``\n",
    "    evenly spaced samples , so that `stop ` is excluded . Note that the step\n",
    "    size changes when `endpoint ` is False.\n",
    "num : int , optional\n",
    "    Number of samples to generate. Default is 50. Must be non -negative.\n",
    "endpoint : bool , optional\n",
    "    If True , `stop ` is the last sample. Otherwise , it is not included.\n",
    "    Default is True.\n",
    "retstep : bool , optional\n",
    "    If True , return (`samples `, `step `), where `step ` is the spacing\n",
    "    between samples.\n",
    "dtype : dtype , optional\n",
    "    The type of the output array. If `dtype ` is not given , infer the data\n",
    "    type from the other input arguments .\n",
    "\n",
    "    .. versionadded :: 1.9.0\n",
    "...\n",
    "```"
   ]
  },
  {
   "cell_type": "markdown",
   "id": "407e7dd0-c435-428e-ba90-a5c18cbc2b90",
   "metadata": {},
   "source": [
    "Para alguns objetos, a sintaxe `object??` retorna informações mais avançadas, como localização e detalhes de seu código-fonte."
   ]
  },
  {
   "cell_type": "markdown",
   "id": "5df55e01-3d4e-4f1e-804d-e0a2ed804617",
   "metadata": {},
   "source": [
    "### 2.4 Tab Completion"
   ]
  },
  {
   "cell_type": "markdown",
   "id": "56fbf072-ef1b-4dec-aab2-989e3cfc10b6",
   "metadata": {},
   "source": [
    "Assim como acontece com muitos shells de linha de comando, o IPython oferece suporte ao preenchimento de tabulação: comece a digitar o nome de um objeto ou palavra-chave, pressione a tecla `<TAB>` e ele o preencherá automaticamente ou fornecerá uma lista de opções se existir mais de uma possibilidade. Por exemplo:\n"
   ]
  },
  {
   "cell_type": "markdown",
   "id": "df011bd3-4952-48f1-add9-4c1626496176",
   "metadata": {},
   "source": [
    "```python\n",
    "In [8]: w<TAB >\n",
    "        while %who_ls\n",
    "        with %whos\n",
    "        %who %% writefile\n",
    "```"
   ]
  },
  {
   "cell_type": "markdown",
   "id": "3ea72c7c-b006-4508-a7f2-b2aa19fa4024",
   "metadata": {},
   "source": [
    "Se você continuar digitando até que a palavra se torne inequívoca (por exemplo, adicione as letras `hi`) e pressione `<TAB>` novamente, ela será preenchida automaticamente para `while`. As opções com sinais de porcentagem na frente são *magic functions*."
   ]
  },
  {
   "cell_type": "markdown",
   "id": "3f929db2-7dc5-4262-89f8-7b002233c7f9",
   "metadata": {},
   "source": [
    "### 2.5 History"
   ]
  },
  {
   "cell_type": "markdown",
   "id": "c6325ac5-3e95-4b9a-811d-da5a923c7f20",
   "metadata": {},
   "source": [
    "Você já deve ter usado a funcionalidade de histórico de comandos do shell nativo do Python (pressionando as setas para cima e para baixo nas instruções anteriores digitadas durante a sessão atual). O IPython armazena os comandos que você insere e a saída que eles produzem nas variáveis especiais `In` e `Out` (estas são, na verdade, uma lista e um dicionário, respectivamente, e correspondem aos prompts no início de cada entrada e saída). Por exemplo,"
   ]
  },
  {
   "cell_type": "markdown",
   "id": "fa461a11-84b8-4857-937b-a47209c97c7f",
   "metadata": {},
   "source": [
    "```powershell\n",
    "> In [9]: d = {'C': 'Cador', 'G': 'Galahad', 'T': 'Tristan', 'A': 'Arthur'}\n",
    "> In [10]: for a in 'ACGT':\n",
    "....: print(d[a])\n",
    "....:\n",
    "Arthur\n",
    "Cador\n",
    "Galahad\n",
    "Tristan\n",
    "\n",
    "> In [11]: d = {'C': 'Cytosine', 'G': 'Guanine', 'T': 'Thymine', 'A': 'Adenine'}\n",
    "> In [12]: In [10]\n",
    "Out [12]: \"for a in 'ACGT ':\\n print(d[a])\\n \"\n",
    "> In [13]: exec(In [10])\n",
    "Adenine\n",
    "Cytosine\n",
    "Guanine\n",
    "Thymine\n",
    "```"
   ]
  },
  {
   "cell_type": "markdown",
   "id": "fb5864f8-c064-4404-9688-d6e123e74e63",
   "metadata": {},
   "source": [
    "Observe que `In[2]` simplesmente contém a versão string da instrução Python (aqui um loop for) que foi inserida no índice 2. Para realmente executar a instrução (com o dicionário atual `d`), devemos enviá-la para o `exec` interno do Python."
   ]
  },
  {
   "cell_type": "markdown",
   "id": "88af22a3-0b29-4d1c-bf92-456221b2000b",
   "metadata": {},
   "source": [
    "Existem alguns atalhos adicionais: o alias `_iN` é o mesmo que `In[N]`, `_N` é o mesmo que `Out[N]`, e as duas saídas mais recentes são retornadas pelas variáveis `_` e `__`, respectivamente."
   ]
  },
  {
   "cell_type": "markdown",
   "id": "db4f0015-6b4b-4075-8928-c7f7dd532950",
   "metadata": {},
   "source": [
    "```powershell\n",
    "In [14]: %history -n\r\n",
    "1: 4 + 5\r\n",
    "2: print(1)\r\n",
    "3:\r\n",
    "for i in range(4):\r\n",
    "print(i)\r\n",
    "4: a = [5, 6]\r\n",
    "5: a?\r\n",
    "6: import numpy as np\r\n",
    "7: np.linspace ?\r\n",
    "8: d = {'C': 'Cador', 'G': 'Galahad', 'T': 'Tristan', 'A': 'Arthur'}\r\n",
    "10:\r\n",
    "for a in 'ACGT':\r\n",
    "print(d[a])\r\n",
    "11: d = {'C': 'Cytosine', 'G': 'Guanine', 'T': 'Thymine', 'A': 'Adenine'}\r\n",
    "12: In [10]\r\n",
    "13: exec(In [10])\r\n",
    "14: %history -n\n",
    "```"
   ]
  },
  {
   "cell_type": "markdown",
   "id": "a2b07a0a-2ad7-48be-8478-901435e4f312",
   "metadata": {},
   "source": [
    "Para gerar uma linha específica ou intervalo de linhas, consulte-as por número e/ou intervalo de números ao chamar `%history`:"
   ]
  },
  {
   "cell_type": "markdown",
   "id": "5cc53df4-dce6-4409-a864-3e96802c273c",
   "metadata": {},
   "source": [
    "```powershell\n",
    "In [15]: %history 4\r\n",
    "a = [5, 6]\r\n",
    "In [16]: %history -n 2-5\r\n",
    "2: print(1)\r\n",
    "3:\r\n",
    "for i in range(4):\r\n",
    "print(i)\r\n",
    "4: a = [5, 6]\r\n",
    "5: a?\r\n",
    "In [17]: %history -n 1-3 7 12 -14\r\n",
    "1: 4 + 5\r\n",
    "2: print(1)\r\n",
    "3:\r\n",
    "for i in range(4):\r\n",
    "print(i)\r\n",
    "7: np.linspace ?\r\n",
    "12: In [10]\r\n",
    "13: exec(In [10]\r\n",
    "14: %history -n\r\n",
    "```"
   ]
  },
  {
   "cell_type": "markdown",
   "id": "50b582ee-ce15-4119-8b3b-c2ef44f2cb34",
   "metadata": {},
   "source": [
    "Essa sintaxe também é usada por várias outras funções mágicas do IPython. A função `%history` também pode ter uma opção adicional: `-o` exibe a saída e também a entrada."
   ]
  },
  {
   "cell_type": "markdown",
   "id": "cf4f3e1e-8d8e-4a1f-91dd-865877038647",
   "metadata": {},
   "source": [
    "Pressionar CTRL-R traz um prompt, um tanto enigmático, a partir do qual você pode pesquisar em seu histórico de comandos (esta funcionalidade pode ser familiar aos usuários do shell bash como `(reverse-i-search)':`)."
   ]
  },
  {
   "cell_type": "markdown",
   "id": "22ead7ec-b7a9-47c6-b431-c47b9a1ef3bc",
   "metadata": {},
   "source": [
    "```powershell\n",
    "I-search backward:\n",
    "```"
   ]
  },
  {
   "cell_type": "markdown",
   "id": "fb0ffe09-3e05-44c2-9879-8ef18920014a",
   "metadata": {},
   "source": [
    "### 2.6 Interagindo com o Sistema Operacional"
   ]
  },
  {
   "cell_type": "markdown",
   "id": "bcc9304c-0e4f-426f-b79a-7ad0e24e5e51",
   "metadata": {},
   "source": [
    "O IPython facilita a execução de comandos do sistema operacional a partir da sessão do shell: qualquer instrução precedida por um ponto de exclamação, `!`, é enviada para a linha de comando do sistema operacional (o “shell do sistema”) em vez de ser executada como uma instrução Python. Por exemplo, você pode excluir arquivos, listar o conteúdo de diretórios e até mesmo executar outros programas e scripts:"
   ]
  },
  {
   "cell_type": "markdown",
   "id": "45124f17-3178-4fd6-8797-ddfc7b7b5707",
   "metadata": {},
   "source": [
    "```powershell\n",
    "> In [18]: !pwd # Return the current working directory\n",
    "'C:\\\\Users\\\\Gabriel Wendell\\\\Documents\\\\CODES\\\\Python'\n",
    "\n",
    "> In [19]: !ls # List the files in this directory\n",
    "O volume na unidade C é Acer\n",
    "O Número de Série do Volume é 88BE-C193\n",
    "\n",
    " Pasta de C:\\Users\\Gabriel Wendell\\Documents\\CODES\\Python\n",
    "\n",
    "07/03/2024  12:23    <DIR>          .\n",
    "07/03/2024  12:23    <DIR>          ..\n",
    "24/02/2024  14:11    <DIR>          .ipynb_checkpoints\n",
    "04/03/2024  15:05    <DIR>          Habitable_Zone\n",
    "23/02/2024  13:17    <DIR>          Img_PowerSpectrum\n",
    "03/03/2024  18:12               647 Javascript_Error-IPython_is_not_defined.txt\n",
    "04/03/2024  23:50    <DIR>          Minicurso_Python\n",
    "22/02/2024  15:40    <DIR>          Neutro_Star_Magnetosphere\n",
    "07/03/2024  12:23    <DIR>          temp\n",
    "               1 arquivo(s)            647 bytes\n",
    "               8 pasta(s)   144,700,616,704 bytes disponíveis\n",
    "\n",
    "> In [20]: !rm temp -file # Delete temp -file\n",
    "\n",
    "> In [21]: !ls\n",
    "O volume na unidade C é Acer\n",
    "O Número de Série do Volume é 88BE-C193\n",
    "\n",
    " Pasta de C:\\Users\\Gabriel Wendell\\Documents\\CODES\\Python\n",
    "\n",
    "07/03/2024  12:25    <DIR>          .\n",
    "07/03/2024  12:25    <DIR>          ..\n",
    "24/02/2024  14:11    <DIR>          .ipynb_checkpoints\n",
    "04/03/2024  15:05    <DIR>          Habitable_Zone\n",
    "23/02/2024  13:17    <DIR>          Img_PowerSpectrum\n",
    "03/03/2024  18:12               647 Javascript_Error-IPython_is_not_defined.txt\n",
    "04/03/2024  23:50    <DIR>          Minicurso_Python\n",
    "22/02/2024  15:40    <DIR>          Neutro_Star_Magnetosphere\n",
    "               1 arquivo(s)            647 bytes\n",
    "               7 pasta(s)   144,702,480,384 bytes disponíveis\n",
    "```"
   ]
  },
  {
   "cell_type": "markdown",
   "id": "fe50522c-e662-4e21-9363-450a746a0a2e",
   "metadata": {},
   "source": [
    "Observe que, por razões técnicas$^{*}$, o `cd` (Sistemas do tipo Unix) e comandos `chdir` (Windows) devem ser executados como funções mágicas do IPython:"
   ]
  },
  {
   "cell_type": "markdown",
   "id": "120a4718-e910-4626-94c1-859195e2d1f5",
   "metadata": {},
   "source": [
    "```Powershell\n",
    "> In [22]: %cd / # Change into root directory\n",
    "> In [23]: !ls\n",
    "Applications Volumes usr Library\n",
    "bin net Network cores\n",
    "opt www System dev\n",
    "private sbin Users home\n",
    "\n",
    "> In [24]: %cd ~/ temp # Change directory to temp within user ' s home directory\n",
    "> In [25]: !ls\n",
    "output.txt test.py readme.txt utils\n",
    "zigzag.py\n",
    "\n",
    "```"
   ]
  },
  {
   "cell_type": "markdown",
   "id": "1ee5bc6c-4201-4a68-8bb5-4bbc8d6183e3",
   "metadata": {},
   "source": [
    "**OBS$^{*}$:** os comandos do sistema executados por meio do método !command geram seu próprio shell, que é descartado imediatamente depois; a alteração de um diretório ocorre apenas neste shell gerado e não é refletida naquele que executa o IPython."
   ]
  },
  {
   "cell_type": "markdown",
   "id": "3c8241ac-c7f2-4dd0-bc4a-61973282b7c1",
   "metadata": {},
   "source": [
    "Se você usa Windows e deseja incluir uma letra de unidade (como `C:`) no caminho do diretório, coloque o caminho entre aspas: `%cd 'C:\\Meus Documentos'`. A ajuda, via `!command?`, e o preenchimento de guias, conforme descrito acima, funcionam nos comandos do sistema operacional."
   ]
  },
  {
   "cell_type": "markdown",
   "id": "90375505-4436-45e5-9423-114e1546221a",
   "metadata": {},
   "source": [
    "Você pode passar os valores das variáveis Python para comandos do sistema operacional prefixando o nome da variável com um cifrão, `$`:"
   ]
  },
  {
   "cell_type": "markdown",
   "id": "16aa7cc6-da98-4f22-be5d-caacb1493cf6",
   "metadata": {},
   "source": [
    "```powershell\n",
    "> In [25]: python_script = 'zigzag.py'\n",
    "> In [26]: !ls $python_script\n",
    "zigzag.py\n",
    "> In [27]: text_files = '*. txt'\n",
    "> In [28]: text_file_list = !ls $text_files\n",
    "> In [29]: text_file_list\n",
    "output.txt readme.txt\n",
    "> In [30]: readme_file = text_file_list [1]\n",
    "> In [31]: !cat $readme_file\n",
    "This is the file readme.txt\n",
    "Each line of the file appears as an item\n",
    "in a list when returned from !cat readme.txt\n",
    "\n",
    "> In [32]: readme_lines = !cat $readme_file\n",
    "> In [33]: readme_lines\n",
    "Out [28]:\n",
    "['This is the file readme.txt',\n",
    "'Each line of the file appears as an item',\n",
    "'in a list when returned from !cat readme.txt']\n",
    "\n",
    "```"
   ]
  },
  {
   "cell_type": "markdown",
   "id": "c0969865-7e61-4e96-b372-0f2a348f6a5f",
   "metadata": {},
   "source": [
    "**OBS$^{1}$:** Observe que a saída de um comando do sistema pode ser atribuída a uma variável Python, aqui está uma lista dos arquivos `.txt` no diretório atual."
   ]
  },
  {
   "cell_type": "markdown",
   "id": "95b22952-646f-4500-9e04-54808698880f",
   "metadata": {},
   "source": [
    "**OBS$^{2}$:** O comando do sistema cat retorna o conteúdo do arquivo de texto; IPython divide esta saída no caractere de nova linha e atribui a lista resultante a `readme_lines`."
   ]
  },
  {
   "cell_type": "markdown",
   "id": "9b59c412-3b3a-4a17-951b-aaa1200873ca",
   "metadata": {},
   "source": [
    "---"
   ]
  }
 ],
 "metadata": {
  "kernelspec": {
   "display_name": "Python 3 (ipykernel)",
   "language": "python",
   "name": "python3"
  },
  "language_info": {
   "codemirror_mode": {
    "name": "ipython",
    "version": 3
   },
   "file_extension": ".py",
   "mimetype": "text/x-python",
   "name": "python",
   "nbconvert_exporter": "python",
   "pygments_lexer": "ipython3",
   "version": "3.9.8"
  }
 },
 "nbformat": 4,
 "nbformat_minor": 5
}
