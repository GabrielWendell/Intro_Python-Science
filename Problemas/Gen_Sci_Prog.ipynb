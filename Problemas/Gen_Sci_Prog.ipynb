{
 "cells": [
  {
   "cell_type": "markdown",
   "id": "4ba062b2-eef5-4ec9-9c93-64fc7f9f4262",
   "metadata": {},
   "source": [
    "# Introdução à Programação Científica em Python"
   ]
  },
  {
   "cell_type": "markdown",
   "id": "1cae4a7c-d525-475a-b926-54e45f190005",
   "metadata": {},
   "source": [
    "## Problemas Propostos #07"
   ]
  },
  {
   "cell_type": "markdown",
   "id": "4b94e2fa-a718-4452-8921-662ab4e69373",
   "metadata": {},
   "source": [
    "- **Aula 7**: *Programação Científica Geral*."
   ]
  },
  {
   "cell_type": "markdown",
   "id": "385f0a97-24c1-463e-8966-97bc99e09060",
   "metadata": {},
   "source": [
    "---"
   ]
  },
  {
   "cell_type": "markdown",
   "id": "eafa48b1-1f9b-4bff-85d3-b703e6443c30",
   "metadata": {},
   "source": [
    "### Problema 1: Introdução à Física de Plasmas"
   ]
  },
  {
   "cell_type": "markdown",
   "id": "9e81fb40-3dad-48fb-9b79-d9b3e878654d",
   "metadata": {},
   "source": [
    "- #### PARTE I: Parâmetros de escala"
   ]
  },
  {
   "cell_type": "markdown",
   "id": "ccb18177-42ab-43f9-867a-f8db233d533e",
   "metadata": {},
   "source": [
    "**a)** Um conceito importante na física dos plasmas é o *comprimento de Debye*, $\\lambda_{\\text{D}}$, que descreve a triagem do potencial eletrostático de uma carga devido ao efeito líquido das interações que ela sofre com as outras cargas móveis (elétrons e íons) no sistema. Pode-se mostrar que, dado um conjunto de suposições razoáveis sobre o comportamento das cargas no plasma, o potencial elétrico devido a uma \"carga de teste\", $q_T$ é dado por"
   ]
  },
  {
   "cell_type": "markdown",
   "id": "57b08cf6-f587-4675-b69d-6a7f6306f376",
   "metadata": {},
   "source": [
    "$$\\tag{1.1}\n",
    "\\phi = \\frac{q_\\mathrm{T}}{4\\pi\\epsilon_0 r}\\exp\\left(-\\frac{r}{\\lambda_\\mathrm{De}}\\right)\\quad,\\quad \\lambda_\\mathrm{De} = \\sqrt{\\frac{\\epsilon_0 T_e}{e^2n_0}}\\text{ },\n",
    "$$"
   ]
  },
  {
   "cell_type": "markdown",
   "id": "fcf16c7f-358d-442d-bac2-6f1274180558",
   "metadata": {},
   "source": [
    "para uma temperatura de elétrons $T_e$ expressa como energia (ou seja, $T_e=k_B T^{′}_{e}$ onde $T^{′}_{e}$ está em $\\text{K}$) e densidade numérica $n_0$. Derivações rigorosas, começando pela Lei de Gauss e resolvendo a equação de Poisson resultante com uma função de Green são fornecidas por exemplo na Seção **7.2.2.** em JP Freidberg, *Plasma Physics and Fusion Energy*, CUP (2008)."
   ]
  },
  {
   "cell_type": "markdown",
   "id": "6240758f-5c7e-45b7-9d7f-9a1a57f1445a",
   "metadata": {},
   "source": [
    "Escreva um código que o potencial de Coulomb blindado $-$ dado pela Eq. $(3.1)$ $-$ e não blindado $-$ dado pela fórmula usual $-$ devido a uma carga de teste pontual $q_T=+e$, assumindo uma temperatura e densidade de elétrons típicas de um dispositivo de fusão nuclear de confinamento magnético [tokamak](https://en.wikipedia.org/wiki/Tokamak)."
   ]
  },
  {
   "cell_type": "code",
   "execution_count": 7,
   "id": "e9730da2-057c-406e-bba1-b83396bfb18c",
   "metadata": {},
   "outputs": [],
   "source": [
    "# SEU CÓDIGO AQUI"
   ]
  },
  {
   "cell_type": "markdown",
   "id": "c8ca168b-8ffb-4b40-b5de-df67f30095da",
   "metadata": {},
   "source": [
    "**b)** Dois parâmetros importantes na física do plasma são o *comprimento de Debye* do elétron, $\\lambda_{\\text{De}}$, uma medida da distância ao longo da qual ocorrem os efeitos de triagem de carga e os desvios da quase-neutralidade são observados, e o número de parículas em um *cubo de Debye* (de comprimento lateral igual a $\\lambda_{\\text{De}}$), $N_\\text{D}$."
   ]
  },
  {
   "cell_type": "markdown",
   "id": "f1fc32ec-913a-42be-8a9e-6031c90d36e4",
   "metadata": {},
   "source": [
    "Em termos de temperatura do elétron, $T_e$ (expressa como energia) e densidade numérica, $n_e$,"
   ]
  },
  {
   "cell_type": "markdown",
   "id": "cf0c7943-defa-4f12-9046-4ff9fbfde865",
   "metadata": {},
   "source": [
    "$$\\tag{1.2}\n",
    "\\lambda_{\\mathrm{D}e} = \\sqrt{\\frac{\\epsilon_0 T_e}{e^2n_e}}\\quad, \\quad N_\\mathrm{D} = n_e\\lambda_{\\mathrm{D}e}\\text{ }.\n",
    "$$"
   ]
  },
  {
   "cell_type": "markdown",
   "id": "0c21699e-c8c9-4096-b527-d9ffcd2ad23d",
   "metadata": {},
   "source": [
    "A condição para um gás ionizado ser considerado um plasma é $N_\\text{D}\\gg1$: muitas partículas carregadas dentro de um cubo de Debye."
   ]
  },
  {
   "cell_type": "markdown",
   "id": "d63f9cd1-9fec-467a-995d-88fc29858444",
   "metadata": {},
   "source": [
    "Trace linhas de constante $\\lambda_{\\text{De}}$ e $N_{\\text{D}}$ para uma faixa de valores típicos de $n_e$ e $T_e$ em uma escala logarítmica e indique os regimes correspondentes a certos tipos de plasma."
   ]
  },
  {
   "cell_type": "markdown",
   "id": "297341f0-06ad-45ea-8b52-cb8ae15776db",
   "metadata": {},
   "source": [
    "**DICA:** Escreva a temperatura dos elétrons $T_e$ em função de $\\lambda_{\\text{De}}$ a partir da $\\text{Eq.}$ $(1.2)$ e em seguida tome o logaritmo natural (base $e$) para linearizar o resultado. O procedimento é análogo para o número de partículas $N_{\\text{D}}$."
   ]
  },
  {
   "cell_type": "code",
   "execution_count": 8,
   "id": "0ff4052d-53f2-405c-82c8-72ba7ba1a35b",
   "metadata": {},
   "outputs": [],
   "source": [
    "# SEU CÓDIGO AQUI"
   ]
  },
  {
   "cell_type": "markdown",
   "id": "cd7c3018-000c-484f-a75b-6ac8df8892e5",
   "metadata": {},
   "source": [
    "- #### PARTE II: Dinâmica do elétron"
   ]
  },
  {
   "cell_type": "markdown",
   "id": "e932fd7e-dcec-4324-a7a2-f6be0d330ff1",
   "metadata": {},
   "source": [
    "**c)** Uma partícula carregada movendo-se em um campo eletromagnético exibe um \"*drift*\", além de seu movimento giratório e qualquer aceleração devida a um componente do campo elétrico paralelo ao campo magnético. Este movimento de deriva tem velocidade $(\\boldsymbol{E}\\times\\boldsymbol{B})/B^{2}$ e é, portanto, conhecido como *drift* $\\boldsymbol{E}\\times\\boldsymbol{B}$. No caso simples de campos magnéticos e elétricos cruzados constantes, a equação de movimento de Lorentz, $m\\ddot{\\boldsymbol{r}}=q(\\boldsymbol{E}+\\dot{\\boldsymbol{r}}×\\boldsymbol{B})$ pode ser resolvida analiticamente para fornecer a trajetória da partícula:"
   ]
  },
  {
   "cell_type": "markdown",
   "id": "9015b289-e8fd-4eb5-b6a5-c901552fba38",
   "metadata": {},
   "source": [
    "$$\\tag{1.3}\n",
    "\\begin{align}\n",
    "x &= \\frac{1}{\\Omega}\\left( v_\\perp - \\frac{E_y}{B_z}\\right)\\sin \\Omega t + \\frac{E_y}{B_z}t\\text{ },\\\\\n",
    "y &= \\frac{1}{\\Omega}\\left( v_\\perp - \\frac{E_y}{B_z}\\right)\\left(1 - \\cos \\Omega t \\right)\\text{ },\\\\\n",
    "z &= 0\\text{ },\n",
    "\\end{align}\n",
    "$$"
   ]
  },
  {
   "cell_type": "markdown",
   "id": "ea2bf710-340b-4936-ac72-78f1cb49c517",
   "metadata": {},
   "source": [
    "onde os campos são $\\boldsymbol{B}=(0,0,B_z)$ e $\\boldsymbol{E}=(0,E_y,0)$, a velocidade inicial é $\\boldsymbol{v}=(0,v_{\\perp},0)$, a girofrequência é $\\Omega=qB_z/m$, e $m$ e $q$ são a massa e a carga da partícula, respectivamente."
   ]
  },
  {
   "cell_type": "markdown",
   "id": "a28430c9-65c1-45dc-a139-87ac203a55b0",
   "metadata": {},
   "source": [
    "Deduza as equações de movimento $(1.3)$ do elétron a partir da equação de movimento de Lorentz e em seguida trace a trajetória deste elétron. Indique no seu gráfico as direções dos campos $\\boldsymbol{E}$ e $\\boldsymbol{B}$."
   ]
  },
  {
   "cell_type": "code",
   "execution_count": 1,
   "id": "bb0fb848-1867-482a-8dc2-53375ce1fe6d",
   "metadata": {},
   "outputs": [],
   "source": [
    "# SEU CÓDIGO AQUI"
   ]
  },
  {
   "cell_type": "markdown",
   "id": "ddb85c43-b5a3-4e46-afa7-c1b3c97d3f95",
   "metadata": {},
   "source": [
    "**d)** Para um $\\boldsymbol{E}$ arbitrário, geralmente é necessário algum tipo de integração numérica da equação de movimento, mas a força que a partícula experimenta em um instante é perpendicular ao campo elétrico e a partícula, portanto, sofre seu movimento giratório ao longo de um isocontorno de potencial eletrostático, $V$."
   ]
  },
  {
   "cell_type": "markdown",
   "id": "9effc0db-f469-4050-a014-5c98962aadec",
   "metadata": {},
   "source": [
    "Considere uma partícula de carga $q$ e massa $m$ movendo-se em um campo magnético constante, $\\boldsymbol{B}=(0,0,B_z)$ perpendicular a um campo elétrico derivado de algum potencial $V(x,y)$: $\\boldsymbol{E}=−\\nabla V$. Concretamente, suponha que $V(x,y)$ seja uma função Gaussiana bidimensional centrada em $(x_0,y_0)$ com largura característica $\\alpha$:"
   ]
  },
  {
   "cell_type": "markdown",
   "id": "5ce839fb-acc1-4a96-9728-d24f0447415f",
   "metadata": {},
   "source": [
    "$$\\tag{1.4}\n",
    "V(x,y)=\\exp{-\\left[\\frac{(x-x_0)^{2}+(y-y_0)^{2}}{\\alpha}\\right]}\\text{ }.\n",
    "$$"
   ]
  },
  {
   "cell_type": "markdown",
   "id": "e8481b20-a18d-4504-bb5f-817655d7d813",
   "metadata": {},
   "source": [
    "Pode-se mostrar que o movimento de uma partícula neste campo eletromagnético consiste em movimento giratório em torno de uma linha de isocontorno do potencial eletrostático. Isto pode ser demonstrado pela integração numérica da equação de movimento de Lorentz."
   ]
  },
  {
   "cell_type": "markdown",
   "id": "4feff66a-ef34-41f2-8539-b286972d002a",
   "metadata": {},
   "source": [
    "Trace o movimento do elétron para este tipo de potencial e em seguida faça uma animação da sua trajetória. Indique no seu gráfico as direções dos campos $\\boldsymbol{E}$ e $\\boldsymbol{B}$."
   ]
  },
  {
   "cell_type": "code",
   "execution_count": 13,
   "id": "8c89a3d8-ff45-4eeb-a40f-18acc61eebf2",
   "metadata": {},
   "outputs": [],
   "source": [
    "# SEU CÓDIGO AQUI"
   ]
  },
  {
   "cell_type": "markdown",
   "id": "67b20062-72c7-4436-82a9-3fb41f4a254e",
   "metadata": {},
   "source": [
    "**e)** Uma partícula carregada de massa $m$ e carga $q$ movendo-se com uma velocidade $\\boldsymbol{v}$ em um campo elétrico $\\boldsymbol{E}$ e um campo magnético $\\boldsymbol{B}$ está sujeita a uma força de Lorentz, $\\boldsymbol{F}$, dada por:"
   ]
  },
  {
   "cell_type": "markdown",
   "id": "18cb4a57-9e92-4cd3-9e6b-147391ef3dc3",
   "metadata": {},
   "source": [
    "$$\\tag{1.5}\n",
    "\\boldsymbol{F} = q(\\boldsymbol{E} + \\boldsymbol{v}\\times\\boldsymbol{B})\\text{ }.\n",
    "$$"
   ]
  },
  {
   "cell_type": "markdown",
   "id": "421e60b9-cf28-4bba-9428-5872519146bb",
   "metadata": {},
   "source": [
    "A equação do movimento de uma única partícula é, portanto, dada pela segunda lei de Newton como:"
   ]
  },
  {
   "cell_type": "markdown",
   "id": "95106a14-46c8-44a1-b356-62601bd4b32c",
   "metadata": {},
   "source": [
    "$$\\tag{1.6}\n",
    "\\boldsymbol{\\ddot{r}} = \\frac{q}{m}(\\boldsymbol{E} + \\boldsymbol{v}\\times\\boldsymbol{B}).\n",
    "$$"
   ]
  },
  {
   "cell_type": "markdown",
   "id": "8924b7a3-722a-4bcd-911a-c9cfabe2e97f",
   "metadata": {},
   "source": [
    "Considere um campo magnético uniforme, $\\boldsymbol{B}=(0,0,B)$ e um campo elétrico zero, $\\boldsymbol{E}=0$. Neste caso, a trajetória da partícula pode ser obtida resolvendo analiticamente a equação de movimento, mas aqui elas serão integradas numericamente. Supondo que a partícula comece com componentes diferentes de zero de sua velocidade paralela $(v_{\\parallel})$ e perpendicular $(v_{\\perp})$ ao campo magnético, ela se move em uma *hélice*, com raio dado por"
   ]
  },
  {
   "cell_type": "markdown",
   "id": "f71b5802-fa50-44a1-9d93-68483957fee8",
   "metadata": {},
   "source": [
    "$$\\tag{1.7}\n",
    "\\rho = \\frac{mv_\\perp}{|q|B}\\text{ },\n",
    "$$"
   ]
  },
  {
   "cell_type": "markdown",
   "id": "431b6e17-cc91-428c-93e0-55537e98b637",
   "metadata": {},
   "source": [
    "conhecido como *raio de Larmor* ou *ciclotron* (ou girorádio)."
   ]
  },
  {
   "cell_type": "markdown",
   "id": "52f88aa1-b82d-4bcb-81e8-adfbee4df486",
   "metadata": {},
   "source": [
    "Usando o método `animation.FuncAnimation` produza uma animação do movimento do elétron."
   ]
  },
  {
   "cell_type": "code",
   "execution_count": 2,
   "id": "0405bcdf-9f14-468d-b1e9-fc0b15dc4582",
   "metadata": {},
   "outputs": [],
   "source": [
    "# SEU CÓDIGO AQUI"
   ]
  },
  {
   "cell_type": "markdown",
   "id": "f01ff0e5-d98f-440a-9061-f99b69f77723",
   "metadata": {},
   "source": [
    "---"
   ]
  },
  {
   "cell_type": "markdown",
   "id": "b759ca6e-9122-4f37-94c8-e3df366559d5",
   "metadata": {},
   "source": [
    "### Problema 2: Floyd-Steinberg Dithering"
   ]
  },
  {
   "cell_type": "markdown",
   "id": "03a645f2-1682-42e9-b30b-8ee76b5e7756",
   "metadata": {},
   "source": [
    "O [pontilhamento de Floyd-Steinberg](https://en.wikipedia.org/wiki/Floyd–Steinberg_dithering) é uma técnica para reduzir a paleta de cores de uma imagem (por exemplo, para reduzir o tamanho do arquivo), mantendo o máximo possível dos detalhes percebidos. Para cada pixel na imagem original, a cor mais próxima daquele pixel é escolhida em uma paleta restrita e qualquer \"erro\" (diferença no valor da cor do pixel, original - novo) é distribuído pelos pixels vizinhos da seguinte forma:"
   ]
  },
  {
   "cell_type": "markdown",
   "id": "07bc03a4-a696-4e78-abf1-eb04865b037c",
   "metadata": {},
   "source": [
    "$$\\tag{2.1}\n",
    "\\begin{array}{ccc}\r\n",
    "0 & 0 & 0 \\\\\r\n",
    "0 & * & \\frac{7}{16} \\\\\r\n",
    "\\frac{3}{16} & \\frac{5}{16} & \\frac{1}{16}\r\n",
    "\\end{array}\n",
    "$$"
   ]
  },
  {
   "cell_type": "markdown",
   "id": "ecfeff6a-f6fd-43f4-8461-284d7921c9ff",
   "metadata": {},
   "source": [
    "O pixel em consideração é rotulado como $∗$ acima. Como os pixels acima e à esquerda deste pixel não são afetados, o algoritmo pode ser aplicado digitalizando a imagem uma vez, de cima para baixo, da esquerda para a direita."
   ]
  },
  {
   "cell_type": "markdown",
   "id": "82100e0e-4f4d-4c27-aef9-e1835ec43def",
   "metadata": {},
   "source": [
    "Escreva um código que implementa a técnica de pontilhamento Floyd-Steinberg, em comparação com a simples escolha do valor de cor mais próximo da paleta restrita para cada pixel."
   ]
  },
  {
   "cell_type": "code",
   "execution_count": 4,
   "id": "0a507e37-0be2-4cbd-9b5b-e08457d2cc42",
   "metadata": {},
   "outputs": [],
   "source": [
    "# SEU CÓDIGO AQUI"
   ]
  },
  {
   "cell_type": "markdown",
   "id": "b45195f6-501c-4ba1-899d-db5c544652cf",
   "metadata": {},
   "source": [
    "---"
   ]
  },
  {
   "cell_type": "markdown",
   "id": "eadf6ae6-1796-435d-8140-0e987c6d4f01",
   "metadata": {},
   "source": [
    "### Problema 3: A forma real dos harmônicos esféricos"
   ]
  },
  {
   "cell_type": "markdown",
   "id": "fc61f2b3-fedf-480b-9798-803ad7f578c9",
   "metadata": {},
   "source": [
    "Os harmônicos esféricos são um conjunto de funções especiais definidas na superfície de uma esfera que se originam na solução da equação de Laplace, $\\nabla^{2}f=0$. Por serem funções base para representações irredutíveis de $\\text{SO}(3)$, o grupo de rotações em três dimensões, aparecem em muitos domínios científicos, em particular como a parte angular das funções de onda dos átomos (orbitais atômicos). Eles são descritos em termos de um *grau* inteiro $\\ell=0,1,2,\\ldots$ e *ordem* $m=−\\ell,−\\ell+1,\\ldots,\\ell$."
   ]
  },
  {
   "cell_type": "markdown",
   "id": "43188750-b92b-4b96-958c-bd5492cac339",
   "metadata": {},
   "source": [
    "Na mecânica quântica, $\\ell$ é identificado com o número quântico do momento angular (orbital) e m com o número quântico azimutal. Neste domínio, eles são geralmente definidos incluindo um fator de $(−1)^{m}$ (a *convenção de fase Condon-Shortley*):"
   ]
  },
  {
   "cell_type": "markdown",
   "id": "4383eb67-f1e8-4c88-a247-30355b21127c",
   "metadata": {},
   "source": [
    "$$\\tag{3.1}\n",
    "Y_{\\ell}^{m}(\\theta,\\varphi)=(-1)^{m}\\sqrt{\\frac{(2\\ell+1)}{4\\pi}\\frac{(\\ell-m)!}{(\\ell+m)!}}P_{\\ell m}(\\cos\\theta)e^{im\\varphi}\\text{ },\n",
    "$$"
   ]
  },
  {
   "cell_type": "markdown",
   "id": "cbcf8b9f-210f-4296-b533-d70bb331e742",
   "metadata": {},
   "source": [
    "onde $P_{\\ell m}(\\cos\\theta)$ é um [polinômio de Legendre associado](https://en.wikipedia.org/wiki/Associated_Legendre_polynomial)."
   ]
  },
  {
   "cell_type": "markdown",
   "id": "11891700-8c9c-432e-8184-c2db8bfb9624",
   "metadata": {},
   "source": [
    "Como $Y^{m}_{\\ell}(\\theta,\\varphi)$ são funções complexas de ângulo, muitas vezes é considerado mais conveniente usar suas formas reais para sua representação em figuras e em alguns cálculos. Uma base real adequada de harmônicos esféricos pode ser definida como::"
   ]
  },
  {
   "cell_type": "markdown",
   "id": "705a24ce-4b9f-438d-b34e-48cda3969e6e",
   "metadata": {},
   "source": [
    "$$\\tag{3.2}\n",
    "Y_{\\ell m} = \\left\\{\n",
    "\\begin{array}{ll}\n",
    "\\displaystyle \\sqrt{2} \\, (-1)^m \\, \\operatorname{Im}[{Y_\\ell^{|m|}}] & \\text{se}\\ m<0\\\\\n",
    "\\displaystyle Y_\\ell^0 & \\text{se}\\ m=0\\\\\n",
    "\\displaystyle \\sqrt{2} \\, (-1)^m \\, \\operatorname{Re}[{Y_\\ell^m}] & \\text{se}\\ m>0.\n",
    "\\end{array}\n",
    "\\right.\n",
    "$$"
   ]
  },
  {
   "cell_type": "markdown",
   "id": "16ee45d2-328e-4075-b0f4-0c4a3dc33734",
   "metadata": {},
   "source": [
    "Escreva um código que calcula os harmônicos esféricos e então gere um gráfico $\\text{3D}$ da forma do harmônico esférico."
   ]
  },
  {
   "cell_type": "code",
   "execution_count": 6,
   "id": "250b7a00-93a7-4fe3-882c-ea0a9b0ffe95",
   "metadata": {},
   "outputs": [],
   "source": [
    "# SEU CÓDIGO AQUI"
   ]
  },
  {
   "cell_type": "markdown",
   "id": "c17ca4e7-2150-43a2-a266-7f979477715e",
   "metadata": {},
   "source": [
    "---"
   ]
  },
  {
   "cell_type": "markdown",
   "id": "713bb465-a793-4d46-a101-ea981a0cd01b",
   "metadata": {},
   "source": [
    "### Problema 4: A equação da onda bidimensional"
   ]
  },
  {
   "cell_type": "markdown",
   "id": "9df0b4a4-6cf8-46dc-8da9-76b5229b680b",
   "metadata": {},
   "source": [
    "**a)** A [equação de onda](https://en.wikipedia.org/wiki/Wave_equation) é uma equação diferencial parcial linear de segunda ordem que descreve o comportamento das ondas mecânicas; sua forma bidimensional (espacial) pode ser usada para descrever ondas na superfície da água:"
   ]
  },
  {
   "cell_type": "markdown",
   "id": "58f061d2-0d7c-4152-81ba-27dad8304bf6",
   "metadata": {},
   "source": [
    "$$\\tag{4.1}\n",
    "\\frac{\\partial^2 u}{\\partial t^2} - c^2\\left( \\frac{\\partial^2 u}{\\partial x^2} + \\frac{\\partial^2 u}{\\partial y^2} \\right) = 0\\text{ }.\n",
    "$$"
   ]
  },
  {
   "cell_type": "markdown",
   "id": "d8ad4b64-d2ab-406f-8692-1da785710055",
   "metadata": {},
   "source": [
    "Para modelar numericamente tais ondas, é comum trabalhar com uma grade discreta de pontos espaciais e temporais e aproximar as derivadas parciais usando o método de diferenças finitas. Uma abordagem simples é calcular a *diferença central* usando pontos vizinhos na grade. Em uma dimensão, para um espaçamento de grade $h$, a primeira e a segunda derivadas são aproximadamente:"
   ]
  },
  {
   "cell_type": "markdown",
   "id": "391a6d38-3333-485b-b59a-b907b8d5139d",
   "metadata": {},
   "source": [
    "$$\\tag{4.2}\n",
    "\\frac{\\mathrm{d}f}{\\mathrm{d}x} \\approx \\frac{f(x + \\frac{h}{2}) - f(x - \\frac{h}{2})}{h} \\quad\\therefore\\quad \\frac{\\mathrm{d}^2f}{\\mathrm{d}x^2} \\approx \\frac{\\frac{f(x + h) - f(x)}{h} - \\frac{f(x) - f(x - h)}{h}}{h}\n",
    "= \\frac{f(x+h) - 2f(x) + f(x-h)}{h^2}\\text{ }.\n",
    "$$"
   ]
  },
  {
   "cell_type": "markdown",
   "id": "49a6762f-b186-4a03-87c6-4fb1c14e61e1",
   "metadata": {},
   "source": [
    "Em duas dimensões (assumindo espaçamento de grade igual em cada direção), a abordagem numérica mais básica é usar o [*estêncil de cinco pontos*](https://en.wikipedia.org/wiki/Five-point_stencil): o que equivale ao seguinte:"
   ]
  },
  {
   "cell_type": "markdown",
   "id": "47cbf587-a2c6-41db-86f8-3a9facbbf820",
   "metadata": {},
   "source": [
    "$$\\tag{4.3}\n",
    "\\begin{align*}\n",
    "\\frac{\\partial^2 f}{\\partial x^2} \\approx \\frac{f(x+h, y) - 2f(x, y) + f(x-h, y)}{h^2}\\text{ },\\\\\n",
    "\\frac{\\partial^2 f}{\\partial y^2} \\approx \\frac{f(x, y+h) - 2f(x, y) + f(x, y-h)}{h^2}\\text{ }.\\\\\n",
    "\\end{align*}\n",
    "$$"
   ]
  },
  {
   "cell_type": "markdown",
   "id": "a38718cf-fa5a-42c0-83bb-5d9ef84207d0",
   "metadata": {},
   "source": [
    "Portanto, o procedimento é escolher um tamanho de grade espacial, $h$ e tamanho do passo de tempo, $\\delta t$, e representar a função como: $u(t;x,y)=u^{(k)}_{i,j}$ onde $k$ rotula o passo de tempo: $u(t+\\delta t;x,y)=u^{(k+1)}_{i,j}$ e $i$ e $j$ as coordenadas $x$ e $y$ da grade espacial, por exemplo:"
   ]
  },
  {
   "cell_type": "markdown",
   "id": "39c28296-97ad-4cb3-b125-94548e592508",
   "metadata": {},
   "source": [
    "$$\\tag{4.4}\n",
    "u(t,x+h,y)=u^{(k)}_{i+1,j}\\quad,\\quad u(t,x,y+h)=u^{(k)}_{i,j+1}\\quad,\\quad\\text{etc}\\text{ }.\n",
    "$$"
   ]
  },
  {
   "cell_type": "markdown",
   "id": "294868a2-e1ba-43f0-98d1-292dd959eb9a",
   "metadata": {},
   "source": [
    "As equações de diferenças finitas acima aproximam a equação de onda como:"
   ]
  },
  {
   "cell_type": "markdown",
   "id": "76a41e75-3f32-4610-9d72-f516630dee53",
   "metadata": {},
   "source": [
    "$$\\tag{4.4}\n",
    "\\frac{1}{\\delta_t^2}\\left( u_{i,j}^{(k+1)} - 2 u_{i,j}^{(k)} + u_{i,j}^{(k-1)} \\right) - \\frac{c^2}{h^2}\n",
    "\\left( u_{i+1,j}^{(k)} + u_{i-1,j}^{(k)} + u_{i,j+1}^{(k)} + u_{i,j-1}^{(k)} - 4 u_{i,j}^{(k)} \\right) = 0\\text{ }.\n",
    "$$"
   ]
  },
  {
   "cell_type": "markdown",
   "id": "86423671-c192-4117-af6e-f730549e4f92",
   "metadata": {},
   "source": [
    "O objetivo da simulação é prever como a função de onda u evoluirá no tempo para cada ponto da grade espacial, ou seja, encontrar $u(k+1)_{i,j}$:"
   ]
  },
  {
   "cell_type": "markdown",
   "id": "8d55c6e3-ba9d-4809-a01b-4a9d0245aee9",
   "metadata": {},
   "source": [
    "$$\\tag{4.5}\n",
    "u_{i,j}^{(k+1)} = \\alpha^2\\left( u_{i+1,j}^{(k)} + u_{i-1,j}^{(k)} + u_{i,j+1}^{(k)} + u_{i,j-1}^{(k)} - 4 u_{i,j}^{(k)} \\right) + 2u_{i,j}^{(k)} - u_{i,j}^{(k-1)}\\text{ },\n",
    "$$"
   ]
  },
  {
   "cell_type": "markdown",
   "id": "749ba94d-ed52-4373-8e6e-d90c79fdae7a",
   "metadata": {},
   "source": [
    "onde $\\alpha=c\\delta t/h$. Este seria o fim da história se a grade espacial tivesse extensão infinita, mas na prática temos que escolher um número finito de pontos $(x,y)$ e, portanto, precisamos nos preocupar com o que acontece no limite da grade. Uma escolha é simplesmente fixar os valores limite da função de onda como zero: $u_{0,j}=u_{i,0}=u_{N_{x},j}=u_{i,N_{y}}=0$. Esta é uma [condição de contorno de Dirichlet](https://en.wikipedia.org/wiki/Dirichlet_boundary_condition) e significa que nenhuma energia das ondas sai da grade de simulação: as ondas são refletidas de volta."
   ]
  },
  {
   "cell_type": "markdown",
   "id": "cd206b11-23fe-435a-9092-00afb0fcf1fd",
   "metadata": {},
   "source": [
    "Uma escolha alternativa é uma *condição de contorno absorvente* (ABC, *absorbing boundary condition*), para a qual não ocorre reflexão: existem diferentes maneiras de aproximar esta condição, mas uma popular é a *condição de contorno de Mur*. Isso pode ser demonstrado em uma dimensão fatorando a equação de onda como:"
   ]
  },
  {
   "cell_type": "markdown",
   "id": "4f62795c-2cb5-4c43-9610-67d62638ae5f",
   "metadata": {},
   "source": [
    "$$\\tag{4.6}\n",
    "\\frac{\\partial^2 u}{\\partial t^2} - c^2\\frac{\\partial^2 u}{\\partial x^2} =\r\n",
    "\\left( \\frac{\\partial}{\\partial t} - c\\frac{\\partial}{\\partial x}\\right)\r\n",
    "\\left( \\frac{\\partial}{\\partial t} + c\\frac{\\partial}{\\partial x}\\right)u =\\text{ } 0,\n",
    "$$"
   ]
  },
  {
   "cell_type": "markdown",
   "id": "bdef641e-d5c7-4192-a3bd-c6adfc546dc0",
   "metadata": {},
   "source": [
    "Cada fator representa uma equação de onda \"unidirecional\", pois corresponde a equações com soluções viajando nas direções $−x$ e $+x$:"
   ]
  },
  {
   "cell_type": "markdown",
   "id": "23966d76-3f79-4be6-bb61-83deee74af00",
   "metadata": {},
   "source": [
    "$$\\tag{4.7}\n",
    "\\begin{align*}\r\n",
    "\\frac{\\partial u}{\\partial t} - c\\frac{\\partial u}{\\partial x} = 0 \\Rightarrow & \\; u_\\leftarrow = e^{i(kx+\\omega t)\\text{ }},\\\\\r\n",
    "\\frac{\\partial u}{\\partial t} + c\\frac{\\partial u}{\\partial x} = 0 \\Rightarrow & \\; u_\\rightarrow = e^{i(kx-\\omega t\\text{ })}.\r\n",
    "\\end{align*}\n",
    "$$"
   ]
  },
  {
   "cell_type": "markdown",
   "id": "33dbc22c-4d09-498f-8151-cbbb784528eb",
   "metadata": {},
   "source": [
    "Portanto, aplicamos a primeira dessas equações no limite $x=0$, de modo que apenas as ondas que viajam para fora do domínio na direção negativa de $x$ sejam suportadas (sem reflexão de volta ao domínio); na outra fronteira, aplicamos a segunda equação para garantir que a solução consiste apenas em ondas viajando para fora do domínio na direção $x$ positiva."
   ]
  },
  {
   "cell_type": "markdown",
   "id": "a33d32d5-9174-4cf7-bdc4-39845d165015",
   "metadata": {},
   "source": [
    "Nas versões discretizadas destas equações há uma complicação porque as derivadas espaciais e temporais têm que ser avaliadas no mesmo ponto (no tempo e no espaço), por exemplo, para o limite esquerdo:"
   ]
  },
  {
   "cell_type": "markdown",
   "id": "ed0b3a6b-194d-4557-b413-a1607f45f1a5",
   "metadata": {},
   "source": [
    "$$\\tag{4.8}\n",
    "u_{\\frac{1}{2},j}^{(k+1)} - u_{\\frac{1}{2},j}^{(k)} - \\frac{c\\delta_t}{h}\n",
    "\\left( u_{1,j}^{\\left(k+\\frac{1}{2}\\right)} - u_{0,j}^{\\left(k+\\frac{1}{2}\\right)} \\right) = 0\\text{ }.\n",
    "$$"
   ]
  },
  {
   "cell_type": "markdown",
   "id": "1a3e3a42-2708-476c-a897-05d4716195ec",
   "metadata": {},
   "source": [
    "É claro que não temos índices meio inteiros para nossos passos de espaço e tempo, então, em vez disso, optamos por calcular a média dos pontos vizinhos:"
   ]
  },
  {
   "cell_type": "markdown",
   "id": "9d95a20c-3344-4e5f-bd19-8ae0d5944d74",
   "metadata": {},
   "source": [
    "$$\\tag{4.9}\n",
    "\\frac{1}{2}\\left( \\frac{u_{1,j}^{(k+1)} - u_{1,j}^{(k)}}{\\delta_t} + \\frac{u_{0,j}^{(k+1)} - u_{0,j}^{(k)}}{\\delta_t}\\right) - \\frac{c}{2}\n",
    "\\left( \\frac{u_{1,j}^{(k+1)} - u_{0,j}^{(k+1)}}{h} + \\frac{u_{1,j}^{(k)} - u_{0,j}^{(k)}}{h} \\right) = 0\\text{ }.\n",
    "$$"
   ]
  },
  {
   "cell_type": "markdown",
   "id": "8ed36d68-a007-4e48-b2ca-6b1822813339",
   "metadata": {},
   "source": [
    "Reorganizando para a quantidade necessária, $u^{(k+1)}_{0,j}$ dá:"
   ]
  },
  {
   "cell_type": "markdown",
   "id": "66c92208-e02d-48b9-b9d7-c40548a9b50e",
   "metadata": {},
   "source": [
    "$$\\tag{4.10}\n",
    "u_{0,j}^{(k+1)} = u_{1,j}^{(k)} - \\frac{1-\\alpha}{1+\\alpha}\n",
    "\\left[u_{1,j}^{(k+1)} - u_{0,j}^{(k)}\\right]\\text{ }.\n",
    "$$"
   ]
  },
  {
   "cell_type": "markdown",
   "id": "2e4317af-9ff5-4e3d-935e-1d86fe5eb1b2",
   "metadata": {},
   "source": [
    "Da mesma forma, no limite direito:"
   ]
  },
  {
   "cell_type": "markdown",
   "id": "4479e200-6ced-4526-9038-c6f76f58f340",
   "metadata": {},
   "source": [
    "$$\\tag{4.11}\n",
    "u_{N,j}^{(k+1)} = u_{N-1,j}^{(k)} + \\frac{1-\\alpha}{1+\\alpha}\\left(\n",
    "u_{N,j}^{(k)} - u_{N-1,j}^{(k+1)}\n",
    "\\right)\\text{ },\n",
    "$$"
   ]
  },
  {
   "cell_type": "markdown",
   "id": "ffe33d95-58c6-44e2-b50b-2fb992cde150",
   "metadata": {},
   "source": [
    "onde $N$ é o índice da coordenada final na direção $x$ (aqui, $N=n_x−1$ devido à indexação baseada em zero do Python). As equações correspondentes se aplicam aos limites superior e inferior na direção $y$."
   ]
  },
  {
   "cell_type": "markdown",
   "id": "405ee6d0-539e-4d4d-ab58-e84ca2f5f19a",
   "metadata": {},
   "source": [
    "Diante de tudo isso, está na hora de pôr a mão na massa. Crie uma classe `WaveEqn2D` que implementa este esquema de integração para a equação de onda bidimensional e em seguida crie uma animação da propagação de uma onda bidimensional para cada condição de contorno:"
   ]
  },
  {
   "cell_type": "code",
   "execution_count": 2,
   "id": "1502a46b-46b1-4dca-bab5-3e3506260b8a",
   "metadata": {},
   "outputs": [],
   "source": [
    "# SEU CÓDIGO AQUI"
   ]
  },
  {
   "cell_type": "markdown",
   "id": "674cd1fc-c3ec-48cf-a22c-3a131a04ba24",
   "metadata": {},
   "source": [
    "**b)** Um objeto (navio, pato, etc.) viajando através da superfície da água a uma velocidade constante $\\boldsymbol{u}$ produz um padrão de onda característico descrito pela primeira vez por Lord Kelvin. Tal padrão é conhecido como [*Kelvin wake pattern*](https://en.wikipedia.org/wiki/Kelvin_wake_pattern)."
   ]
  },
  {
   "cell_type": "markdown",
   "id": "688cd9a0-2e54-4615-9194-fb1b57f92038",
   "metadata": {},
   "source": [
    "Em seu modelo do efeito, ele assumiu águas profundas e paradas, negligenciou a tensão superficial e restringiu a magnitude da pressão, fazendo com que a onda fosse pequena o suficiente para que as equações de movimento relevantes pudessem ser tratadas como lineares. Com essas suposições, o vetor de onda associado a uma perturbação periódica, $\\boldsymbol{k}=k_{x}\\hat{\\boldsymbol{x}}+k_{y}\\hat{\\boldsymbol{y}}$ oscila a uma frequência angular de $\\omega(\\boldsymbol{k})=\\sqrt{g|\\boldsymbol{k}|}$, onde $g$ é a aceleração gravitacional e a magnitude de o vetor de onda está relacionado ao comprimento de onda através de $\\lambda=2\\pi/|\\boldsymbol{k}|$."
   ]
  },
  {
   "cell_type": "markdown",
   "id": "aaf3a68a-ae55-4a9e-a3b5-621cd3bf398a",
   "metadata": {},
   "source": [
    "A mudança devido às ondas na altura da água é então:"
   ]
  },
  {
   "cell_type": "markdown",
   "id": "3d0f1a9b-085c-4d3c-94b7-bc9f824a3c73",
   "metadata": {},
   "source": [
    "$$\\tag{4.12}\n",
    "z(\\boldsymbol{r},t) = \\int A(\\boldsymbol{k}) \\exp[i(\\boldsymbol{k}.\\boldsymbol{r} - \\omega t)]\\,\\mathrm{d}^2\\boldsymbol{k}\\text{ },\n",
    "$$"
   ]
  },
  {
   "cell_type": "markdown",
   "id": "6ef7a766-75be-479d-a816-9869840cf2e8",
   "metadata": {},
   "source": [
    "No referencial de um objeto (que pode ser um pato, um navio, etc.) causando tal perturbação, a água parece estar se movendo com velocidade $−\\boldsymbol{u}$ e $\\omega(\\boldsymbol{k})=\\sqrt{g|\\boldsymbol{k}|}−\\boldsymbol{u}\\cdot\\boldsymbol{k}$. Neste quadro a esteira aparece como o padrão de interferência de ondas estacionárias: $\\omega(\\boldsymbol{k})=0$ e portanto:"
   ]
  },
  {
   "cell_type": "markdown",
   "id": "5556820f-2e20-4feb-b6c5-eaaae54b9206",
   "metadata": {},
   "source": [
    "$$\\tag{4.13}\n",
    "g|\\boldsymbol{k}| = (\\boldsymbol{u}.\\boldsymbol{k})^2 = |\\boldsymbol{k}|^2 (\\boldsymbol{u}.\\boldsymbol{\\hat{k}})^2 \\;\\implies\\; |\\boldsymbol{k}| = \\frac{g}{(\\boldsymbol{u}.\\boldsymbol{\\hat{k}})^2}\\text{ }.\n",
    "$$"
   ]
  },
  {
   "cell_type": "markdown",
   "id": "f9f30bf4-6d88-4bc9-b2a4-85eb6d033ec4",
   "metadata": {},
   "source": [
    "$$\\tag{4.14}\n",
    "\\therefore\\quad \\boldsymbol{k} = |\\boldsymbol{k}|\\boldsymbol{\\hat{k}} = \\frac{g}{(\\boldsymbol{u}.\\boldsymbol{\\hat{k}})^2}\\boldsymbol{\\hat{k}}\\text{ },\n",
    "$$"
   ]
  },
  {
   "cell_type": "markdown",
   "id": "c6845308-aa09-4ab3-8a18-94b2c653f40d",
   "metadata": {},
   "source": [
    "onde o vetor unitário, $\\hat{\\boldsymbol{k}}=(\\cos{\\theta},\\sin{\\theta})$ com $\\theta$ medido em relação à direção de $\\boldsymbol{u}$: isto é, $\\boldsymbol{u}\\cdot\\hat{\\boldsymbol{k}}=u\\cos{\\theta}$. Portanto:"
   ]
  },
  {
   "cell_type": "markdown",
   "id": "c468a96f-577e-4c11-9860-6b53eb1036ac",
   "metadata": {},
   "source": [
    "$$\\tag{4.15}\n",
    "z(\\boldsymbol{r}) = \\int_0^{2\\pi} A(\\theta) \\exp \\left[ ig\\frac{\\boldsymbol{r}.\\boldsymbol{\\hat{k}}}{(\\boldsymbol{u}.\\boldsymbol{\\hat{k}})^2} \\right]\\,\\mathrm{d}\\theta\\text{ }.\n",
    "$$"
   ]
  },
  {
   "cell_type": "markdown",
   "id": "20dd78a1-c802-44c6-8d01-9ab90564eb44",
   "metadata": {},
   "source": [
    "Agora, suponha que $A$ seja constante para $−\\frac{\\pi}{2}<\\theta<\\frac{\\pi}{2}$ e zero em outros lugares: o navio perturba a água igualmente nas imediações de sua popa. Escrevendo $\\boldsymbol{r}$ em coordenadas polares $\\boldsymbol{r}=r(\\cos{\\phi},\\sin{\\phi})$, temos"
   ]
  },
  {
   "cell_type": "markdown",
   "id": "31c0bc94-9865-4ddc-a398-03a40233985d",
   "metadata": {},
   "source": [
    "$$\\tag{4.16}\n",
    "\\boldsymbol{r}.\\boldsymbol{\\hat{k}} = r(\\cos\\theta\\cos\\phi + \\sin\\theta\\sin\\phi) = r\\cos(\\theta - \\phi)\\text{ },\n",
    "$$"
   ]
  },
  {
   "cell_type": "markdown",
   "id": "5e801b51-a86b-46b5-80b2-faf82a46a998",
   "metadata": {},
   "source": [
    "$$\\tag{4.17}\n",
    "z(\\phi, r) = \\int_{-\\pi/2}^{\\pi/2} \\exp\\left[ ig\\frac{r\\cos(\\theta-\\phi)}{u^2\\cos^2\\theta} \\right]\\,\\mathrm{d}\\theta = \\int_{-\\pi/2}^{\\pi/2} \\cos\\left[ \\rho \\frac{\\cos(\\theta-\\phi)}{\\cos^2\\theta} \\right]\\,\\mathrm{d}\\theta\\text{ },\n",
    "$$"
   ]
  },
  {
   "cell_type": "markdown",
   "id": "09fb2b52-a12b-45af-9aa6-79b6d086cb9d",
   "metadata": {},
   "source": [
    "onde $\\rho=rg/u^{2}$. Existem outras [aproximações que podem produzir uma solução para $z(\\varphi,r)$ em termos de funções de Airy](https://dlmf.nist.gov/36.13)."
   ]
  },
  {
   "cell_type": "markdown",
   "id": "9afc8e77-5c1d-42be-b86f-b96149b23f8d",
   "metadata": {},
   "source": [
    "Diante do exposto, implemente e avalie a integral numericamente e em seguida crie um gráfico do padrão de onda de Kelvin e uma animação da evolução de uma perturbação por um objeto."
   ]
  },
  {
   "cell_type": "code",
   "execution_count": 3,
   "id": "477bcdbf-9a2e-4e70-8f6e-5dcc999f79e4",
   "metadata": {},
   "outputs": [],
   "source": [
    "# SEU CÓDIGO AQUI"
   ]
  },
  {
   "cell_type": "markdown",
   "id": "bd987f18-5185-42ec-8919-d592f39a5fe9",
   "metadata": {},
   "source": [
    "---"
   ]
  },
  {
   "cell_type": "markdown",
   "id": "b777f592-2b52-4b46-8905-fa2fef015dbb",
   "metadata": {},
   "source": [
    "### Problema 5: O problema de três corpos"
   ]
  },
  {
   "cell_type": "markdown",
   "id": "4c76c734-d7e7-44e5-a012-7ee23e62b093",
   "metadata": {},
   "source": [
    "Este é um problema desafiador da Mecânica Celeste $-$ e um clássico neste campo $-$ o *problema de três corpos*. "
   ]
  },
  {
   "cell_type": "markdown",
   "id": "2eae9833-259f-40ed-a300-ef4ce7434d0e",
   "metadata": {},
   "source": [
    "Três estrelas, em um espaço vazio, estão inicialmente em repouso, com as seguintes massas e posições, em unidades arbitrárias:"
   ]
  },
  {
   "cell_type": "markdown",
   "id": "7c55d20f-718d-4622-84d1-6990198b3742",
   "metadata": {},
   "source": [
    "| $\\cdot$       | Massa | $x$  | $y$  |\r\n",
    "|-----------|-------|------|------|\r\n",
    "| Estrela 1 | $150$ | $3$  | $1$  |\r\n",
    "| Estrela 2 | $200$ | $-1$ | $-2$ |\r\n",
    "| Estrela 3 | $250$ | $-1$ | $1$  |"
   ]
  },
  {
   "cell_type": "markdown",
   "id": "d6f77d0c-e1a5-4800-bc0c-ec3e7c4d29d8",
   "metadata": {},
   "source": [
    "**OBS:** Todas as coordenadas $z$ são zero, de modo que as estrelas estão localizadas no plano $xy$."
   ]
  },
  {
   "cell_type": "markdown",
   "id": "bc004772-95ae-41ae-9754-010207bd71a3",
   "metadata": {},
   "source": [
    "**a)** Mostre que a equação de movimento governando a posição $\\boldsymbol{r}_1$ da primeira estrela é"
   ]
  },
  {
   "cell_type": "markdown",
   "id": "82e53a29-ebf9-402b-b3ec-e380de759286",
   "metadata": {},
   "source": [
    "$$\\tag{5.1}\n",
    "\\frac{\\text{d}^{2}\\boldsymbol{r}}{\\text{d}t^{2}}=Gm_2\\frac{\\boldsymbol{r}_2-\\boldsymbol{r}_1}{|\\boldsymbol{r}_2-\\boldsymbol{r}_1|^{3}}+Gm_3\\frac{\\boldsymbol{r}_3-\\boldsymbol{r}_1}{|\\boldsymbol{r}_3-\\boldsymbol{r}_1|^{3}}\\text{ },\n",
    "$$"
   ]
  },
  {
   "cell_type": "markdown",
   "id": "f31c9e67-98b2-4b4c-96dd-b66d562e6ceb",
   "metadata": {},
   "source": [
    "e derive duas equações similares para as posições $\\boldsymbol{r}_2$ e $\\boldsymbol{r}_3$ das outras estrelas. Em seguida, converta as três equações de segunda ordem em seis equações equivalentes de primeira ordem, usando as técnicas que lhe forem mais convenientes."
   ]
  },
  {
   "cell_type": "code",
   "execution_count": 2,
   "id": "c96548d8-3653-4f31-a0bc-46806a107378",
   "metadata": {},
   "outputs": [],
   "source": [
    "# SEU CÓDIGO AQUI"
   ]
  },
  {
   "cell_type": "markdown",
   "id": "a22e2b07-e842-464f-9894-37a24943188a",
   "metadata": {},
   "source": [
    "**b)** Trabalhando com unidades onde $G=1$, escreva um programa para resolver suas equações e consequentemente calcular o movimento das estrelas de $t=0$ até $t=2$. Faça um gráfico (ou uma animação se preferir) mostrando a trilha de todas as estrelas (ou seja, um gráfico de $y$ *versus* $x$)."
   ]
  },
  {
   "cell_type": "markdown",
   "id": "3894a96b-da9e-4852-9878-e2f704705848",
   "metadata": {},
   "source": [
    "**DICA$^{1}$:** Tente é usar o método do passo adaptativo, uma vez que as estrelas se movem muito rápido quando estão próximas e muito lentamente quando estão bem separadas. A sugestão é definir um critério de modo que o erro introduzido seja menor que $10^{-3}$ na posição de cada estrela por unidade de tempo. "
   ]
  },
  {
   "cell_type": "code",
   "execution_count": 1,
   "id": "86cebe8f-2ee3-4510-b35c-18cab28363d6",
   "metadata": {},
   "outputs": [],
   "source": [
    "# SEU CÓDIGO AQUI"
   ]
  },
  {
   "cell_type": "markdown",
   "id": "3d2fa763-81f4-4238-af1a-91ac450892b3",
   "metadata": {},
   "source": [
    "**c)** Simule um sistema composto por uma estrela e dois planetas massivos, usando os parâmetros abaixo (note que os planetas tem uma velocidade inicial na direção $y$). Calcule o movimento do sistema de $t=0$ a $t=100$ $-$ você deve obter neste caso um sistema em que os planetas orbitam a estrela."
   ]
  },
  {
   "cell_type": "markdown",
   "id": "c670842e-e9fd-430d-a7bd-13720efb56ef",
   "metadata": {},
   "source": [
    "| $.$       | Massa | $x$  | $y$  | $v_y$ |\n",
    "|-----------|-------|------|------|-------|\n",
    "| Estrela 1 |$10000$| $0$  | $0$  | $0$   |\n",
    "| Planeta 1 | $200$ |$-100$| $0$  | $-5$  |\n",
    "| Planeta 2 | $250$ |$150$ | $0$  | $5$   |"
   ]
  },
  {
   "cell_type": "markdown",
   "id": "2b7366a8-1861-4e8d-84d1-7b611f8bd27a",
   "metadata": {},
   "source": [
    "**DICA$^{2}$:** Para o caso de um sistema planetário, a sugestão é usar um erro bem menor (talvez $10^{-6}$). Você é livre para usar qualquer método, mas o cálculo demorará bastante tempo para rodar sem o método adaptativo."
   ]
  },
  {
   "cell_type": "code",
   "execution_count": 3,
   "id": "bdab1f84-7ffb-44d1-a7d2-7df8b6cee62a",
   "metadata": {},
   "outputs": [],
   "source": [
    "# SEU CÓDIGO AQUI"
   ]
  },
  {
   "cell_type": "markdown",
   "id": "a969cc31-b608-4de7-92aa-593d834333ca",
   "metadata": {},
   "source": [
    "---"
   ]
  },
  {
   "cell_type": "markdown",
   "id": "f2c06bb8-7d57-4860-a872-186f3e01698c",
   "metadata": {},
   "source": [
    "### $\\star$ Desafio: Evolução temporal de um ferromagneto"
   ]
  },
  {
   "cell_type": "markdown",
   "id": "6ceb33c0-c656-4202-8ea1-93d26d7bf052",
   "metadata": {},
   "source": [
    "O ferromagnetismo é a propriedade de certos materiais, como o ferro, de possuiram uma grande permeabilidade magnética, que por sua vez é o quanto a magnetização do material se alinha em resposta a um campo magnético externo. Alguns desses materiais podem se tornar imãs temporários."
   ]
  },
  {
   "cell_type": "markdown",
   "id": "8b7e92a5-9f39-46d2-a6d7-33b2faef1ec4",
   "metadata": {},
   "source": [
    "O [modelo Ising](https://ipparco.roma1.infn.it/pagine/deposito/1998/libro.pdf)  descreve um ferromagneto através de uma rede de particulas organizadas, normalmente, em uma grade, que interagem somente com os seus$ $4 vizinhos adjacentes. Este é um modelo de$ $2 estados, ou seja, cada particula pode assumir$ $1 de$ $2 valores discretos, nomeadamente spin $\\pm1$\r\n",
    "."
   ]
  },
  {
   "cell_type": "markdown",
   "id": "747fa5f2-0dff-45b0-a11d-a875b91af77d",
   "metadata": {},
   "source": [
    "$$\\tag{*.1}\n",
    "H(\\sigma) = - \\sum_{i j}{J_{ij}\\sigma_i \\sigma_j} - \\mu\\sum_{j}{h_j\\sigma_j}\\text{ },\n",
    "$$"
   ]
  },
  {
   "cell_type": "markdown",
   "id": "8847be5a-cae3-49b8-8639-7c67deb22e64",
   "metadata": {},
   "source": [
    "onde $J_{ij}$ é uma constante positiva para ferromagnetos, dependente de quais pontos da rede estão interagindo $\\sigma$ é o estado do sistema e $\\sigma_{i}$ é o estado do $i-$ésimo ponto da rede, $\\mu$ é momento magnético e $h_i$ é o campo magnético externo que interage com o $i-$ésimo ponto da rede."
   ]
  },
  {
   "cell_type": "markdown",
   "id": "d3a5e92b-ca5f-49ba-bbcf-d42e71f87e6f",
   "metadata": {},
   "source": [
    "Para cada estado $\\sigma$  do sistema, podemos encontra-lo com uma probabilidade de configuração$P_{\\beta}(\\sigma)$\r\n",
    ", dada pela distribuição de Boltzmann, definida para alguma temperatu:a."
   ]
  },
  {
   "cell_type": "markdown",
   "id": "05077c25-410a-4603-ac8e-88d2e8067800",
   "metadata": {},
   "source": [
    "$$\\tag{*.2}\n",
    "P_{\\beta}(\\sigma) = \\frac{e^{-\\beta H(\\sigma)}}{Z_{\\beta}}\\text{ },\n",
    "$$"
   ]
  },
  {
   "cell_type": "markdown",
   "id": "dcaa2535-3a5d-4463-82bf-f9fb3cffaaf5",
   "metadata": {},
   "source": [
    "onde $\\beta=1/k_{B}T$ e a constante de normalização é $Z_{\\beta}=\\sum_{\\sigma}e^{-\\beta H(\\sigma)}$."
   ]
  },
  {
   "cell_type": "markdown",
   "id": "59d77eb1-c0e2-4d39-940f-c8309a64cd11",
   "metadata": {},
   "source": [
    "- #### PARTE I: Modelo simplificado"
   ]
  },
  {
   "cell_type": "markdown",
   "id": "26f113c5-e0b3-452a-98a5-e1446721162f",
   "metadata": {},
   "source": [
    "**a)** De início, vamos analisar um casos simplificado onde $J_{ij}=J$ para todas as interações e o campo externo $h=0$, o que nos leva a:"
   ]
  },
  {
   "cell_type": "markdown",
   "id": "fd9990d6-f852-4c91-9c27-729b76478370",
   "metadata": {},
   "source": [
    "$$\\tag{*.3}\n",
    "H_{\\text{red}}(\\sigma) = -J\\sum_{i j }{\\sigma_i \\sigma_j}\\text{ },\n",
    "$$"
   ]
  },
  {
   "cell_type": "markdown",
   "id": "5ab39619-e93d-45f3-86b4-1c240fb8a990",
   "metadata": {},
   "source": [
    "Uma função importante para o que está por vir é a função $H_{\\text{local}}(\\sigma_{xy})$ que representa a energia de interação do ponto localizado nas coordenadas $x$ e $y$ com os seus vizinhos adjacentes. Estaremos trabalhando com uma condição de contorno periódica, introduzida sempre que acessarmos o estado de um dos pontos da rede através da função $\\sigma_{xy}$. Essa condição de contorno é necessária para que todos os pontos estejam interagindo com $4$ vizinhos, emulando um ambiente infinito, apesar de que na prática estamos em uma geometria fechada."
   ]
  },
  {
   "cell_type": "markdown",
   "id": "df60f40f-7c41-4cbf-95d2-98562efe8160",
   "metadata": {},
   "source": [
    "Diante disso, implemente as funções acima descritas e inicialize a rede randomizando-a com valores igual a $-1$ ou $1$. "
   ]
  },
  {
   "cell_type": "code",
   "execution_count": 4,
   "id": "a801d34d-b53e-49c7-86ac-50485e719a6d",
   "metadata": {},
   "outputs": [],
   "source": [
    "# SEU CÓDIGO AQUI"
   ]
  },
  {
   "cell_type": "markdown",
   "id": "46ed2c06-2ba5-4cc0-8f22-f8d61c4fde26",
   "metadata": {},
   "source": [
    "- #### PARTE II: Algoritmo de Metropolis"
   ]
  },
  {
   "cell_type": "markdown",
   "id": "fb2537a2-dcc2-4661-a6a8-c5ae77eea92b",
   "metadata": {},
   "source": [
    "**b)** No nosso sistema temos $N$ pontos, cada um com $2$ estados distintos, totalizando um total de $2^{N}$ estados possíveis. Para um $N$ muio grande, temos uma quantidade enorme de estados, o que torna o cálculo de $Z_{\\beta}$ impraticável."
   ]
  },
  {
   "cell_type": "markdown",
   "id": "fd356a8e-0d74-4005-b518-57b8ecbdde54",
   "metadata": {},
   "source": [
    "Dessa forma, precisamos de um método onde não é necessário a normalização da função de probabilidade e somos incentivados a utilizar um dos [métodos de Monte Carlo](https://global.oup.com/academic/product/monte-carlo-methods-in-statistical-physics-9780198517979) para essa simulação. Mais especificamente, estaremos utilizando o *algoritmo de Metropolis*. Este algoritimo consiste em escolher uma função de probabilidade de seleção $g(u,v)$ que indica a probabilidade de um estado $v$ ser selecionado dado que estamos no estado $u$. É interessante que essa função seja simétrica, ou seja $g(u,v)=g(v,u)$, já que a quebra de simetria será introduzida em uma função posterior, podendo a função $g$ ser uma distribuição Gaussina, por exemplo, tornando estados mais próximos de u mais prováveis de serem escolhidos."
   ]
  },
  {
   "cell_type": "markdown",
   "id": "ac479721-eca0-4510-b9ec-d6e6316c864c",
   "metadata": {},
   "source": [
    "Como estamos realizando a iteração na simulação escolhendo um ponto por vez, qualquer estado seguinte $v$ será igualmente e imediatamente próximo ao atual $u$, de forma que devemos escolher $g(u,v)=1/L^{2}$, por ser mais coerente. Após um dos pontos da rede ser escolhido para que ocorra uma inversão (*flip*) no valor do spin, manteremos a maximização da entropia, respeitando a $\\text{Eq.}$ $(*.2)$, atravez da introdução de uma função de probabilidade de aceitação $A(u,v)$ que define a probabilidade do novo estado $v$ ser aceito dado que estamos no estado $u$. Não é surpresa que tal função seja exatamente a própria $\\text{Eq.}$ $(*.2)$ quando desconhecemos o estado atual $u$."
   ]
  },
  {
   "cell_type": "markdown",
   "id": "c925be91-44cc-4f36-ba78-cc0ae16f2a9e",
   "metadata": {},
   "source": [
    "O modelo Ising pode ser visto como uma cadeia de Markov, um sistema estocástico onde cada evento de sequencia de eventos depende apenas do evento anterior. Quando realizamos uma transição do estado $u$ para o $v$, através do *flip* (opcional) de um único spin, a probabilidade desse novo estado ser um estado especifico depende de qual era o estado anterior (a entropia tende a crescer). Podemos usar o teorema de Bayes para encontrar esse valor:\n",
    "."
   ]
  },
  {
   "cell_type": "markdown",
   "id": "179bece7-866b-4d9a-8759-90388e7e6802",
   "metadata": {},
   "source": [
    "$$\\tag{*.4}\n",
    "P(v|u)=\\frac{P(u|v)P(v)}{P(u)}\\text{ },\n",
    "$$"
   ]
  },
  {
   "cell_type": "markdown",
   "id": "1992c928-637b-47e1-a233-3735722b265c",
   "metadata": {},
   "source": [
    "onde $P(v|u)=P(u,v)$ e $P(u)=P_{\\beta}(u)$."
   ]
  },
  {
   "cell_type": "markdown",
   "id": "69d4b4a8-688a-4a86-9133-600034177862",
   "metadata": {},
   "source": [
    "Entretanto, como podemos decompor $P(u,v)=g(u,v)A(u,v)$, isso nos leva a:"
   ]
  },
  {
   "cell_type": "markdown",
   "id": "233f964c-62ba-44d4-9872-5b456629e55e",
   "metadata": {},
   "source": [
    "$$\\tag{*.5}\n",
    "\\frac{A(u,v)}{A(v,u)} = \\frac{P_{\\beta}(v)}{P_{\\beta}(u)} = \\frac{\\frac{1}{Z}e^{-\\beta H_v}}{\\frac{1}{Z}e^{-\\beta H_u}} = e^{-\\beta (H_v-H_u)}\\text{ },\n",
    "$$"
   ]
  },
  {
   "cell_type": "markdown",
   "id": "6d2ebd2e-0f29-443c-bb77-819248d3a904",
   "metadata": {},
   "source": [
    "A função que obedece a essa relação pode ser descrita como a seguir:á"
   ]
  },
  {
   "cell_type": "markdown",
   "id": "6d8a9326-1d99-4f0d-a17c-29e4f4e198a1",
   "metadata": {},
   "source": [
    "$$\\tag{*.6}\n",
    "A(u,v) = \n",
    "\\begin{cases} \n",
    "e^{-\\beta (H_v-H_u)}, &\\text{se } H_v - H_u \\text{ > 0}\\text{ }, \n",
    "\\\\ 1, &\\text{caso contrário}\\text{ }. \n",
    "\\end{cases}\n",
    "$$"
   ]
  },
  {
   "cell_type": "markdown",
   "id": "0736a520-6f5f-4cc8-b630-248c903352e6",
   "metadata": {},
   "source": [
    "Note que a função de probabilidade de aceitação dependerá apenas da diferença de energia entre os estados, que por sua vez depende apenas da interação do ponto da rede invertido com os seus vizinhos adjacentes. \n",
    "Vamos chamar$H_{v}-H_{u}=\\text{d}H$\r",
    " , que pode ser obtido por:"
   ]
  },
  {
   "cell_type": "markdown",
   "id": "fcb98c1e-e014-4aa9-9527-f2a757d04a63",
   "metadata": {},
   "source": [
    "$$\\tag{*.7}\n",
    "\\text{d}H_i = 2J\\sigma_i\\sum_{j}{\\sigma_j}\\text{ },\n",
    "$$"
   ]
  },
  {
   "cell_type": "markdown",
   "id": "6b08b20a-db3c-4549-9ec5-7e85a73f7a41",
   "metadata": {},
   "source": [
    "onde $j$ itera nas vizinhanças de $i$."
   ]
  },
  {
   "cell_type": "markdown",
   "id": "46ef2dc5-872a-4e55-9228-fcbd7cc1118b",
   "metadata": {},
   "source": [
    "Implemente as equações apresentadas acima da forma que melhor lhe for conveniente. Você deve definir uma função de iteração que implementa um passo base de tamanho $L$ arbitrário (uma sugestão seria usar $500$), ou seja, $L$ comparações em cada passo. Use essas funções para gerar a evolução do seu sistema e em seguida gere uma animação correspondente ao estado do sistema."
   ]
  },
  {
   "cell_type": "code",
   "execution_count": 1,
   "id": "25aed659-a200-4cd0-b60f-de329c9d3a8e",
   "metadata": {},
   "outputs": [],
   "source": [
    "# SEU CÓDIGO AQUI"
   ]
  },
  {
   "cell_type": "markdown",
   "id": "d53d13c5-6211-494f-91e9-251bc9dd30bd",
   "metadata": {},
   "source": [
    "- #### PARTE III: Sistema sob ação de um campo"
   ]
  },
  {
   "cell_type": "markdown",
   "id": "4ba962a4-0f6e-47e7-aaf5-7ee2810e4722",
   "metadata": {},
   "source": [
    "Na nossa descrição acima trabalhamos com um Hamiltoniano sem a ação de um campo magnético externo. Agora, vamos descrever como o sistema se comporta sob a ação de um campo."
   ]
  },
  {
   "cell_type": "markdown",
   "id": "98a9aa6b-843b-41a2-a06b-a17c5951b5cd",
   "metadata": {},
   "source": [
    "A partir da $\\text{Eq.}$ $(*.1)$ e, novamente, considerando que $J_{ij}=J$ para todo $i,j$ e considerando um campo homogêneo $h_j=h$, obtemos o Hamiltoniano:"
   ]
  },
  {
   "cell_type": "markdown",
   "id": "4615ad1a-5588-4a7d-8959-4e547a88aa2c",
   "metadata": {},
   "source": [
    "$$\\tag{*.8}\n",
    "H(\\sigma) = - J\\sum_{i j}{\\sigma_i \\sigma_j} - \\mu h\\sum_{j}{\\sigma_j}\\text{ },\n",
    "$$"
   ]
  },
  {
   "cell_type": "markdown",
   "id": "3214055a-3803-48f3-a0cb-d84040f92393",
   "metadata": {},
   "source": [
    "Observe que, sob a ação de um campo externo, o hamiltoniano não é mais invariável a uma inversão de todos os spins da rede. Assim como fizemos com a $\\text{Eq.}$ $(*.3)$, a nova expressão para a variação de energia será:"
   ]
  },
  {
   "cell_type": "markdown",
   "id": "e96a7f0e-a99f-4f16-b462-a3fe0a553f0b",
   "metadata": {},
   "source": [
    "$$\\tag{*.9}\n",
    "\\text{d}H_i = 2J\\sigma_i\\sum_{j}{\\sigma_j} + 2\\mu h\\sigma_i\\text{ },\n",
    "$$"
   ]
  },
  {
   "cell_type": "markdown",
   "id": "a2023cff-4cf6-414c-aca0-05bc641b28f1",
   "metadata": {},
   "source": [
    "onde o termo referente ao campo depende apenas do ponto da rede que foi invertido\n",
    "podendo ser reduzido para:"
   ]
  },
  {
   "cell_type": "markdown",
   "id": "68128042-08f9-4a3e-8b98-6292a962ed43",
   "metadata": {},
   "source": [
    "$$\\tag{*.10}\n",
    "\\text{d}H_i = 2J\\sigma_i \\sum_{j}{\\sigma_j}+ \\mu h\\text{ }. \n",
    "$$"
   ]
  },
  {
   "cell_type": "markdown",
   "id": "0769d2db-c711-437d-82e1-6972179f7bf5",
   "metadata": {},
   "source": [
    "Em outras palavras, o campo irá introduzir um *bias* (ou viés) na decisão se um spin deve ser invertido ou não."
   ]
  },
  {
   "cell_type": "markdown",
   "id": "5555c336-4a72-4372-873e-5f373b0621ae",
   "metadata": {},
   "source": [
    "Dado o exposto, faça uma simulação igual análoga à feita na **PARTE II**, porém usando agora o novo Hamiltoniano apresentado na $\\text{Eq.}$ $(*.10)$."
   ]
  },
  {
   "cell_type": "code",
   "execution_count": 3,
   "id": "b4279a00-1c05-4057-8812-9266c69a2858",
   "metadata": {},
   "outputs": [],
   "source": [
    "# SEU CÓDIGO AQUI"
   ]
  },
  {
   "cell_type": "markdown",
   "id": "f09d4443-50e1-4913-929b-8b4fc685ab13",
   "metadata": {},
   "source": [
    "---"
   ]
  }
 ],
 "metadata": {
  "kernelspec": {
   "display_name": "Python 3 (ipykernel)",
   "language": "python",
   "name": "python3"
  },
  "language_info": {
   "codemirror_mode": {
    "name": "ipython",
    "version": 3
   },
   "file_extension": ".py",
   "mimetype": "text/x-python",
   "name": "python",
   "nbconvert_exporter": "python",
   "pygments_lexer": "ipython3",
   "version": "3.9.8"
  }
 },
 "nbformat": 4,
 "nbformat_minor": 5
}
