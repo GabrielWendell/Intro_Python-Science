{
 "cells": [
  {
   "cell_type": "markdown",
   "id": "55f82cea-14a0-4726-94c3-8c1bc4270eaf",
   "metadata": {},
   "source": [
    "# Introdução à Programação Científica em Python"
   ]
  },
  {
   "cell_type": "markdown",
   "id": "589f0964-643c-4f27-a63e-784046cfe75f",
   "metadata": {},
   "source": [
    "## Problemas Propostos #05"
   ]
  },
  {
   "cell_type": "markdown",
   "id": "05a41278-3317-4b3c-8681-810ae5a1823b",
   "metadata": {},
   "source": [
    "- **Aula 5:** *Pandas*."
   ]
  },
  {
   "cell_type": "markdown",
   "id": "a0bdb599-79cf-43cc-927c-4997aa6b0ac1",
   "metadata": {},
   "source": [
    "---"
   ]
  },
  {
   "cell_type": "markdown",
   "id": "63b5123d-904a-4c5d-a11e-396a9db47734",
   "metadata": {},
   "source": [
    "### Problema 1: Regra de Oddo-Harkins"
   ]
  },
  {
   "cell_type": "markdown",
   "id": "cb070b6e-48fe-47e1-b3ac-33b39f915756",
   "metadata": {},
   "source": [
    "Na [Wikipedia](https://en.wikipedia.org/wiki/Abundances_of_the_elements_(data_page)) é fornecida uma lista de abundâncias de elementos para o Sol e o sistema solar em uma tabela HTML (entre outros dados semelhantes). A *regra de Oddo-Harkins* diz que elementos com números atômicos pares são mais abundantes do que aqueles com números atômicos ímpares vizinhos."
   ]
  },
  {
   "cell_type": "markdown",
   "id": "a47e85e2-3297-48db-8894-c59370004975",
   "metadata": {},
   "source": [
    "Use o método `read_html` do pandas para ler e analisar os dados de Kaye e Laby (coluna intitulada “Y1”) e traçar um gráfico de barras demonstrando a regra de Oddo-Harkins."
   ]
  },
  {
   "cell_type": "code",
   "execution_count": 1,
   "id": "d70d100e-7999-4590-861f-2a67a664e175",
   "metadata": {},
   "outputs": [],
   "source": [
    "# SEU CÓDIGO AQUI"
   ]
  },
  {
   "cell_type": "markdown",
   "id": "3768151a-812d-4430-9821-890ce7db0ff6",
   "metadata": {},
   "source": [
    "---"
   ]
  },
  {
   "cell_type": "markdown",
   "id": "26d26956-ef51-49ce-945e-913dd76d2423",
   "metadata": {},
   "source": [
    "### Problema 2: Linha de espectro do Dióxido de Carbono"
   ]
  },
  {
   "cell_type": "markdown",
   "id": "d1ed9176-e217-4ce4-9f42-71abfa3ecfc5",
   "metadata": {},
   "source": [
    "O banco de dados [HITRAN](https://hitran.org) fornece uma lista de intensidades de linhas moleculares para modelar a transmissão radiativa em atmosferas planetárias. Seu formato nativo consiste em registros de 160 caracteres de campos de largura fixa."
   ]
  },
  {
   "cell_type": "markdown",
   "id": "a9165b56-7725-4d59-a777-9ccd27d5a0db",
   "metadata": {},
   "source": [
    "Use pandas para ler o arquivo [`CO2-transitions.par`](https://scipython.com/ex/ban) (onde também pode ser encontrada uma descrição dos campos) e plote a intensidade da linha em relação ao comprimento de onda para essas transições na região infravermelha do espectro ($\\lambda=10\\text{ mm}$ a $700\\text{ nm}$, correspondente ao número de onda $\\tilde{\\nu}=1\\text{ cm}^{–1}$ a cerca de $14000\\text{ cm}^{–1}$), onde o dióxido de carbono ($\\text{CO}_2$) é responsável por uma fração significativa do efeito estufa na atmosfera terrestre."
   ]
  },
  {
   "cell_type": "code",
   "execution_count": 2,
   "id": "f487d9bd-add3-4fb0-a20b-b58201a3a79e",
   "metadata": {},
   "outputs": [],
   "source": [
    "# SEU CÓDIGO AQUI"
   ]
  },
  {
   "cell_type": "markdown",
   "id": "9a078ea4-59b4-4e2c-9990-24fc6d4b6b00",
   "metadata": {},
   "source": [
    "---"
   ]
  },
  {
   "cell_type": "markdown",
   "id": "96d199a5-54e0-4ab9-b3c3-401865e126d5",
   "metadata": {},
   "source": [
    "### Problema 3: Experimento da gota de óleo de Milikan"
   ]
  },
  {
   "cell_type": "markdown",
   "id": "8b28854f-0a1f-4d48-8a71-15456b6d3a3c",
   "metadata": {},
   "source": [
    "Os famosos experimentos com gotas de óleo de Robert Millikan foram realizados na Universidade de Chicago em 1909 para determinar a magnitude da carga do elétron (desde maio de 2019, esta quantidade foi fixada por definição em $1.602176634\\times 10^{−19}\\text{ C}$). Em um único experimento, observou-se que uma gota de óleo eletricamente carregada caiu a uma distância conhecida, $d$, entre duas placas não carregadas em sua velocidade terminal, $v_g$ : a partir do tempo gasto, $t_g$, o raio da gota, $a$, pode ser deduzido. Em seguida, foi aplicada uma tensão nas placas, induzindo um campo elétrico entre elas. À medida que a gota sobe sob a força resultante, o tempo necessário, $t_e$, para ela subir novamente pela mesma distância, $d$, pode ser usado para deduzir sua carga total, $q$, que é observada como um múltiplo inteiro da mesmo valor base, $e$, ou seja: $q=Ne$."
   ]
  },
  {
   "cell_type": "markdown",
   "id": "55217d95-3fe3-4994-b062-2c32bee90824",
   "metadata": {},
   "source": [
    "Para a parte de queda livre do experimento (neste exemplo adotamos um sistema de coordenadas no qual a posição vertical da gota, $z$, aumenta na direção “para cima”.), quando a gota cai com velocidade terminal constante $v_g=−d/t_g$ não há força resultante sobre ela: a soma das forças gravitacional e de arrasto é zero:"
   ]
  },
  {
   "cell_type": "markdown",
   "id": "98c7a53d-0d62-4d5b-a0c3-72649a695485",
   "metadata": {},
   "source": [
    "$$\\tag{3.1}\n",
    "F_g+F_d=0\\implies -m'g-6\\pi\\eta av_g=0\\text{ },\n",
    "$$"
   ]
  },
  {
   "cell_type": "markdown",
   "id": "e737fa6f-b535-44a7-80b0-0fe5e0d03518",
   "metadata": {},
   "source": [
    "onde $m'=\\frac{4}{3}\\pi a^{3}\\rho'=\\frac{4}{3}\\pi a^{3}\\left(\\rho_{\\text{óleo}}-\\rho_{\\text{ar}}\\right)$ é a massa efetiva da gota (depois que a massa de ar que ela desloca é levada em consideração), $g=9.803\\text{ m/s}$ é a aceleração da gravidade em Chicago, e $\\eta=1.859\\times10^{−5}\\text{ kg/(m s)}$ é a viscosidade do ar nas condições experimentais (temperatura, umidade, etc.). Reorganizando, obtemos a seguinte expressão para o raio da gota:"
   ]
  },
  {
   "cell_type": "markdown",
   "id": "8de8f45d-efda-4fdd-b222-99c17e366a7c",
   "metadata": {},
   "source": [
    "$$\\tag{3.2}\n",
    "a=\\sqrt{\\frac{-9\\eta v_g}{2\\rho'g}}\\text{ }.\n",
    "$$"
   ]
  },
  {
   "cell_type": "markdown",
   "id": "e1cb1d67-3432-4656-ad33-ff62322f610a",
   "metadata": {},
   "source": [
    "Quando uma tensão adequada é aplicada às placas e a gota se move para cima a uma velocidade constante $v_e=d/t_e$, a força devida ao campo elétrico é equilibrada pela gravidade e pela força de arrasto (nesta nova velocidade):"
   ]
  },
  {
   "cell_type": "markdown",
   "id": "3b72eb7e-0a8c-4301-b00c-5b6e0e3e121c",
   "metadata": {},
   "source": [
    "$$\n",
    "F_e+F_g+F'_d=0\\implies qE+6\\pi\\eta av_g-6\\pi\\eta av_e=0\\text{ },\n",
    "$$"
   ]
  },
  {
   "cell_type": "markdown",
   "id": "ced2fdfb-c899-4041-aacd-146756423c43",
   "metadata": {},
   "source": [
    "$$\\tag{3.3}\n",
    "\\therefore\\quad q=\\frac{6\\pi\\eta a\\left(v_e-v_g\\right)}{E}=\\frac{6\\pi\\eta ad}{E}\\left(\\frac{1}{t_g}+\\frac{1}{t_e}\\right)\\text{ }.\n",
    "$$"
   ]
  },
  {
   "cell_type": "markdown",
   "id": "de293e43-a332-4790-be3b-36f10a9ebc9a",
   "metadata": {},
   "source": [
    "Cada gota (rotulada A – H) foi observada três vezes para cada carga diferente, $q$, adquirida pela exposição aos raios X (até sete experimentos por gota)."
   ]
  },
  {
   "cell_type": "markdown",
   "id": "c3bc1e45-d224-4650-9db9-bb9b9ed5736f",
   "metadata": {},
   "source": [
    "Os [dados experimentais](https://scipython.com/eg/bam) fornecem os dados de tempo para uma série de experimentos conduzidos com um óleo de densidade $\\rho_{\\text{óleo}}=917.3\\text{ kg/m}^{-3}$ em um dia para o qual $\\rho_{\\text{ar}}=1.17\\text{ kg/m}^{-3}$. A magnitude do campo elétrico foi $E=322.1\\text{ kN/C}$ e a distância que as gotas percorrem, $d=11.09\\text{ mm}$. "
   ]
  },
  {
   "cell_type": "markdown",
   "id": "af61b33f-4274-4d00-bcd1-bd7d5072de47",
   "metadata": {},
   "source": [
    "**a)** Utilize estes dados para estimar $e$ (assumindo que não é fixo por definição)."
   ]
  },
  {
   "cell_type": "code",
   "execution_count": 3,
   "id": "1be5ac9c-87fd-4009-a258-c01c00434ef7",
   "metadata": {},
   "outputs": [],
   "source": [
    "# SEU CÓDIGO AQUI"
   ]
  },
  {
   "cell_type": "markdown",
   "id": "d4ebfc93-1ea0-4feb-b66c-bdcc056c1315",
   "metadata": {},
   "source": [
    "**b)** Reanalize os dados apresentados usando agora uma aproximação mais precisa para a viscosidade efetiva do ar:"
   ]
  },
  {
   "cell_type": "markdown",
   "id": "1bbad4b0-7e40-4a43-9a98-b34d224fde93",
   "metadata": {},
   "source": [
    "$$\\tag{3.4}\n",
    "\\eta=\\frac{\\eta_0}{1+\\frac{b}{ap}}\\text{ },\n",
    "$$"
   ]
  },
  {
   "cell_type": "markdown",
   "id": "60475aca-ea6a-4970-aa5c-dcd53c588243",
   "metadata": {},
   "source": [
    "onde $p=100.82\\text{ kPa}$ é a pressão do ar, $\\eta_0=1.859\\times10^{-5}\\text{ kg/(m s)}$, $b=7.88\\times10^{-3}\\text{ Pa m}$, e $a$ é o raio da gota."
   ]
  },
  {
   "cell_type": "code",
   "execution_count": 4,
   "id": "3a291544-61c6-436c-99dd-5566906f862f",
   "metadata": {},
   "outputs": [],
   "source": [
    "# SEU CÓDIGO AQUI"
   ]
  },
  {
   "cell_type": "markdown",
   "id": "0fc45120-e126-4d54-883b-7299cd0f096b",
   "metadata": {},
   "source": [
    "---"
   ]
  },
  {
   "cell_type": "markdown",
   "id": "fb638d95-d000-4e47-a315-d13dee203c2c",
   "metadata": {},
   "source": [
    "### Problema 4: O Clima de Cambridge"
   ]
  },
  {
   "cell_type": "markdown",
   "id": "961335f7-caf1-42d9-accd-0ae50ea48794",
   "metadata": {},
   "source": [
    "O Grupo de Tecnologia Digital da Universidade de Cambridge registra o clima no telhado do prédio de seu departamento desde 1995 e produz os dados que atualmente se encontram disponíveis para download em seu [site](www.cl.cam.ac.uk/research/dtg/weather/)."
   ]
  },
  {
   "cell_type": "markdown",
   "id": "d2c976e5-f6ef-4cdc-87f3-1e9c94dee52f",
   "metadata": {},
   "source": [
    "Leia todo o conjunto de dados e analise-o com pandas para determinar:"
   ]
  },
  {
   "cell_type": "markdown",
   "id": "bcca464f-9a17-467c-b43e-be62b6b6f6c3",
   "metadata": {},
   "source": [
    "- **a)** a direção do vento mais comum;\n",
    "- **b)** a velocidade do vento mais rápida medida;\n",
    "- **c)** o ano com junho mais ensolarado;\n",
    "- **d)** o dia com maior precipitação;\n",
    "- **e)** a temperatura mais fria medida."
   ]
  },
  {
   "cell_type": "markdown",
   "id": "a5c131df-d51c-4c1a-a4fc-bee71e84e49c",
   "metadata": {},
   "source": [
    "**OBS:** Observe que ocasionalmente há pontos de dados ausentes e inválidos no conjunto de dados."
   ]
  },
  {
   "cell_type": "code",
   "execution_count": 5,
   "id": "98081217-30ef-449a-a812-cea5d4bd510f",
   "metadata": {},
   "outputs": [],
   "source": [
    "# SEU CÓDIGO AQUI"
   ]
  },
  {
   "cell_type": "markdown",
   "id": "7bd6c316-274f-4f89-b4ad-e9d7698ac7be",
   "metadata": {},
   "source": [
    "---"
   ]
  },
  {
   "cell_type": "markdown",
   "id": "6d9eaa1e-3122-4707-88ab-90538a06bdac",
   "metadata": {},
   "source": [
    "### Problema 5: Investimentos ao longo de 10 anos"
   ]
  },
  {
   "cell_type": "markdown",
   "id": "9e0b5eca-0f0e-4442-bb74-c9861ebaf832",
   "metadata": {},
   "source": [
    "O seguinte [conjunto de dados](https://scipython.com/ex/baq) lista as seguintes quantidades, em dólares americanos ao longo do tempo: "
   ]
  },
  {
   "cell_type": "markdown",
   "id": "f8f117cf-3f28-4437-8d0f-4e8fd5859edf",
   "metadata": {},
   "source": [
    "- **a)** o preço do ouro;\n",
    "- **b)** o índice do mercado de ações dos EUA S&P 500;\n",
    "- **c)** o preço da criptomoeda Bitcoin. "
   ]
  },
  {
   "cell_type": "markdown",
   "id": "24216dec-5c31-4699-82c7-95e0f9f91641",
   "metadata": {},
   "source": [
    "Compare o desempenho destes índices durante o período 2010-2020 em relação ao investimento regular de $100$ dólares por mês."
   ]
  },
  {
   "cell_type": "code",
   "execution_count": 6,
   "id": "ed4eece8-87e8-474d-afc0-5ac585ad4292",
   "metadata": {},
   "outputs": [],
   "source": [
    "# SEU CÓDIGO AQUI"
   ]
  },
  {
   "cell_type": "markdown",
   "id": "a73f6ea7-bc36-4e86-a55e-ff4ba88db1d4",
   "metadata": {},
   "source": [
    "---"
   ]
  },
  {
   "cell_type": "markdown",
   "id": "8c9fc2ee-ec88-4cec-9fec-665ab21825d7",
   "metadata": {},
   "source": [
    "### $\\star$ Desafio: Analisando os dados do PISA"
   ]
  },
  {
   "cell_type": "markdown",
   "id": "2d5bc282-37ad-492f-a448-ddcbc85316b9",
   "metadata": {},
   "source": [
    "A Organização para a Cooperação e Desenvolvimento Económico (OCDE), no âmbito do seu Programa Internacional de Avaliação de Estudantes (PISA), publica uma avaliação dos sistemas educativos em todo o mundo, medindo o desempenho de alunos de 15 anos em matemática, ciências e lendo. A avaliação é realizada a cada três anos."
   ]
  },
  {
   "cell_type": "markdown",
   "id": "45c5b954-4caa-4b3b-a331-4acc3ad1168e",
   "metadata": {},
   "source": [
    "Os dados históricos do PISA podem ser baixados em [`PISA-data.tar`](https://scipython.com/static/media/2/problems/P9.5/PISA-data.tar). Leia esses dados em um `DataFrame` do pandas e use sua funcionalidade de agrupamento para determinar e visualizar:"
   ]
  },
  {
   "cell_type": "markdown",
   "id": "99d385c0-3993-4ece-8aec-38a136250e0c",
   "metadata": {},
   "source": [
    "- **a)** o desempenho geral de todos os países estudados ao longo do tempo;\n",
    "- **b)** a disparidade de género (se existir) em leitura, matemática e ciências;\n",
    "- **c)** a correlação entre os desempenhos em cada uma destas áreas em todos os países."
   ]
  },
  {
   "cell_type": "code",
   "execution_count": 7,
   "id": "eec5b45f-3a67-43c4-8d5c-655b92903f51",
   "metadata": {},
   "outputs": [],
   "source": [
    "# SEU CÓDIGO AQUI"
   ]
  },
  {
   "cell_type": "markdown",
   "id": "08fb0afa-b9f1-4f0b-ad2c-0d6d4d80ab33",
   "metadata": {},
   "source": [
    "---"
   ]
  }
 ],
 "metadata": {
  "kernelspec": {
   "display_name": "Python 3 (ipykernel)",
   "language": "python",
   "name": "python3"
  },
  "language_info": {
   "codemirror_mode": {
    "name": "ipython",
    "version": 3
   },
   "file_extension": ".py",
   "mimetype": "text/x-python",
   "name": "python",
   "nbconvert_exporter": "python",
   "pygments_lexer": "ipython3",
   "version": "3.9.8"
  }
 },
 "nbformat": 4,
 "nbformat_minor": 5
}
