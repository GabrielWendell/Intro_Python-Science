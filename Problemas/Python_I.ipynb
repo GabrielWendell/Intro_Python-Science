{
 "cells": [
  {
   "cell_type": "markdown",
   "id": "68fc7061-1a1f-4a7f-aa1b-b1f7ea9d8904",
   "metadata": {},
   "source": [
    "# Introdução à Programação Científica em Python"
   ]
  },
  {
   "cell_type": "markdown",
   "id": "0cd0a5ae-9ad8-4be6-a4ca-d836255aa0a3",
   "metadata": {},
   "source": [
    "## Problemas Propostos #01"
   ]
  },
  {
   "cell_type": "markdown",
   "id": "1bdddcce-e9bd-4f8f-9a98-aee288c2b2af",
   "metadata": {},
   "source": [
    "- **Aula 1**: *Python Core I*."
   ]
  },
  {
   "cell_type": "markdown",
   "id": "79e6efe0-b577-46d6-8483-3a3caab48c1b",
   "metadata": {},
   "source": [
    "---"
   ]
  },
  {
   "cell_type": "markdown",
   "id": "10891825-cffe-4e19-8a69-22b8ad863c09",
   "metadata": {},
   "source": [
    "### Problema 1: Estimando a área superficial da Terra"
   ]
  },
  {
   "cell_type": "markdown",
   "id": "22ab6fcd-1a96-4a4f-b964-2c5c58f2ee80",
   "metadata": {},
   "source": [
    "O Sistema Geodésico Mundial (WGS, *World Geodesic System*) é um conjunto de padrões internacionais para descrever a forma da Terra. Na última revisão WGS-84, o *geóide* da Terra é aproximado a um elipsóide de referência que assume a forma de um esferóide achatado com eixos semi-maior e semi-menor $a=6,378,137.0\\text{ m}$ e $c=6,356,752.314245\\text{ m}$ respectivamente."
   ]
  },
  {
   "cell_type": "markdown",
   "id": "b11d11bb-501f-4bef-abf0-d7a1919ff858",
   "metadata": {},
   "source": [
    "Use a fórmula para a área de superfície de um esferóide achatado:"
   ]
  },
  {
   "cell_type": "markdown",
   "id": "bc370b39-9097-455c-9e7c-3eb5202e66ef",
   "metadata": {},
   "source": [
    "$$\\tag{1.1}\n",
    "S_{\\text{obl.}}=2\\pi a^{2}\\left[1+\\frac{1-e^{2}}{e}a\\tanh{(e)}\\right]\\quad,\\quad e^{2}=1-\\frac{c^{2}}{a^{2}}\\text{ },\n",
    "$$"
   ]
  },
  {
   "cell_type": "markdown",
   "id": "91c24b3e-9d2b-41f8-aef2-6d0462dbcd87",
   "metadata": {},
   "source": [
    "calcular a área da superfície deste elipsóide de referência e compará-la com a área da superfície da Terra considerada uma esfera com raio de $6,371\\text{ km}$."
   ]
  },
  {
   "cell_type": "code",
   "execution_count": 1,
   "id": "42913234-8887-4551-bd76-7f46899d1a37",
   "metadata": {},
   "outputs": [],
   "source": [
    "# SEU CÓDIGO AQUI"
   ]
  },
  {
   "cell_type": "markdown",
   "id": "ec8436f6-e6f8-4d01-aa8b-630f130b4856",
   "metadata": {},
   "source": [
    "---"
   ]
  },
  {
   "cell_type": "markdown",
   "id": "2fe4f961-9067-46f5-a9d4-1b04766e6f88",
   "metadata": {},
   "source": [
    "### Problema 2: Strings e constantes físicas"
   ]
  },
  {
   "cell_type": "markdown",
   "id": "85b69ba9-e970-41ae-90d6-377a71b53ecd",
   "metadata": {},
   "source": [
    "A Tabela a seguir fornece nomes, símbolos, valores, incertezas e unidades de algumas constantes físicas."
   ]
  },
  {
   "cell_type": "markdown",
   "id": "4e30accf-0cf7-41aa-94d8-97358d5b555e",
   "metadata": {},
   "source": [
    "| Nome                         | Símbolo | Valor                       | Incerteza           | Unidades                       |\r\n",
    "|------------------------------|---------|-----------------------------|---------------------|--------------------------------|\r\n",
    "| Constante de Boltzmann       | $k_B$   | $1.380649\\times10^{-23}$    | (def)               | $\\text{J K}^{-1}$              |\r\n",
    "| Velocidade da luz            | $c$     | $2.99792458\\times10^{8}$    | (def)               | $\\text{m s}^{-1}$              |\r\n",
    "| Constante de Planck          | $h$     | $6.62607015\\times10^{-34}$  | (def)               | $\\text{J s}$                   |\r\n",
    "| Constante de Avogadro        | $N_A$   | $6.02214076\\times10^{23}$   | (def)               | $\\text{mol}^{-1}$              |\r\n",
    "| Momento magnético do elétron | $\\mu_e$ | $-9.28476377\\times10^{-24}$ | $2.3\\times10^{-31}$ | $\\text{J T}^{-1}$              |\r\n",
    "| Constante Gravitacional      | $G$     | $6.67430\\times10^{-11}$     | $1.5\\times10^{-15}$ | $\\text{N m}^{2}\\text{kg}^{-2}$ |"
   ]
  },
  {
   "cell_type": "markdown",
   "id": "aaba5d95-4eb7-402b-b3b6-8b6839afb1cd",
   "metadata": {},
   "source": [
    "Definindo variáveis na forma:"
   ]
  },
  {
   "cell_type": "markdown",
   "id": "f45d7ff2-9229-4dbb-a7d6-f140657a8604",
   "metadata": {},
   "source": [
    "```python\n",
    "G = 6.6743e -11 # J/K\r\n",
    "G_unc = 1.5e -15 # uncertainty\r\n",
    "G_units = 'Nm ^2/ kg^'\r\n",
    "```"
   ]
  },
  {
   "cell_type": "markdown",
   "id": "5d004f85-e96e-409b-83e5-bc87cc6e20af",
   "metadata": {},
   "source": [
    "use o método `format` do objeto string para produzir a seguinte saída:"
   ]
  },
  {
   "cell_type": "markdown",
   "id": "e4b72f11-195d-4b4e-b73c-56da2d772270",
   "metadata": {},
   "source": [
    "**a)** `kB = 1.381e -23 J/K`"
   ]
  },
  {
   "cell_type": "code",
   "execution_count": 2,
   "id": "4e34861a-b67e-4fef-be24-d340d684a824",
   "metadata": {},
   "outputs": [],
   "source": [
    "# SEU CÓDIGO AQUI"
   ]
  },
  {
   "cell_type": "markdown",
   "id": "e6770ea3-aa36-432f-af9e-13c65da5a3b0",
   "metadata": {},
   "source": [
    "**b)** `G = 0.0000000000667430 Nm ^2/ kg^2`;"
   ]
  },
  {
   "cell_type": "code",
   "execution_count": 3,
   "id": "26a94ef9-3ae8-476f-a43c-a22bd5fbde3a",
   "metadata": {},
   "outputs": [],
   "source": [
    "# SEU CÓDIGO AQUI"
   ]
  },
  {
   "cell_type": "markdown",
   "id": "6c96338c-a7fd-4e0a-acc2-678152d929f4",
   "metadata": {},
   "source": [
    "Usando o mesmo especificador de formato para cada linha:"
   ]
  },
  {
   "cell_type": "markdown",
   "id": "0a324a54-218e-4589-8d98-0e312461562b",
   "metadata": {},
   "source": [
    "```python\n",
    "kB = 1.3807e -23 J/K\r\n",
    "mu_e = -9.2848e -24 J/T\r\n",
    "N_A = 6.0221e+23 mol -1\r\n",
    "c = 2.9979e+08 m/s\n",
    "```"
   ]
  },
  {
   "cell_type": "code",
   "execution_count": 4,
   "id": "b047478d-338a-45b4-802a-d25602d9e996",
   "metadata": {},
   "outputs": [],
   "source": [
    "# SEU CÓDIGO AUQI"
   ]
  },
  {
   "cell_type": "markdown",
   "id": "fe413d3a-2c31-4400-9d69-ea6555540c1b",
   "metadata": {},
   "source": [
    "**d)** Novamente, usando o mesmo especificador de formato para cada linha:"
   ]
  },
  {
   "cell_type": "markdown",
   "id": "63ec8346-936d-479e-8371-8928c5eddfa8",
   "metadata": {},
   "source": [
    "```python\n",
    "=== G = +6.67E -11 [Nm ^2/ kg ^2] ===\r\n",
    "=== µe = -9.28E -24 [ J/T] ===\n",
    "```"
   ]
  },
  {
   "cell_type": "markdown",
   "id": "af2322fb-05ca-4ce0-9188-e6839d8bff71",
   "metadata": {},
   "source": [
    "**DICA:** o ponto de código Unicode para a letra grega minúscula $\\mu$ é `U+03BC`"
   ]
  },
  {
   "cell_type": "code",
   "execution_count": 5,
   "id": "ff803758-56f4-4bb6-b841-774c4f092522",
   "metadata": {},
   "outputs": [],
   "source": [
    "# SEU CÓDIGO AQUI"
   ]
  },
  {
   "cell_type": "markdown",
   "id": "1eff05d0-9c2d-4dea-a9e1-5653dbe7a69f",
   "metadata": {},
   "source": [
    "**e)** **(Opcional)** Produza a saída abaixo, na qual a incerteza (um desvio padrão) no valor de cada constante é expressa como um número entre parênteses em relação aos dígitos anteriores: ou seja, $6.67430(15)\\times10^{−11}$ significa $6.67430\\times10^{−11}\\pm1.5\\times10^{−15}$."
   ]
  },
  {
   "cell_type": "markdown",
   "id": "f4e5de5e-2504-4cfc-be39-9fcdb791be05",
   "metadata": {},
   "source": [
    "```python\n",
    "G = 6.67430(15)e -11 Nm ^2/ kg^2\r\n",
    "mu_e = -9.28476377(23)e -24 J/T\n",
    "```"
   ]
  },
  {
   "cell_type": "code",
   "execution_count": 6,
   "id": "e1ddba68-1e05-47d5-bc69-3dd3be9895ee",
   "metadata": {},
   "outputs": [],
   "source": [
    "# SEU CÓDIGO AQUI"
   ]
  },
  {
   "cell_type": "markdown",
   "id": "91377802-e4b4-42c0-a29a-3b332bd2f2cf",
   "metadata": {},
   "source": [
    "---"
   ]
  },
  {
   "cell_type": "markdown",
   "id": "b8f5e1f2-d74d-405a-a5ad-e6d5697ccfb2",
   "metadata": {},
   "source": [
    "### Problema 3: Uma integral de senos e cossenos"
   ]
  },
  {
   "cell_type": "markdown",
   "id": "0fef0c40-7495-4750-aa3f-7bf47b672fb5",
   "metadata": {},
   "source": [
    "Considere a seguinte integral trigonométrica polinomial definida para inteiros $m,n>1$:"
   ]
  },
  {
   "cell_type": "markdown",
   "id": "9c803bd8-33bb-4745-8116-150606645e12",
   "metadata": {},
   "source": [
    "$$\\tag{3.1}\n",
    "\\int_{0}^{\\pi/2}\\sin^{n}\\theta\\cos^{m}\\theta\\text{d}\\theta=\n",
    "\\begin{cases}\n",
    "\\frac{(m-1)!!(n-1)!!}{(m+n)!!}\\frac{\\pi}{2}\\quad,\\quad m,n\\text{ ambos par}\\text{ }, \\\\\n",
    "\\frac{(m-1)!!(n-1)!!}{(m+n)!!}\\qquad,\\qquad\\text{caso contrário}\\text{ }.\n",
    "\\end{cases}\n",
    "\\qquad;\n",
    "$$"
   ]
  },
  {
   "cell_type": "markdown",
   "id": "4c320213-9c75-4a82-af4c-fb1002ef4e49",
   "metadata": {},
   "source": [
    "onde a *função fatorial duplo*, $n!!$, é o produto dos inteiros ímpares positivos até e inclusive $n$ (que deve ser ímpar):"
   ]
  },
  {
   "cell_type": "markdown",
   "id": "d178e497-69f4-4d48-94d1-f7be7d23a235",
   "metadata": {},
   "source": [
    "$$\\tag{3.2}\n",
    "n!!=\\prod_{i=1}^{(n+1)/2}(2i-1)=1\\cdot3\\cdot5\\cdot\\ldots\\cdot(n-2)\\cdot n\\text{ }.\n",
    "$$"
   ]
  },
  {
   "cell_type": "markdown",
   "id": "ea76b541-8289-4a93-ba04-8b53c5ac7459",
   "metadata": {},
   "source": [
    "**a)** Escreva uma rotina em Python que calcula $n!!$."
   ]
  },
  {
   "cell_type": "code",
   "execution_count": 7,
   "id": "ac318a58-0019-4029-96b2-5d7548a8570f",
   "metadata": {},
   "outputs": [],
   "source": [
    "# SEU CÓDIGO AQUI"
   ]
  },
  {
   "cell_type": "markdown",
   "id": "e8e2ee7e-9829-47c5-937d-46648d950357",
   "metadata": {},
   "source": [
    "**b)** Estenda a fórmula para permitir o cálculo do fatorial duplo de um número par como segue:"
   ]
  },
  {
   "cell_type": "markdown",
   "id": "2329dd1d-ef56-4f27-81a4-110548590498",
   "metadata": {},
   "source": [
    "$$\\tag{3.3}\n",
    "n!!=\\prod_{i=1}^{n/2}(2i)=2\\cdot4\\cdot6\\cdot\\ldots\\cdot(n-2)\\cdot n\\text{ }.\n",
    "$$"
   ]
  },
  {
   "cell_type": "code",
   "execution_count": 8,
   "id": "8442f7d6-a2eb-4260-9d2c-a3ed9a39a6cf",
   "metadata": {},
   "outputs": [],
   "source": [
    "# SEU CÓDIGO AQUI"
   ]
  },
  {
   "cell_type": "markdown",
   "id": "084283d8-4f91-40a9-9f61-95e0223d778a",
   "metadata": {},
   "source": [
    "**c)** A partir das funções escritas nos itens anteriores, escreva uma função, `sinm_cosn` que retorna o valor da integral definida $(3.1)$."
   ]
  },
  {
   "cell_type": "code",
   "execution_count": 9,
   "id": "207d7817-7fe8-4568-8e2b-127298f4a9a9",
   "metadata": {},
   "outputs": [],
   "source": [
    "# SEU CÓDIGO AQUI"
   ]
  },
  {
   "cell_type": "markdown",
   "id": "c4fa8555-3a87-43d1-bf97-950f66d1622d",
   "metadata": {},
   "source": [
    "---"
   ]
  },
  {
   "cell_type": "markdown",
   "id": "564c45cb-14d1-4008-ba79-1fa5ca4f1a6c",
   "metadata": {},
   "source": [
    "### Problema 4: Produtos vetoriais"
   ]
  },
  {
   "cell_type": "markdown",
   "id": "5a4fcafc-8bd1-4f69-95fa-ad9562d793dc",
   "metadata": {},
   "source": [
    "**a)** Escreva duas funções que, dadas duas listas de comprimento $3$ representando vetores tridimensionais $\\boldsymbol{a}$ e $\\boldsymbol{b}$, calculem o produto escalar, $\\boldsymbol{a}\\cdot\\boldsymbol{b}$ e o produto vetorial (cruzado), $\\boldsymbol{a}\\times\\boldsymbol{b}$:"
   ]
  },
  {
   "cell_type": "code",
   "execution_count": 10,
   "id": "f2d4e065-dda9-49a8-90b8-7395341ed075",
   "metadata": {},
   "outputs": [],
   "source": [
    "# SEU CÓDIGO AQUI"
   ]
  },
  {
   "cell_type": "markdown",
   "id": "778e3757-2443-4307-8cec-21d301017ae3",
   "metadata": {},
   "source": [
    "**b)** Escreva mais duas funções para retornar o produto triplo escalar, $\\boldsymbol{a}\\cdot(\\boldsymbol{b}\\times\\boldsymbol{c})$ e o produto triplo vetorial, $\\boldsymbol{a}\\times(\\boldsymbol{b}\\times\\boldsymbol{c})$:"
   ]
  },
  {
   "cell_type": "code",
   "execution_count": 11,
   "id": "24452a13-3230-4ac6-892d-bfa51814ba5b",
   "metadata": {},
   "outputs": [],
   "source": [
    "# SEU CÓDIGO AQUI"
   ]
  },
  {
   "cell_type": "markdown",
   "id": "ccbbf99b-b12d-4c7e-85e5-41c2be6c7d81",
   "metadata": {},
   "source": [
    "---"
   ]
  },
  {
   "cell_type": "markdown",
   "id": "978fbc64-4cd3-4d41-b953-044f75822ed1",
   "metadata": {},
   "source": [
    "### Problema 5: A constante de Madelung"
   ]
  },
  {
   "cell_type": "markdown",
   "id": "1b36f719-ad1a-433f-9af1-b8befdce14cd",
   "metadata": {},
   "source": [
    "A constante de Madelung é usada para determinar o potencial eletrostático de um único íon em um cristal, aproximando os íons por cargas pontuais:"
   ]
  },
  {
   "cell_type": "markdown",
   "id": "521b7161-c8bf-4c60-91ae-12a6aef488ba",
   "metadata": {},
   "source": [
    "$$\\tag{5.1}\n",
    "V_i=\\frac{1}{4\\pi\\varepsilon_0}\\frac{e}{r_0}\\sum_j\\frac{z_j r_0}{r_{ij}}=\\frac{1}{4\\pi\\varepsilon_0}\\frac{e}{r_0}M_i\\text{ },\n",
    "$$"
   ]
  },
  {
   "cell_type": "markdown",
   "id": "803a3fc9-3ada-4c7f-8bdf-c4ccb86abd9e",
   "metadata": {},
   "source": [
    "onde $r_0$ é a distância do vizinho mais próximo, e a constante de Madelung do $i$-ésimo íon é dada pela soma de todos os outros íons no cristal:"
   ]
  },
  {
   "cell_type": "markdown",
   "id": "64ecfdff-230f-4774-b1e9-62681546eb25",
   "metadata": {},
   "source": [
    "$$\\tag{5.2}\n",
    "M_i=\\sum_j\\frac{z_j}{r_{ij}/r_0}\\text{ }.\n",
    "$$"
   ]
  },
  {
   "cell_type": "markdown",
   "id": "d98d37ac-ba43-4af0-9ae9-ee1c691bb9f2",
   "metadata": {},
   "source": [
    "Para o cristal cúbico de $\\text{NaCl}$, a soma pode ser realizada em três coordenadas ortogonais:"
   ]
  },
  {
   "cell_type": "markdown",
   "id": "24c6a504-ce96-4eb2-8a15-292c4241cb86",
   "metadata": {},
   "source": [
    "$$\\tag{5.3}\n",
    "M_{\\text{Na}}=\\sum_{j,k,\\ell=-\\infty}^{\\infty}'\\frac{(-1)^{j+k+\\ell}}{\\sqrt{j^2+k^2+\\ell^2}}\\text{ },\n",
    "$$"
   ]
  },
  {
   "cell_type": "markdown",
   "id": "338ea3ac-2ba8-42ac-99be-d2a8590fe241",
   "metadata": {},
   "source": [
    "onde o primo indica que o termo $(0,0,0)$ está excluído. A fórmula de Benson fornece uma forma prática e eficiente de avaliar esta soma como:"
   ]
  },
  {
   "cell_type": "markdown",
   "id": "98ead096-52e7-45c1-b711-86bae64e5337",
   "metadata": {},
   "source": [
    "$$\\tag{5.4}\n",
    "M_{\\text{Na}^{+}}=-12\\pi\\sum_{m,n=1,3,\\ldots}^{\\infty}\\text{sech}^{2}{\\left(\\frac{1}{2}\\pi\\sqrt{m^2+n^2}\\right)}\\text{ },\n",
    "$$"
   ]
  },
  {
   "cell_type": "markdown",
   "id": "f9ea8014-17dc-413b-944d-8d8dc89cd511",
   "metadata": {},
   "source": [
    "onde a soma é realizada sobre todos os inteiros ímpares positivos $m$ e $n$."
   ]
  },
  {
   "cell_type": "markdown",
   "id": "df772814-fe69-4d01-b89f-d9c9813d0e7d",
   "metadata": {},
   "source": [
    "Escreva um programa que calcule a constante de Madelung para o íon em $\\text{Na}^{+}$ (seu resultado deve ser $M_{\\text{Na}^{+}}=-1.74756\\ldots$):"
   ]
  },
  {
   "cell_type": "code",
   "execution_count": 12,
   "id": "f9c2a143-e516-4683-b00f-310881ee44ba",
   "metadata": {},
   "outputs": [],
   "source": [
    "# SEU CÓDIGO AQUI"
   ]
  },
  {
   "cell_type": "markdown",
   "id": "0721a10f-275b-4dc1-9529-ea18de242f38",
   "metadata": {},
   "source": [
    "---"
   ]
  },
  {
   "cell_type": "markdown",
   "id": "e49e9c4e-0a48-42ec-840d-4b42b8f464b3",
   "metadata": {},
   "source": [
    "### $\\star$ Desafio: Configurações eletrônicas"
   ]
  },
  {
   "cell_type": "markdown",
   "id": "df25710a-8c79-4bac-bc3e-5af03fc399d4",
   "metadata": {},
   "source": [
    "A [*configuração eletrônica de um átomo*](https://en.wikipedia.org/wiki/Electron_configuration) é a especificação da distribuição de seus elétrons em orbitais atômicos. Um orbital atômico é identificado por um *número quântico principal*, $n=1,2,3,\\ldots$, definindo uma camada composta por uma ou mais *subcamadas* definidas pelo *número quântico azimutal*, $\\ell=0,1,2,\\ldots,n−1$. Os valores $\\ell=0,1,2,3$ são referidos como as letras $\\text{s}$, $\\text{p}$, $\\text{d}$ e $\\text{f}$, respectivamente. Assim, os primeiros orbitais são: $1\\text{s}$ ($n=1$,$\\ell=0$), $2\\text{s}$ ($n=2$,$\\ell=0$), $2\\text{p}$ ($n=2$,$\\ell=1$), $3\\text{s}$ ($n=3$,$\\ell=0$) e cada camada possui $n$ subcamadas. Um máximo de $2(2\\ell+1)$ elétrons podem ocupar uma determinada subcamada."
   ]
  },
  {
   "cell_type": "markdown",
   "id": "1cfefcd1-62c7-40fe-a4a3-9cd772b318e0",
   "metadata": {},
   "source": [
    "De acordo com a [*regra de Madelung*](https://en.wikipedia.org/wiki/Aufbau_principle#Madelung_energy_ordering_rule), os $N$ elétrons de um átomo preenchem os orbitais em ordem crescente de $n+\\ell$, de modo que sempre que dois orbitais têm o mesmo valor de $n+\\ell$, eles são preenchidos em ordem crescente de $n$. Por exemplo, o estado fundamental do Titânio ($N=22$) é previsto (e encontrado) como $1\\text{s}^{2}2\\text{s}^{2}2\\text{p}^{6}3\\text{s}^{2}3\\text{p}^{6}4\\text{s}^{2}3\\text{d}^{2}$."
   ]
  },
  {
   "cell_type": "markdown",
   "id": "1db1812c-6f31-40ca-b4c3-9bce6fa0908d",
   "metadata": {},
   "source": [
    "**a)** Escreva um programa para prever as configurações eletrônicas dos elementos até o Rutherfórdio $(N=104)$. A saída para Titânio deve ser:"
   ]
  },
  {
   "cell_type": "markdown",
   "id": "3b36fa5a-7ad5-4971-bdf3-868ce4fa3efe",
   "metadata": {},
   "source": [
    "```python\n",
    ">>> Ti: 1s2.2s2.2p6.3s2.3p6.4s2.3d2\n",
    "```"
   ]
  },
  {
   "cell_type": "markdown",
   "id": "3b145635-49a3-4e44-898f-c617cf23919d",
   "metadata": {},
   "source": [
    "Uma lista Python contendo os símbolos dos elementos está aqui: [element_symbols.py](https://scipython.com/static/media/2/problems/P2.5/element_symbols.py)."
   ]
  },
  {
   "cell_type": "code",
   "execution_count": 13,
   "id": "713fb2d3-f040-41a3-8de1-c34b41019470",
   "metadata": {},
   "outputs": [],
   "source": [
    "# SEU CÓDIGO AQUI"
   ]
  },
  {
   "cell_type": "markdown",
   "id": "430a8144-8c90-48e7-85c7-8504f7fffa65",
   "metadata": {},
   "source": [
    "**b)** Modifique seu programa para gerar as configurações usando a convenção de que a parte da configuração correspondente à *camada fechada* mais externa, uma configuração de gás nobre, é substituída pelo símbolo de gás nobre entre colchetes, assim:"
   ]
  },
  {
   "cell_type": "markdown",
   "id": "36a1c2cc-326c-473e-a1ba-d295d03126c5",
   "metadata": {},
   "source": [
    "```python\n",
    ">>> Ti: [Ar].4s2.3d2\n",
    "```"
   ]
  },
  {
   "cell_type": "markdown",
   "id": "a9950686-d567-4775-b180-17ac77274fb6",
   "metadata": {},
   "source": [
    "onde a configuração do Argônio é `1s2.2s2.2p6.3s2.3p6`."
   ]
  },
  {
   "cell_type": "code",
   "execution_count": 14,
   "id": "c6e772b3-fc0c-427a-86fa-3a20eccfd0ed",
   "metadata": {},
   "outputs": [],
   "source": [
    "# SEU CÓDIGO AQUI"
   ]
  },
  {
   "cell_type": "markdown",
   "id": "d610241c-d987-4b44-bbcb-1f88cb9b66d5",
   "metadata": {},
   "source": [
    "---"
   ]
  }
 ],
 "metadata": {
  "kernelspec": {
   "display_name": "Python 3 (ipykernel)",
   "language": "python",
   "name": "python3"
  },
  "language_info": {
   "codemirror_mode": {
    "name": "ipython",
    "version": 3
   },
   "file_extension": ".py",
   "mimetype": "text/x-python",
   "name": "python",
   "nbconvert_exporter": "python",
   "pygments_lexer": "ipython3",
   "version": "3.9.8"
  }
 },
 "nbformat": 4,
 "nbformat_minor": 5
}
