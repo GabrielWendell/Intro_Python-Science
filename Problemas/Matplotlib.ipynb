{
 "cells": [
  {
   "cell_type": "markdown",
   "id": "00c48b7a-3248-469a-9cf0-9af5bede8c08",
   "metadata": {},
   "source": [
    "# Introdução à Programação Científica em Python"
   ]
  },
  {
   "cell_type": "markdown",
   "id": "559d5bc8-1d68-4b8a-82de-498982d93c8c",
   "metadata": {},
   "source": [
    "## Problemas Propostos #04"
   ]
  },
  {
   "cell_type": "markdown",
   "id": "9fe8abb0-8ed8-4c90-959a-ca23dbaaf1f5",
   "metadata": {},
   "source": [
    "- **Aula 4:** *Matplotlib*."
   ]
  },
  {
   "cell_type": "markdown",
   "id": "ad076d81-3d13-44b7-a944-3acf9743e7fd",
   "metadata": {},
   "source": [
    "---"
   ]
  },
  {
   "cell_type": "markdown",
   "id": "af97b0cb-9fa9-4caa-9b8b-5e696f9d073c",
   "metadata": {},
   "source": [
    "### Problema 1: Função de Planck"
   ]
  },
  {
   "cell_type": "markdown",
   "id": "8cfcbb5e-c136-4dec-b51c-1a5f2dd9c473",
   "metadata": {},
   "source": [
    "Escreva um programa para traçar a função de Planck, $B\\left(\\lambda\\right)$, para a radiância espectral de um corpo negro à temperatura, $T$, em função do comprimento de onda, $\\lambda$, para o Sol ($T=5778\\text{ K}$):"
   ]
  },
  {
   "cell_type": "markdown",
   "id": "3f90cc21-5bf7-44f8-b822-1a8ca74ce414",
   "metadata": {},
   "source": [
    "$$\\tag{1.1}\n",
    "B\\left(\\lambda\\right)=\\frac{2hc^{2}}{\\lambda^{5}}\\frac{1}{\\exp{\\left(hc/\\lambda k_B T\\right)}-1}\\text{ }.\n",
    "$$"
   ]
  },
  {
   "cell_type": "markdown",
   "id": "a7e12f7c-60ce-45a1-be3f-1c420cbd25ca",
   "metadata": {},
   "source": [
    "Use uma matriz NumPy para armazenar valores de $B\\left(\\lambda\\right)$ de $100$ a $5000\\text{ nm}$, mas defina a faixa de comprimento de onda para *diminuir* de $4000\\text{ nm}$ a $0$. As constantes físicas necessárias podem ser consideradas como tendo os valores:"
   ]
  },
  {
   "cell_type": "markdown",
   "id": "14f557ac-f9f5-4dc4-8260-b371407d8514",
   "metadata": {},
   "source": [
    "- $h=6.626\\times10^{−34}\\text{ J s };$\n",
    "- $c=2.998\\times10^{8}\\text{ m/s };$\n",
    "- $k_B=1.381\\times10^{−23}\\text{ J/K }.$"
   ]
  },
  {
   "cell_type": "code",
   "execution_count": 1,
   "id": "276076ec-1fe0-46eb-8b9e-fbdf4b70eefe",
   "metadata": {},
   "outputs": [],
   "source": [
    "# SEU CÓDIGO AQUI"
   ]
  },
  {
   "cell_type": "markdown",
   "id": "a94f2bc7-9b45-413e-af49-f818e8fd2f4e",
   "metadata": {},
   "source": [
    "---"
   ]
  },
  {
   "cell_type": "markdown",
   "id": "5207f503-2b60-417a-b0b1-953cbda85bba",
   "metadata": {},
   "source": [
    "### Problema 2: Aumento do nível do mar na Grã-Bretanha"
   ]
  },
  {
   "cell_type": "markdown",
   "id": "471ed373-ceea-4577-b8c2-d7b6179640f6",
   "metadata": {},
   "source": [
    "As altitudes médias dos quadrados de *hectad* de $10\\text{ km}\\times10\\text{ km}$ usados pelo *Ordnance Survey* do Reino Unido no mapeamento da Grã-Bretanha são fornecidas no arquivo de matriz NumPy [`gb-alt.npy`](https://scipython.com/static/media/2/problems/P7.5/gb-alt.npy)."
   ]
  },
  {
   "cell_type": "markdown",
   "id": "af03282b-3c41-423c-84df-8b4430155a00",
   "metadata": {},
   "source": [
    "Trace um mapa da ilha usando esses dados com `ax.imshow` e trace outros mapas assumindo um aumento médio do nível do mar de:"
   ]
  },
  {
   "cell_type": "markdown",
   "id": "3fa6239f-0994-4b70-b20c-1960407d1475",
   "metadata": {},
   "source": [
    "- **a)** $25\\text{ m}$;\n",
    "- **b)** $50\\text{ m}$;\n",
    "- **c)** $200\\text{ m}$. "
   ]
  },
  {
   "cell_type": "markdown",
   "id": "a066d23d-9f7a-4b9e-8fa0-19ec448f1f83",
   "metadata": {},
   "source": [
    "Em cada caso, deduza a percentagem de área restante do terreno, em relação ao seu valor presente."
   ]
  },
  {
   "cell_type": "code",
   "execution_count": 3,
   "id": "31c52db1-86bf-4ef3-9270-4de7b2a3709a",
   "metadata": {},
   "outputs": [],
   "source": [
    "# SEU CÓDIGO AQUI"
   ]
  },
  {
   "cell_type": "markdown",
   "id": "a381e734-cc76-48fe-91a9-de431df0da96",
   "metadata": {},
   "source": [
    "---"
   ]
  },
  {
   "cell_type": "markdown",
   "id": "5156d584-41e9-4fa9-9862-e66960016480",
   "metadata": {},
   "source": [
    "### Problema 3: Brincando com fractais"
   ]
  },
  {
   "cell_type": "markdown",
   "id": "793eae6d-a64f-48ce-a668-3fe64d7bf7e9",
   "metadata": {},
   "source": [
    "### PARTE I: O jogo do caos"
   ]
  },
  {
   "cell_type": "markdown",
   "id": "5708f1d4-9efe-4f7e-b33a-4b7944784590",
   "metadata": {},
   "source": [
    "O chamado *jogo do caos* é um algoritmo para gerar um fractal. Primeiro defina os $n$ vértices de um polígono regular e um ponto inicial, $(x_0, y_0)$, selecionado aleatoriamente dentro do polígono. Em seguida, gere uma sequência de pontos, começando com $(x_0, y_0)$, onde cada ponto é uma fração $r$ da distância entre o anterior e um vértice do polígono escolhido aleatoriamente. Por exemplo, o algoritmo aplicado com parâmetros $n=3$, $r=0.5$ gera um *triângulo de Sierpinski*."
   ]
  },
  {
   "cell_type": "markdown",
   "id": "0ffda58b-2609-4c1a-a483-9bb04e04e4dc",
   "metadata": {},
   "source": [
    "Escreva um programa para desenhar fractais usando o algoritmo do jogo do caos."
   ]
  },
  {
   "cell_type": "code",
   "execution_count": 1,
   "id": "a5a29f6a-d21e-4c70-80b0-670b60512e56",
   "metadata": {},
   "outputs": [],
   "source": [
    "# SEU CÓDIGO AQUI"
   ]
  },
  {
   "cell_type": "markdown",
   "id": "d931ac29-3160-42df-9ea4-d8710e6afb47",
   "metadata": {},
   "source": [
    "### PARTE II: O conjunto de Julia"
   ]
  },
  {
   "cell_type": "markdown",
   "id": "21ac03e5-6c6e-4d98-a397-c5052dc1e3cf",
   "metadata": {},
   "source": [
    "O *conjunto de Julia* associado à função complexa $f(z)=z^{2}+c$ pode ser representado usando o seguinte algoritmo:"
   ]
  },
  {
   "cell_type": "markdown",
   "id": "0acae195-c267-4c19-a56b-b78d6c296ee9",
   "metadata": {},
   "source": [
    "1. Para cada ponto, $z_0$, no plano complexo tal que $−1.5\\geq \\text{Re}[z_0]\\geq1.5$ e $−1.5\\geq\\text{Im}[z_0]\\geq1.5$, itere de acordo com $z_{n+1}=z_n^{2}+c$.\n",
    "2. Colore o pixel em uma imagem correspondente a esta região do plano complexo de acordo com o número de iterações necessárias para $|z|$ exceder algum valor crítico, $|z|_{\\text{máx.}}$ (ou preto se isso não acontecer antes de um certo número máximo de iterações $n_\\text{máx.}$)."
   ]
  },
  {
   "cell_type": "markdown",
   "id": "120a057e-2f91-49eb-b2fa-2a8611167f2d",
   "metadata": {},
   "source": [
    "Diante disso, escreva um programa para representar graficamente o conjunto de Julia para a equação complexa $c=−0.1+0.65j$, usando $|z|_{\\text{máx.}}=10$ e $n_{\\text{máx}}=500$."
   ]
  },
  {
   "cell_type": "code",
   "execution_count": 4,
   "id": "f6b6769e-0554-40c9-9551-e1b0645ba05b",
   "metadata": {},
   "outputs": [],
   "source": [
    "# SEU CÓDIGO AQUI"
   ]
  },
  {
   "cell_type": "markdown",
   "id": "6d9ab6e2-0582-46f0-9668-34e0e186fcc5",
   "metadata": {},
   "source": [
    "---"
   ]
  },
  {
   "cell_type": "markdown",
   "id": "c1884b09-a875-4e67-bb76-c6f910084e47",
   "metadata": {},
   "source": [
    "### Problema 4: Dinâmica dos Fluidos em duas dimensões"
   ]
  },
  {
   "cell_type": "markdown",
   "id": "d09e2c6c-fa14-429a-bd95-9cf456c39c65",
   "metadata": {},
   "source": [
    "### PARTE I: Equação de Advecção"
   ]
  },
  {
   "cell_type": "markdown",
   "id": "7e9da442-26a5-411d-aced-917593a0fafa",
   "metadata": {},
   "source": [
    "A *equação de advecção* bidimensional pode ser escrita como sendo na forma:"
   ]
  },
  {
   "cell_type": "markdown",
   "id": "85fa331a-c17c-493a-b9b7-481c3632f33f",
   "metadata": {},
   "source": [
    "$$\\tag{5.1}\n",
    "\\frac{\\partial U}{\\partial t}=-v_x\\frac{\\partial U}{\\partial x}-v_y\\frac{\\partial U}{\\partial y}\\text{ },\n",
    "$$"
   ]
  },
  {
   "cell_type": "markdown",
   "id": "fc9d6e6e-6b75-4c55-812b-47bc17e838df",
   "metadata": {},
   "source": [
    "onde $\\boldsymbol{v}=\\left(v_x,v_y\\right)$ é o campo vetorial de velocidade, fornecendo as componentes da velocidade $v_x$ e $v_y$, que podem variar em função da posição, $(x, y)$. Esta equação pode ser discretizada e resolvida numericamente. Com o método de diferenças progressivas (ou diferenças avançadas) no tempo e diferenças centrais no espaço, temos:"
   ]
  },
  {
   "cell_type": "markdown",
   "id": "6169a5d9-891f-4044-969a-8e7b3c13d683",
   "metadata": {},
   "source": [
    "$$\\tag{5.2}\n",
    "u_{i,j}^{(n+1)}=u_{i,j}^{(n)}-\\Delta t\\left[v_{x;i,j}\\frac{u_{i+1,j}^{(n)}-u_{i-1,j}^{(n)}}{2\\Delta x}+v_{y;i,j}\\frac{u_{i,j+1}^{(n)}-u_{i,j-1}^{(n)}}{2\\Delta y}\\right]\\text{ }.\n",
    "$$"
   ]
  },
  {
   "cell_type": "markdown",
   "id": "155c4063-e41b-402e-a8cd-e73a144488df",
   "metadata": {},
   "source": [
    "Implemente esta solução numérica aproximada no domínio $0\\leq x<10$ e $0\\leq y<10$ discretizado com $\\Delta x=\\Delta y=0.1$ com a condição inicial:"
   ]
  },
  {
   "cell_type": "markdown",
   "id": "118a3ee1-e0df-4e13-a900-d35242d65351",
   "metadata": {},
   "source": [
    "$$\\tag{5.3}\n",
    "u_0(x,y)=\\exp{\\left[-\\frac{(x-c_x)^{2}+(y-c_y)^{2}}{\\alpha^{2}}\\right]}\\text{ },\n",
    "$$"
   ]
  },
  {
   "cell_type": "markdown",
   "id": "29e0bee0-2aba-436d-9659-89d5739a78ad",
   "metadata": {},
   "source": [
    "onde $(c_x,c_y)=(5,5)$ e $\\alpha=2$. Considere o campo de velocidade como uma circulação com velocidade constante $0.1$ em torno de uma origem em $(7,5)$."
   ]
  },
  {
   "cell_type": "code",
   "execution_count": 2,
   "id": "75c13865-6345-4bb4-9836-56ee0c187e01",
   "metadata": {},
   "outputs": [],
   "source": [
    "# SEU CÓDIGO AQUI"
   ]
  },
  {
   "cell_type": "markdown",
   "id": "7989ae87-dc37-440b-8587-c127471e96f7",
   "metadata": {},
   "source": [
    "### PARTE II: Equação da Difusão"
   ]
  },
  {
   "cell_type": "markdown",
   "id": "3a9f8592-6dc3-4527-909e-4d13969ab593",
   "metadata": {},
   "source": [
    "A equação de difusão bidimensional é dada por"
   ]
  },
  {
   "cell_type": "markdown",
   "id": "5190e649-f446-4c06-93ca-663fba419a9b",
   "metadata": {},
   "source": [
    "$$\\tag{5.4}\n",
    "\\frac{\\partial U}{\\partial t} = D\\left(\\frac{\\partial^2U}{\\partial x^2} + \\frac{\\partial^2U}{\\partial y^2}\\right)\\text{ },\n",
    "$$"
   ]
  },
  {
   "cell_type": "markdown",
   "id": "be6cde0d-d62e-49bf-999f-ab1f259862bc",
   "metadata": {},
   "source": [
    "onde $D$ é o coeficiente de difusão. Uma solução numérica simples no domínio do quadrado unitário $0\\leq x<1$, $0\\leq y<1$ aproxima $U(x,y;t)$ pela função discreta $u^{(n)}_{i,j}$ onde $x=i\\Delta x$, $y=j\\Delta y$ e $t=n\\Delta t$. A aplicação de aproximações de diferenças finitas produz"
   ]
  },
  {
   "cell_type": "markdown",
   "id": "c5a8fb24-9c6a-4104-9832-708b8a905def",
   "metadata": {},
   "source": [
    "$$\\tag{5.5}\n",
    "\\frac{u_{i,j}^{(n+1)} - u_{i,j}^{(n)}}{\\Delta t} = D\\left[ \\frac{u_{i+1,j}^{(n)} - 2u_{i,j}^{(n)} + u_{i-1,j}^{(n)}}{(\\Delta x)^2} + \\frac{u_{i,j+1}^{(n)} - 2u_{i,j}^{(n)} + u_{i,j-1}^{(n)}}{(\\Delta y)^2} \\right]\\text{ },\n",
    "$$"
   ]
  },
  {
   "cell_type": "markdown",
   "id": "ac34897c-6943-479e-bdc2-4f03966e20d1",
   "metadata": {},
   "source": [
    "e, portanto, o estado do sistema no passo de tempo $n+1$, $u^{(n+1)}_{i,j}$ pode ser calculado a partir de seu estado no passo de tempo $n$, $u^{(n)}_{i,j}$ através da equação"
   ]
  },
  {
   "cell_type": "markdown",
   "id": "7465da35-63af-4476-a1bd-a34277d3d59e",
   "metadata": {},
   "source": [
    "$$\\tag{5.6}\n",
    "u_{i,j}^{(n+1)} = u_{i,j}^{(n)} + D\\Delta t\\left[ \\frac{u_{i+1,j}^{(n)} - 2u_{i,j}^{(n)} + u_{i-1,j}^{(n)}}{(\\Delta x)^2} + \\frac{u_{i,j+1}^{(n)} - 2u_{i,j}^{(n)} + u_{i,j-1}^{(n)}}{(\\Delta y)^2} \\right]\\text{ }.\n",
    "$$"
   ]
  },
  {
   "cell_type": "markdown",
   "id": "1199ea2e-9856-4558-bb33-9431f7a6bef9",
   "metadata": {},
   "source": [
    "Considere a equação de difusão aplicada a uma placa metálica inicialmente à temperatura $T_{\\text{cool}}$, exceto por um disco de tamanho especificado que está à temperatura $T_{\\text{hot}}$. Suponhamos que as bordas da placa sejam mantidas fixas em $T_{\\text{cool}}$. Pode-se mostrar que o intervalo de tempo máximo, $\\Delta t$, que podemos permitir sem que o processo se torne instável é"
   ]
  },
  {
   "cell_type": "markdown",
   "id": "65c1bb94-708a-4212-a561-f1f4240c21b6",
   "metadata": {},
   "source": [
    "$$\\tag{5.7}\n",
    "\\Delta t = \\frac{1}{2D}\\frac{(\\Delta x\\Delta y)^2}{(\\Delta x)^2 + (\\Delta y)^2}\\text{ }.\n",
    "$$"
   ]
  },
  {
   "cell_type": "markdown",
   "id": "e8b65927-3855-4b25-b499-07557c6a4cac",
   "metadata": {},
   "source": [
    "Adapte o código apresentado no **Exemplo 4** da aula para exibir uma animação da evolução temporal da temperatura de uma placa metálica."
   ]
  },
  {
   "cell_type": "code",
   "execution_count": 3,
   "id": "9bd4e54e-20a7-41ef-bcf9-a2617b475306",
   "metadata": {},
   "outputs": [],
   "source": [
    "# SEU CÓDIGO AQUI"
   ]
  },
  {
   "cell_type": "markdown",
   "id": "09cda200-32be-4c0a-9f0e-4f8f51262638",
   "metadata": {},
   "source": [
    "---"
   ]
  },
  {
   "cell_type": "markdown",
   "id": "b4969c4a-1e42-4988-8a3e-733f5d022fb1",
   "metadata": {},
   "source": [
    "### Problema 5: A trajetória da sonda espacial Voyager 2"
   ]
  },
  {
   "cell_type": "markdown",
   "id": "b14ab221-45b8-4aaf-8103-2f35cceb7b08",
   "metadata": {},
   "source": [
    "O Laboratório de Propulsão a Jato (JPL, do inglês *Jet Propulsion Laboratory*) da NASA mantém um serviço web e banco de dados chamado [HORIZONS](https://ssd.jpl.nasa.gov/horizons/app.html#/) que pode ser usado para calcular efemérides (as trajetórias de objetos no sistema solar ao longo do tempo). "
   ]
  },
  {
   "cell_type": "markdown",
   "id": "e44f7db7-16c7-4210-846a-b259456fad07",
   "metadata": {},
   "source": [
    "Utilize os dados deste recurso, que foi pré-selecionado e pode ser baixado em [HORIZONS-`trajectories.tar.bz2`](https://scipython.com/static/media/2/problems/P7.7/HORIZONS-trajectories.tar.bz2), para produzir uma animação da trajetória da sonda espacial Voyager 2, entre seu lançamento em agosto de 1977 e o final de 1999. Este período inclui diversas manobras de auxílio da gravidade (\"estilingue\") à medida que a espaçonave passa pelos planetas maiores. Apenas as coordenadas $(X,Y)$ dos corpos relevantes precisam ser consideradas."
   ]
  },
  {
   "cell_type": "code",
   "execution_count": 6,
   "id": "cdc30639-41a1-4d1b-81f7-460dc84052f7",
   "metadata": {},
   "outputs": [],
   "source": [
    "# SEU CÓDIGO AQUI"
   ]
  },
  {
   "cell_type": "markdown",
   "id": "fb69ed53-0fbe-482f-ae84-eff422e1f28a",
   "metadata": {},
   "source": [
    "---"
   ]
  },
  {
   "cell_type": "markdown",
   "id": "5bd27d7b-ab52-4e34-9bb2-cd573e7aa925",
   "metadata": {},
   "source": [
    "### $\\star$ Desafio: Raízes quadradas e dentes de tubarão"
   ]
  },
  {
   "cell_type": "markdown",
   "id": "9566a9fe-7548-4748-a6e3-d02b19b733cd",
   "metadata": {},
   "source": [
    "A [Espiral de Teodoro](https://en.wikipedia.org/wiki/Spiral_of_Theodorus) (também conhecida como Caracol de Pitágoras), ilustrada abaixo, é uma visualização bem conhecida das raízes quadradas dos inteiros como o comprimento das hipotenusas de uma sequência de triângulos retângulos, colocados de ponta a ponta."
   ]
  },
  {
   "cell_type": "markdown",
   "id": "8ad03b39-7e82-4e26-8992-572f5ca71fcb",
   "metadata": {},
   "source": [
    "![](img/img1_Matplotlib.png)"
   ]
  },
  {
   "cell_type": "markdown",
   "id": "cc22777f-c11c-4297-8e0c-bc6fcdca1c86",
   "metadata": {},
   "source": [
    "*The Spiral of Theodorus [Pbroks13 at English Wikipedia: CC-SA-3.0]*"
   ]
  },
  {
   "cell_type": "markdown",
   "id": "66a5f358-3e84-45cb-a2f7-54a0427a2d3d",
   "metadata": {},
   "source": [
    "Uma visualização alternativa, destacada em um [tweet](https://twitter.com/OLonguet/status/1704874455057498485) do usuário [@OLonguet](https://twitter.com/OLonguet), pode ser usada para construir as raízes quadradas dos inteiros usando uma sequência de círculos centrados alternadamente na origem, $(0,0)$ e em $(0,1)$. Note que a intersecção dos círculos vizinhos lembra uma fileira de dentes de tubarão."
   ]
  },
  {
   "cell_type": "markdown",
   "id": "b0aeb20a-299d-4e7a-8bee-00f01d325b40",
   "metadata": {},
   "source": [
    "Dado o exposto, escreva um código que gere uma animação do processo."
   ]
  },
  {
   "cell_type": "code",
   "execution_count": 4,
   "id": "3700f9ff-111e-41a5-acf3-3ec5642cfcc5",
   "metadata": {},
   "outputs": [],
   "source": [
    "# SEU CÓDIGO AQUI"
   ]
  },
  {
   "cell_type": "markdown",
   "id": "0f284eff-709b-4f94-9f2b-84f13f72dd6f",
   "metadata": {},
   "source": [
    "---"
   ]
  }
 ],
 "metadata": {
  "kernelspec": {
   "display_name": "Python 3 (ipykernel)",
   "language": "python",
   "name": "python3"
  },
  "language_info": {
   "codemirror_mode": {
    "name": "ipython",
    "version": 3
   },
   "file_extension": ".py",
   "mimetype": "text/x-python",
   "name": "python",
   "nbconvert_exporter": "python",
   "pygments_lexer": "ipython3",
   "version": "3.9.8"
  }
 },
 "nbformat": 4,
 "nbformat_minor": 5
}
