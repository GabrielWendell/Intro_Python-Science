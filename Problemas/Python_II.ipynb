{
 "cells": [
  {
   "cell_type": "markdown",
   "id": "68fc7061-1a1f-4a7f-aa1b-b1f7ea9d8904",
   "metadata": {},
   "source": [
    "# Introdução à Programação Científica em Python"
   ]
  },
  {
   "cell_type": "markdown",
   "id": "0cd0a5ae-9ad8-4be6-a4ca-d836255aa0a3",
   "metadata": {},
   "source": [
    "## Problemas Propostos #02"
   ]
  },
  {
   "cell_type": "markdown",
   "id": "1bdddcce-e9bd-4f8f-9a98-aee288c2b2af",
   "metadata": {},
   "source": [
    "- **Aula 2**: *Python core II*."
   ]
  },
  {
   "cell_type": "markdown",
   "id": "79e6efe0-b577-46d6-8483-3a3caab48c1b",
   "metadata": {},
   "source": [
    "---"
   ]
  },
  {
   "cell_type": "markdown",
   "id": "10891825-cffe-4e19-8a69-22b8ad863c09",
   "metadata": {},
   "source": [
    "### Problema 1: Representação em string de um vetor"
   ]
  },
  {
   "cell_type": "markdown",
   "id": "22ab6fcd-1a96-4a4f-b964-2c5c58f2ee80",
   "metadata": {},
   "source": [
    "**a)** Escreva uma função retorna uma representação em string de um vetor bidimensional ($\\text{2D}$) ou tridimensional ($\\text{3D}$), que deve ser representado como uma lista ou tupla contendo dois ou três itens."
   ]
  },
  {
   "cell_type": "code",
   "execution_count": 1,
   "id": "bddb3ed5-e461-4c3f-8e46-2c5807d65816",
   "metadata": {},
   "outputs": [],
   "source": [
    "# SEU CÓDIGO AQUI"
   ]
  },
  {
   "cell_type": "markdown",
   "id": "bc370b39-9097-455c-9e7c-3eb5202e66ef",
   "metadata": {},
   "source": [
    "Adapte a função do item **a)** que retorna um vetor na seguinte forma:"
   ]
  },
  {
   "cell_type": "markdown",
   "id": "8c456a20-8859-48ee-90a2-2b07e6b07412",
   "metadata": {},
   "source": [
    "```\n",
    ">>> print(str_vector ([-2, 3.5]))\n",
    "-2i + 3.5j\n",
    "\n",
    ">>> print(str_vector ((4, 0.5, -2)))\n",
    "4i + 0.5j - 2k\n",
    "```"
   ]
  },
  {
   "cell_type": "markdown",
   "id": "91c24b3e-9d2b-41f8-aef2-6d0462dbcd87",
   "metadata": {},
   "source": [
    "para gerar uma exceção se algum elemento na matriz vetorial não representar um número real. "
   ]
  },
  {
   "cell_type": "code",
   "execution_count": 2,
   "id": "5969cb0d-47ea-4e65-baa9-2712baa0eebc",
   "metadata": {},
   "outputs": [],
   "source": [
    "# SEU CÓDIGO AQUI"
   ]
  },
  {
   "cell_type": "markdown",
   "id": "ec8436f6-e6f8-4d01-aa8b-630f130b4856",
   "metadata": {},
   "source": [
    "---"
   ]
  },
  {
   "cell_type": "markdown",
   "id": "2fe4f961-9067-46f5-a9d4-1b04766e6f88",
   "metadata": {},
   "source": [
    "### Problema 2: Frequência de palavras e Moby Dick"
   ]
  },
  {
   "cell_type": "markdown",
   "id": "85b69ba9-e970-41ae-90d6-377a71b53ecd",
   "metadata": {},
   "source": [
    "O romance *Moby-Dick* não está protegido por direitos autorais e pode ser baixado como um arquivo de texto no site do [Project Gutenberg](www.gutenberg.org/2/7/0/2701/). "
   ]
  },
  {
   "cell_type": "markdown",
   "id": "51b44753-f442-402c-8797-5945f97b432e",
   "metadata": {},
   "source": [
    "**a)** Escreva um programa para gerar as 100 palavras usadas com mais frequência no livro, armazenando uma contagem de cada palavra encontrada em um dicionário."
   ]
  },
  {
   "cell_type": "markdown",
   "id": "4e30accf-0cf7-41aa-94d8-97358d5b555e",
   "metadata": {},
   "source": [
    "**DICA:** use os métodos de string do Python para eliminar qualquer pontuação. É suficiente substituir quaisquer instâncias dos seguintes caracteres pela string vazia: `!?\":;,()'.*[]`. Quando você tiver um dicionário com palavras como chaves e o correspondente contador da palavra como valores, crie um lista de tuplas (*count*, *word*) e classificá-las."
   ]
  },
  {
   "cell_type": "code",
   "execution_count": 3,
   "id": "b6f50fcf-7ab4-456c-a54e-7e7a1b0cb114",
   "metadata": {},
   "outputs": [],
   "source": [
    "# SEU CÓDIGO AQUI"
   ]
  },
  {
   "cell_type": "markdown",
   "id": "eb600c09-28ba-4902-8e21-39f045636389",
   "metadata": {},
   "source": [
    "**b)** (Opcional) compare as frequências das 2.000 palavras principais em *Moby Dick* com a previsão da *lei de Zipf*:"
   ]
  },
  {
   "cell_type": "markdown",
   "id": "00864c71-f281-4e59-b178-bfd9886a6ba6",
   "metadata": {},
   "source": [
    "$$\\tag{2.1}\n",
    "\\log{\\left[f(w)\\right]}=\\log{(C)}-a\\log{\\left[r(w)\\right]}\\text{ },\n",
    "$$"
   ]
  },
  {
   "cell_type": "markdown",
   "id": "3a8d061f-c916-4fe9-a9f6-ac6713c83807",
   "metadata": {},
   "source": [
    "onde $f(w)$ é o número de ocorrências da palavra $w$, $r(w)$ é a classificação correspondente ($1=$ mais comum, $2=$ segundo mais comum, etc.) e $C$ e $a$ são constantes. Na formulação tradicional da lei, $C=\\log{\\left[f(w_1)\\right]}$ e $a=1$, onde $w_1$ é a palavra mais comum, tal que $r(w_1)=1$."
   ]
  },
  {
   "cell_type": "code",
   "execution_count": 4,
   "id": "fd66700f-e4c4-4f6f-9662-5ebaf6677ee7",
   "metadata": {},
   "outputs": [],
   "source": [
    "# SEU CÓDIGO AQUI"
   ]
  },
  {
   "cell_type": "markdown",
   "id": "78c9c768-0804-48dc-8155-578a51940eb6",
   "metadata": {},
   "source": [
    "---"
   ]
  },
  {
   "cell_type": "markdown",
   "id": "c2cc8838-ab6a-49ab-9663-d8ea2a978019",
   "metadata": {},
   "source": [
    "### Problema 3: Espécies de tubarões"
   ]
  },
  {
   "cell_type": "markdown",
   "id": "c67a3286-0842-4c19-9991-3aa03e854488",
   "metadata": {},
   "source": [
    "O arquivo [`shark-species.txt`](https://scipython.com/ex/bdc), contém uma lista de espécies de tubarões existentes organizadas em uma hierarquia por ordem, família, gênero e espécie (sendo a espécie dada como *nome binomial*: *nome comum*). Leia o arquivo em uma estrutura de dados de dicionários aninhados, que pode ser acessada da seguinte forma::\r"
   ]
  },
  {
   "cell_type": "markdown",
   "id": "176351e6-5ef1-4bc7-abc3-9a10108df3f8",
   "metadata": {},
   "source": [
    "```python\n",
    ">>> sharks['Lamniformes']['Lamnidae']['Carcharodon']['C. carcharias']\r\n",
    "Great white shark\r\n",
    "```"
   ]
  },
  {
   "cell_type": "code",
   "execution_count": 5,
   "id": "0313adc6-d00a-439c-a955-b54bef7a08b5",
   "metadata": {},
   "outputs": [],
   "source": [
    "# SEU CÓDIGO AQUI"
   ]
  },
  {
   "cell_type": "markdown",
   "id": "4a6baeed-8660-4da5-a5a1-f6e19b6bd5d5",
   "metadata": {},
   "source": [
    "---"
   ]
  },
  {
   "cell_type": "markdown",
   "id": "857e3497-8a28-403f-bed7-e8b48d30e810",
   "metadata": {},
   "source": [
    "### Problema 4: Fórmula de Haversine"
   ]
  },
  {
   "cell_type": "markdown",
   "id": "cfd22cda-8084-41fd-ab69-891e84c52d25",
   "metadata": {},
   "source": [
    "A *fórmula de Haversine* fornece a distância mais curta (círculo máximo), $d$, entre dois pontos em uma esfera de raio, $R$, a partir de suas longitudes ($\\lambda_1$, $\\lambda_2$) e latitudes ($\\phi_1$, $\\phi_2$):"
   ]
  },
  {
   "cell_type": "markdown",
   "id": "97e6a50c-1099-405c-b6c4-37a059f9ffe5",
   "metadata": {},
   "source": [
    "$$\\tag{4.1}\n",
    "d=2R\\arcsin{\\left[\\sqrt{\\text{haversin}(\\phi_2-\\phi_1)+\\cos{(\\phi_1)}\\cos{(\\phi_2)}\\text{haversin}(\\lambda_2-\\lambda_1)}\\right]}\\text{ },\n",
    "$$"
   ]
  },
  {
   "cell_type": "markdown",
   "id": "9d93bf49-c989-4701-befa-64894869c7a5",
   "metadata": {},
   "source": [
    "onde a função $\\text{haversin}$ de um ângulo é definida como:"
   ]
  },
  {
   "cell_type": "markdown",
   "id": "0ca4c2c2-480a-4e26-ba25-7f58e18a2604",
   "metadata": {},
   "source": [
    "$$\\tag{4.2}\n",
    "\\text{haversin}(\\alpha)=\\sin^{2}\\left(\\frac{\\alpha}{2}\\right)\\text{ }.\n",
    "$$"
   ]
  },
  {
   "cell_type": "markdown",
   "id": "aae021e4-d559-466e-a0f6-eefeee4b2527",
   "metadata": {},
   "source": [
    "Escreva um programa para calcular a distância mais curta em quilômetros entre dois pontos na superfície da Terra (considerada como uma esfera de raio $6,378.1\\text{ km}$) dada como dois argumentos de linha de comando, cada um dos quais é um par de latitude e longitude separados por vírgula valores em graus. "
   ]
  },
  {
   "cell_type": "markdown",
   "id": "a2473c7e-c5cd-462e-a34a-f82a770b8b4a",
   "metadata": {},
   "source": [
    "Por exemplo, a distância entre Paris e Roma é dada executando:"
   ]
  },
  {
   "cell_type": "markdown",
   "id": "2cf0ee5b-ebf2-4779-b34d-6324565ae565",
   "metadata": {},
   "source": [
    "```python\n",
    ">>> python greatcircle.py 48.9 ,2.4 41.9 ,12.5\r\n",
    "1107 km\n",
    "```"
   ]
  },
  {
   "cell_type": "code",
   "execution_count": 6,
   "id": "0b9d9237-2d27-4ddd-8e6f-6edec94f1ad2",
   "metadata": {},
   "outputs": [],
   "source": [
    "# SEU CÓDIGO AQUI"
   ]
  },
  {
   "cell_type": "markdown",
   "id": "3add5089-ac3b-4e74-92f6-629963ac86c2",
   "metadata": {},
   "source": [
    "---"
   ]
  },
  {
   "cell_type": "markdown",
   "id": "d73c07b8-20b2-4109-9da3-631a0ba3f3d0",
   "metadata": {},
   "source": [
    "### Problema 5: Uma simples aula de regressão linear"
   ]
  },
  {
   "cell_type": "markdown",
   "id": "cbf3d48d-1991-4bc3-b895-b7daec6edbe2",
   "metadata": {},
   "source": [
    "**a)** Projete e implemente uma classe, `Experiment`, para ler e armazenar uma série simples de dados $(x,y)$ como matrizes NumPy de um arquivo de texto. Inclua em sua classe métodos para transformar a série de dados por alguma função simples (por exemplo, $x'=\\ln{(x)}$, $y'=1/y$) e para realizar uma regressão linear de mínimos quadrados nos dados transformados (retornando o gradiente e a interceptação do linha de melhor ajuste, $y'_{\\text{fit}}=mx'+c$). NumPy fornece métodos para realizar regressão linear, mas para este exercício as seguintes equações podem ser implementadas diretamente:"
   ]
  },
  {
   "cell_type": "markdown",
   "id": "920b6b50-6908-450e-a3a3-2afe3d2ca0b2",
   "metadata": {},
   "source": [
    "$$\\tag{5.1}\n",
    "m=\\frac{\\overline{xy}-\\overline{x}\\overline{y}}{\\overline{x^{2}}-\\overline{x}^{2}}\\quad,\\quad c=\\overline{y}-m\\overline{x}\\text{ },\n",
    "$$"
   ]
  },
  {
   "cell_type": "markdown",
   "id": "58b5951c-8a99-424c-8855-d86f365fbec6",
   "metadata": {},
   "source": [
    "onde a notação de barra, $\\overline{\\cdot}$, denota a média aritmética da quantidade abaixo dela."
   ]
  },
  {
   "cell_type": "markdown",
   "id": "ac5b762c-b9cb-4d7c-a1d4-cff7d6f1c7f7",
   "metadata": {},
   "source": [
    "**DICA:** Se você preferir, use `np.mean(arr)` para retornar a média do array `arr`."
   ]
  },
  {
   "cell_type": "code",
   "execution_count": 7,
   "id": "bec051bf-18ab-42a4-8bcc-21112483f695",
   "metadata": {},
   "outputs": [],
   "source": [
    "# SEU CÓDIGO AQUI"
   ]
  },
  {
   "cell_type": "markdown",
   "id": "54756aac-1c60-4e8a-98b1-99d2c02da507",
   "metadata": {},
   "source": [
    "**b)** O ácido cloroacético é um composto importante na produção sintética de produtos farmacêuticos, pesticidas e combustíveis. Em alta concentração sob fortes condições alcalinas, sua hidrólise pode ser considerada como a seguinte reação:"
   ]
  },
  {
   "cell_type": "markdown",
   "id": "e86f542a-d273-46c8-b0d5-e74442ea7e87",
   "metadata": {},
   "source": [
    "$$\\tag{5.2}\n",
    "\\text{ClCH}_2\\text{COO}^{-}+\\text{OH}^{-}\\rightleftharpoons\\text{HOCH}_{2}\\text{COO}^{-}+\\text{Cl}^{-}\\text{ }.\n",
    "$$"
   ]
  },
  {
   "cell_type": "markdown",
   "id": "87ec148c-681f-4ece-809c-7fc2ff87cd00",
   "metadata": {},
   "source": [
    "Dados que fornecem a concentração de $\\mathrm{ClCH_2COO^-}$, c (em $\\text{M}$), em função do tempo, $t$ (em $\\text{s}$), são fornecidos para esta reação realizada em excesso de álcali em cinco temperaturas diferentes nos arquivos de dados [`caa-T.txt`](https://scipython.com/static/media/2/problems/P4.6/caa-T.zip) (`T = 40, 50, 60, 70, 80` em $^{\\circ}\\text{C}$). A reação é conhecida por ser de segunda ordem e, portanto, obedece à lei de taxas integradas"
   ]
  },
  {
   "cell_type": "markdown",
   "id": "3546e4f1-860a-435e-abe2-de7d8ec54b1a",
   "metadata": {},
   "source": [
    "$$\\tag{5.3}\n",
    "\\frac{1}{c}=\\frac{1}{c_0}+kt\\text{ },\n",
    "$$"
   ]
  },
  {
   "cell_type": "markdown",
   "id": "41d61f14-7b18-441a-a956-8da938205d59",
   "metadata": {},
   "source": [
    "onde $k$ é a constante de taxa efetiva e c0 a concentração inicial $(t=0)$ de ácido cloroacético."
   ]
  },
  {
   "cell_type": "markdown",
   "id": "fda4b639-3fec-442d-b988-a3fbe877e181",
   "metadata": {},
   "source": [
    "Use sua classe `Experiment` para interpretar esses dados por regressão linear de $1/c$ *versus* $t$, determinando $m(\\equiv k)$ para cada temperatura. Então, para cada valor de $k$ determine a energia de ativação da reação através de uma segunda regressão linear de $\\ln{(k)}$ contra $1/T$ de acordo com a lei de Arrhenius:"
   ]
  },
  {
   "cell_type": "markdown",
   "id": "290cb576-0440-4b09-b666-da14e32f8e42",
   "metadata": {},
   "source": [
    "$$\\tag{5.4}\n",
    "k=Ae^{-E_a/RT}\\implies \\ln{(k)}=\\ln{(A)}-\\frac{E_a}{RT}\\text{ },\n",
    "$$"
   ]
  },
  {
   "cell_type": "markdown",
   "id": "d8487c85-3f4f-4d12-8603-895809e9960c",
   "metadata": {},
   "source": [
    "onde $R=8.314\\text{ J/(K mol)}$ é a constante dos gases ideais."
   ]
  },
  {
   "cell_type": "code",
   "execution_count": 8,
   "id": "86572a79-82ef-4cf3-9fa7-2e0daddc96f9",
   "metadata": {},
   "outputs": [],
   "source": [
    "# SEU CÓDIGO AQUI"
   ]
  },
  {
   "cell_type": "markdown",
   "id": "cf4e4f53-e69f-4b2c-9e87-b2cf9f478197",
   "metadata": {},
   "source": [
    "---"
   ]
  },
  {
   "cell_type": "markdown",
   "id": "5120a5ca-3cdd-4041-b4f7-e64cfeced358",
   "metadata": {},
   "source": [
    "### $\\star$ Desafio: O cátalogo *Yale Bright Star*"
   ]
  },
  {
   "cell_type": "markdown",
   "id": "51481dc0-e4cb-4c46-a7aa-df4f0ac2ddbb",
   "metadata": {},
   "source": [
    "Neste desafio você deverá escrever um programa para criar a imagem de uma constelação usando os dados do Catálogo [*Yale Bright Star*](http://tdc-www.harvard.edu/catalogs/bsc5.html)."
   ]
  },
  {
   "cell_type": "markdown",
   "id": "8350a78b-eec2-41dd-afbb-a32f8e98e25c",
   "metadata": {},
   "source": [
    "Crie uma classe, `Star`, para representar uma estrela com atributos de nome, magnitude e posição no céu, analisados a partir do arquivo `bsc5.dat` que faz parte do catálogo. Implemente um método para esta classe que converta a posição da estrela na esfera celeste como (Ascensão Reta: $\\alpha$, Declinação: $\\delta$) para um ponto em um plano, $(x,y)$."
   ]
  },
  {
   "cell_type": "markdown",
   "id": "0e5540ab-d94d-42f3-9922-f1ccbe3207f9",
   "metadata": {},
   "source": [
    "**Exemplo:** Usando uma projeção ortogonal em torno do ponto central $(\\alpha_0,\\delta_0)$:"
   ]
  },
  {
   "cell_type": "markdown",
   "id": "60cb638a-b077-497a-8d87-75f10b9ad789",
   "metadata": {},
   "source": [
    "$$\\tag{*.1}\n",
    "\\begin{cases}\n",
    "x=\\cos{(\\delta)}\\sin{(\\Delta\\alpha)}\\text{ }, \\\\\n",
    "y=\\sin{(\\delta)}\\cos{(\\delta_0)}-\\cos{(\\delta)}\\cos{(\\Delta\\alpha)}\\sin{(\\delta_0)}\n",
    "\\end{cases}\n",
    "\\quad,\\quad\\Delta\\alpha=\\alpha-\\alpha_0\\text{ }.\n",
    "$$"
   ]
  },
  {
   "cell_type": "markdown",
   "id": "b86071a5-607a-486b-bd82-2ab8cfc1e10a",
   "metadata": {},
   "source": [
    "Posições de estrelas adequadamente dimensionadas e projetadas podem ser geradas em uma imagem SVG como círculos (com um raio maior para estrelas mais brilhantes). "
   ]
  },
  {
   "cell_type": "markdown",
   "id": "f1af2fa2-ad01-4bc6-980d-362c76dfa5b3",
   "metadata": {},
   "source": [
    "Por exemplo, a linha:"
   ]
  },
  {
   "cell_type": "markdown",
   "id": "be8e2e0f-22d1-4581-9b3e-cd5f7e6a472d",
   "metadata": {},
   "source": [
    "```python\n",
    "<circle cx=\"200\" cy=\"150\" r=\"5\" stroke=\"none\" fill=\"#ffffff\"/>\n",
    "```"
   ]
  },
  {
   "cell_type": "markdown",
   "id": "8b0fa7df-7949-429e-af15-290c6f8ab91f",
   "metadata": {},
   "source": [
    "representa um círculo branco com raio de 5 pixels, centralizado na tela em $(200,150)$."
   ]
  },
  {
   "cell_type": "markdown",
   "id": "baa572f9-a053-436e-986f-5200dce6f2d9",
   "metadata": {},
   "source": [
    "**DICA:** você precisará converter a ascensão reta de (hr, min, seg) e a declinação de (graus, min, seg) para radianos. Use os dados correspondentes a “equinox J2000, época 2000.0” em cada linha de `bsc5.dat`. Deixe o usuário selecionar a constelação na linha de comando usando sua abreviatura de três letras (por exemplo, “Ori” para Orion): isso é fornecido como parte do nome da estrela no catálogo. Não se esqueça de que as magnitudes das estrelas são *menores* para *estrelas mais brilhantes*. Se você estiver usando a projeção ortográfica sugerida, escolha $(\\alpha_0,\\delta_0)$ como a média de $(\\alpha,\\delta)$ para estrelas na constelação."
   ]
  },
  {
   "cell_type": "code",
   "execution_count": 9,
   "id": "7676909d-3284-4898-bcd7-b5ff8c7bb401",
   "metadata": {},
   "outputs": [],
   "source": [
    "# SEU CÓDIGO AQUI"
   ]
  },
  {
   "cell_type": "markdown",
   "id": "072ea1c8-59ad-4ce3-9d9f-10488e961edc",
   "metadata": {},
   "source": [
    "---"
   ]
  }
 ],
 "metadata": {
  "kernelspec": {
   "display_name": "Python 3 (ipykernel)",
   "language": "python",
   "name": "python3"
  },
  "language_info": {
   "codemirror_mode": {
    "name": "ipython",
    "version": 3
   },
   "file_extension": ".py",
   "mimetype": "text/x-python",
   "name": "python",
   "nbconvert_exporter": "python",
   "pygments_lexer": "ipython3",
   "version": "3.9.8"
  }
 },
 "nbformat": 4,
 "nbformat_minor": 5
}
