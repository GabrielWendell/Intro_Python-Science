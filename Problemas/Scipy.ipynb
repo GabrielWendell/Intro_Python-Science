{
 "cells": [
  {
   "cell_type": "markdown",
   "id": "00c48b7a-3248-469a-9cf0-9af5bede8c08",
   "metadata": {},
   "source": [
    "# Introdução à Programação Científica em Python"
   ]
  },
  {
   "cell_type": "markdown",
   "id": "559d5bc8-1d68-4b8a-82de-498982d93c8c",
   "metadata": {},
   "source": [
    "## Problemas Propostos #06"
   ]
  },
  {
   "cell_type": "markdown",
   "id": "9fe8abb0-8ed8-4c90-959a-ca23dbaaf1f5",
   "metadata": {},
   "source": [
    "- **Aula 6:** *SciPy*"
   ]
  },
  {
   "cell_type": "markdown",
   "id": "ad076d81-3d13-44b7-a944-3acf9743e7fd",
   "metadata": {},
   "source": [
    "---"
   ]
  },
  {
   "cell_type": "markdown",
   "id": "af97b0cb-9fa9-4caa-9b8b-5e696f9d073c",
   "metadata": {},
   "source": [
    "### Problema 1: O limite de difração de um telescópio"
   ]
  },
  {
   "cell_type": "markdown",
   "id": "8cfcbb5e-c136-4dec-b51c-1a5f2dd9c473",
   "metadata": {},
   "source": [
    "Nossa habilidade para ver detalhes em observações astronômicas é limitada pela difração da luz nos telescópios. As luzes vindo das estrelas podem ser tratadas efetivamente como vindas de uma fonte pontual no infinito. Quando a luz, com comprimento de onda $\\lambda$, passa através da abertura circular de um telescópio (que consideraremos tendo raio unitário) e é focalizada no plano focal, produz não um ponto e sim um padrão de difração circular consistindo de um plano central cercado por uma série de anéis concêntricos. Tal padrão de difração é conhecido como *padrão de Airy* ou *disco de Airy* A intensidade da luz nesse padrão é dada por:"
   ]
  },
  {
   "cell_type": "markdown",
   "id": "a03cf299-cdcd-4f5c-84cd-1d48f6fb6d72",
   "metadata": {},
   "source": [
    "$$\\tag{1.1}\n",
    "I(r)=\\left[\\frac{J_1(kr)}{kr}\\right]^{2}\\text{ },\n",
    "$$"
   ]
  },
  {
   "cell_type": "markdown",
   "id": "28a7fa78-b845-4d4d-a276-8fe0c78618da",
   "metadata": {},
   "source": [
    "onde $r$ é a distância no plano focal do centro do padrão de difração, $k=2\\pi/\\lambda$, e $J_1(x)$ é a função de Bessel. As funções de Besse $J_m(x)$ são dadas por:"
   ]
  },
  {
   "cell_type": "markdown",
   "id": "5e1f88d1-f3e5-4e24-afa3-35b10be110eb",
   "metadata": {},
   "source": [
    "$$\\tag{1.2}\n",
    "J_m(x)=\\frac{1}{\\pi}\\int_{0}^{\\pi}\\cos{(m\\theta-x\\sin{\\theta})}\\text{d}\\theta\\text{ },\n",
    "$$"
   ]
  },
  {
   "cell_type": "markdown",
   "id": "a7a2a06b-5333-4645-93de-65797748ab25",
   "metadata": {},
   "source": [
    "onde $m$ é um inteiro não negativo e $x\\geq0$."
   ]
  },
  {
   "cell_type": "markdown",
   "id": "b3a09507-4d81-4a30-aa30-5f9bca5a7b93",
   "metadata": {},
   "source": [
    "**a)** Escreva uma função `J(m,x)` que calcula o valor de $J_m(x)$ usando a regra de Simpson com $N=1000$ pontos. Utilize sua função para fazer um gráfico das funções de Bessel $J_0$, $J_1$ e $J_2$ em função de $x$, de $x=0$ até $x=20$. Coloque todas as curvas em um mesmo gráficos."
   ]
  },
  {
   "cell_type": "code",
   "execution_count": 1,
   "id": "12f6b5cb-02a6-4c1c-bb52-e6536cb822a8",
   "metadata": {},
   "outputs": [],
   "source": [
    "# SEU CÓDIGO AQUI"
   ]
  },
  {
   "cell_type": "markdown",
   "id": "bd3b488b-132a-4ffb-981d-6f40f6d55fe7",
   "metadata": {},
   "source": [
    "**b)** Escreva um segundo prgrama que faça um gráfico de densidade do padrão de difração circular de uma fonte de luz com $\\lambda=500\\text{ nm}$, em uma região quadrada no plano focal usando as fórmulas acima. Sua figura deve cobrir os valores $r$ de $0$ até $1\\text{ }\\mu\\text{m}$."
   ]
  },
  {
   "cell_type": "code",
   "execution_count": 2,
   "id": "fa9a9879-f462-4292-8898-18f880784782",
   "metadata": {},
   "outputs": [],
   "source": [
    "# SEU CÓDIGO AQUI"
   ]
  },
  {
   "cell_type": "markdown",
   "id": "f6f7a0e8-0e4c-4d85-b7b0-2decb8bc5c89",
   "metadata": {},
   "source": [
    "Uma outra forma de escrever o padrão de difração circular é a partir da seguinte substituição de variáveis:"
   ]
  },
  {
   "cell_type": "markdown",
   "id": "308b9647-d387-4265-abdd-105bdaeabcdd",
   "metadata": {},
   "source": [
    "$$\\tag{1.3}\n",
    "I(\\theta)=I_0\\left[\\frac{2J_1(x)}{x}\\right]^{2}\\quad,\\quad x=kr\\sin{\\theta}\\text{ }.\n",
    "$$"
   ]
  },
  {
   "cell_type": "markdown",
   "id": "c767b6dd-3d52-4907-8fda-5469edb06f84",
   "metadata": {},
   "source": [
    "**c)** Plote o padrão de Airy como $I(x)/I_0$ para $10\\geq x\\leq10$ e deduza da posição do primeiro mínimo nesta função o poder de resolução máximo (em arcsec) do olho humano em um comprimento de onda de $500\\text{ nm}$. Assuma que o diâmetro médio da pupila é de $3\\text{ mm}$."
   ]
  },
  {
   "cell_type": "code",
   "execution_count": 3,
   "id": "ed5927c7-ec15-4197-9895-8c7c315e163c",
   "metadata": {},
   "outputs": [],
   "source": [
    "# SEU CÓDIGO AQUI"
   ]
  },
  {
   "cell_type": "markdown",
   "id": "155c4063-e41b-402e-a8cd-e73a144488df",
   "metadata": {},
   "source": [
    "---"
   ]
  },
  {
   "cell_type": "markdown",
   "id": "aa1edc56-1944-4380-8f94-59f3f0b7907b",
   "metadata": {},
   "source": [
    "### Problema 2: Modelo de Brusselator"
   ]
  },
  {
   "cell_type": "markdown",
   "id": "def7491a-9e74-430f-a5f1-408b06d090b8",
   "metadata": {},
   "source": [
    "O *Brusselator* é um modelo teórico para uma reação autocatalítica. Ele assume a seguinte sequência de reações, na qual as espécies A e B são consideradas em excesso\r\n",
    "com concentração constante e as espécies D e E são removidas à medida que são produzidas. As concentrações das espécies X e Y podem apresentar comportamento oscilatório sob determinadas condições."
   ]
  },
  {
   "cell_type": "markdown",
   "id": "b968fb2b-5d65-4c35-9bcc-f5c8d342a9ec",
   "metadata": {},
   "source": [
    "$$\\tag{2.1}\n",
    "\\begin{align*}\n",
    "A\\rightarrow X           &  \\qquad k_1\\text{ }, \\\\\n",
    "2X+Y\\rightarrow 3X         &  \\qquad k_2\\text{ }, \\\\\n",
    "B+X\\rightarrow Y+D   &  \\qquad k_3\\text{ }, \\\\  \n",
    "X\\rightarrow E & \\qquad k_4\\text{ }.\n",
    "\\end{align*}\n",
    "$$"
   ]
  },
  {
   "cell_type": "markdown",
   "id": "d4b678b0-546a-426e-a828-4436e30c3a25",
   "metadata": {},
   "source": [
    "É conveninente introduzir as seguintes quantidades de escala:"
   ]
  },
  {
   "cell_type": "markdown",
   "id": "5d340a58-4856-46de-90a1-0a02c8867d66",
   "metadata": {},
   "source": [
    "$$\\tag{2.2}\n",
    "\\begin{align*}\n",
    "x=[X]\\sqrt{\\frac{k_2}{k_4}} & \\text{ }, \\qquad y=[Y]\\sqrt{\\frac{k_2}{k_4}}\\text{ }, \\\\\n",
    "a=[A]\\frac{k_1}{k_4}\\sqrt{\\frac{k_2}{k_4}} & \\text{ }, \\qquad b=[B]\\frac{k_3}{k_4}\\text{ },\n",
    "\\end{align*}\n",
    "$$"
   ]
  },
  {
   "cell_type": "markdown",
   "id": "a5dd3536-c663-4f30-b0c6-0ae3a9f09ae2",
   "metadata": {},
   "source": [
    "e dimensionar o tempo pelo fator $k_4$, o que dá origem às equações adimensionais:"
   ]
  },
  {
   "cell_type": "markdown",
   "id": "b500a1e9-ee97-441a-873e-aa24f142b43c",
   "metadata": {},
   "source": [
    "$$\\tag{2.3}\n",
    "\\frac{\\text{d}x}{\\text{d}t}=a-(1+b)x+x^{2}y\\quad ,\\quad \\frac{\\text{d}y}{\\text{d}t}=bx+x^{2}y\\text{ }.\n",
    "$$"
   ]
  },
  {
   "cell_type": "markdown",
   "id": "87ba8447-bd09-4e0d-931a-4f985243f5a6",
   "metadata": {},
   "source": [
    "Mostre como essas equações prevêem que $x$ e $y$ variam para:\n",
    "\n",
    "- **a)** $a = 1$, $b = 1.8$;\n",
    "- **b)** $a = 1$, $b = 2.02$."
   ]
  },
  {
   "cell_type": "code",
   "execution_count": 4,
   "id": "56fc67f2-fcb9-4049-89f9-766129c860fd",
   "metadata": {},
   "outputs": [],
   "source": [
    "# SEU CÓDIGO AQUI"
   ]
  },
  {
   "cell_type": "markdown",
   "id": "4fb7e133-d0ba-4b8f-85f8-ac10c53207ab",
   "metadata": {},
   "source": [
    "Além disso, plote para cada caso:\n",
    "- **i)** $x$, $y$ como funções do tempo (adimensional);\n",
    "- **ii)** $y$ em função de $x$."
   ]
  },
  {
   "cell_type": "code",
   "execution_count": 5,
   "id": "f76fc62b-63d5-48c3-8fb5-726eb8500f54",
   "metadata": {},
   "outputs": [],
   "source": [
    "# SEU CÓDIGO AQUI"
   ]
  },
  {
   "cell_type": "markdown",
   "id": "7d279857-28f8-4ae1-b187-6699bed2f7b0",
   "metadata": {},
   "source": [
    "---"
   ]
  },
  {
   "cell_type": "markdown",
   "id": "0d2c25aa-98fe-4618-a222-3cca992daa0a",
   "metadata": {},
   "source": [
    "### Problema 3: A queda de Hyperion"
   ]
  },
  {
   "cell_type": "markdown",
   "id": "388dccc1-f59d-41b9-995f-a107dafc7bda",
   "metadata": {},
   "source": [
    "Hyperion é uma lua de Saturno de formato irregular, notável por sua rotação caótica. Seu movimento pode ser modelado como segue."
   ]
  },
  {
   "cell_type": "markdown",
   "id": "d47e419e-3fec-47e2-b16c-241d97148a63",
   "metadata": {},
   "source": [
    "A órbita de Hyperion (H) em torno de Saturno (S) é uma elipse com semi-eixo maior $a$ e excentricidade $e$. Seja P o seu ponto de maior aproximação (*periapsis*). A sua distância ao planeta, SH, em função da sua *anomalia verdadeira* (ângulo orbital, $\\phi$, medido a partir da linha SP) é portanto"
   ]
  },
  {
   "cell_type": "markdown",
   "id": "661ec3e0-a1fc-4299-a73f-264fc84d30cf",
   "metadata": {},
   "source": [
    "$$\\tag{3.1}\n",
    "r=\\frac{a(1-e^{2})}{1+e\\cos(\\phi)}\\text{ }.\n",
    "$$"
   ]
  },
  {
   "cell_type": "markdown",
   "id": "7f86358a-6c7b-45be-9f58-105514b6962d",
   "metadata": {},
   "source": [
    "Defina o ângulo $\\theta$ como aquele entre o eixo do menor momento principal de inércia (vagamente, o eixo mais longo da lua) e SP, e a quantidade $\\Omega$ como uma taxa de mudança em escala de $\\theta$ com $\\phi$ (ou seja, a taxa em qual Hyperion gira enquanto orbita Saturno) da seguinte forma:"
   ]
  },
  {
   "cell_type": "markdown",
   "id": "7bf4c332-aa35-4404-8240-716f2a271fe9",
   "metadata": {},
   "source": [
    "$$\\tag{3.2}\n",
    "\\Omega=\\frac{a^{2}}{r^{2}}\\frac{\\text{d}\\theta}{\\text{d}\\phi}\\text{ }.\n",
    "$$"
   ]
  },
  {
   "cell_type": "markdown",
   "id": "0d058d65-e1a4-4a10-a511-c83bf40c2a61",
   "metadata": {},
   "source": [
    "![Hyperion](img/img1_Scipy.png)"
   ]
  },
  {
   "cell_type": "markdown",
   "id": "ae08b831-f57d-4dbf-b6b3-910f3c1b6bfc",
   "metadata": {},
   "source": [
    "Podemos mostrar que:"
   ]
  },
  {
   "cell_type": "markdown",
   "id": "66c7ba31-3f3d-4cb4-9ece-d7ade5d5cba0",
   "metadata": {},
   "source": [
    "$$\\tag{3.3}\n",
    "\\frac{\\text{d}\\Omega}{\\text{d}\\phi}=-\\frac{B-A}{C}\\frac{3}{2(1-e^{2})}\\frac{a}{r}\\sin{[2(\\theta-\\phi)]}\\text{ },\n",
    "$$"
   ]
  },
  {
   "cell_type": "markdown",
   "id": "f9413ece-e3e0-4850-bfca-2cc04bfd5518",
   "metadata": {},
   "source": [
    "onde $A$, $B$ e $C$ são os momentos de inércia principais."
   ]
  },
  {
   "cell_type": "markdown",
   "id": "622d52be-7fa9-4a22-b0b0-4e691653aab3",
   "metadata": {},
   "source": [
    "Use `scipy.integrate.solve_ivp` para encontrar e traçar a taxa de rotação, $\\Omega$, como uma função de $\\phi$ para as condições iniciais:"
   ]
  },
  {
   "cell_type": "markdown",
   "id": "ff5e1611-7794-4b20-9558-31253e1d4244",
   "metadata": {},
   "source": [
    "- **a)** $\\theta=\\Omega=0$ em $\\phi=0$;\n",
    "- **b)** $\\theta=0$, $\\Omega=2$ em $\\phi=0$. "
   ]
  },
  {
   "cell_type": "markdown",
   "id": "6ab59d74-96b8-44c7-9061-1219cb0c3e9b",
   "metadata": {},
   "source": [
    "Considere $e=0.1$ e $(B−A)/C=0.265$."
   ]
  },
  {
   "cell_type": "code",
   "execution_count": 6,
   "id": "d66f7c2c-752b-4e42-9fdf-853a0747f88d",
   "metadata": {},
   "outputs": [],
   "source": [
    "# SEU CÓDIGO AQUI"
   ]
  },
  {
   "cell_type": "markdown",
   "id": "82bffad9-28a3-4ce1-9104-a06c4f30c73d",
   "metadata": {},
   "source": [
    "---"
   ]
  },
  {
   "cell_type": "markdown",
   "id": "a214dc00-1e60-49fc-bc82-9dda018da1b6",
   "metadata": {},
   "source": [
    "### Problema 4: Cadeia de decaimento radioativo"
   ]
  },
  {
   "cell_type": "markdown",
   "id": "2f64179d-b1f0-40e8-ba10-b3ed83fce465",
   "metadata": {},
   "source": [
    "A cadeia de decaimento radioativo de $^{212}\\text{Pb}$ para o isótopo estável $^{208}\\text{Pb}$ pode ser considerada como a seguinte sequência de etapas com as constantes de taxa dadas, $k_i$:"
   ]
  },
  {
   "cell_type": "markdown",
   "id": "9254365b-6355-43a8-a643-bebaddad26ea",
   "metadata": {},
   "source": [
    "$$\\tag{4.1}\n",
    "\\begin{align*}\n",
    "^{212}\\text{Pb}\\rightarrow ^{212}\\text{Bi}+\\beta^{-}          \\qquad &  \\qquad k_1=1.816\\times10^{-5}\\text{ s}^{-1}\\text{ }, \\\\\n",
    "^{212}\\text{Bi}\\rightarrow ^{208}\\text{Tl}+\\alpha        \\qquad &  \\qquad k_2=6.931\\times10^{-5}\\text{ s}^{-1}\\text{ }, \\\\\n",
    "^{212}\\text{Bi}\\rightarrow ^{212}\\text{Po}+\\beta^{-}  \\qquad &  \\qquad k_3=1.232\\times10^{-4}\\text{ s}^{-1}\\text{ }, \\\\  \n",
    "^{208}\\text{Tl}\\rightarrow ^{208}\\text{Pb}+\\beta^{-} \\qquad & \\qquad k_4=3.851\\times10^{-3}\\text{ s}^{-1}\\text{ }, \\\\\n",
    "^{212}\\text{Po}\\rightarrow ^{208}\\text{Pb}+\\alpha \\qquad & \\qquad k_5=2.310\\text{ s}^{-1}\\text{ }.\n",
    "\\end{align*}\n",
    "$$"
   ]
  },
  {
   "cell_type": "markdown",
   "id": "7f6f506a-8aaa-4344-986c-7d1757b15366",
   "metadata": {},
   "source": [
    "Considerando as seguintes equações diferenciais de primeira ordem que fornecem as taxas de mudança para cada espécie, represente graficamente suas concentrações em função do tempo:"
   ]
  },
  {
   "cell_type": "markdown",
   "id": "d6c81338-f9b8-4550-886e-599ae2bf5d43",
   "metadata": {},
   "source": [
    "$$\\tag{4.2}\n",
    "\\begin{align*}\n",
    "\\frac{\\text{d}}{\\text{d}t}\\left[^{212}\\text{Pb}\\right] & = -k_1\\left[^{212}\\text{Pb}\\right] & \\qquad \\text{ }, \\\\\n",
    "\\frac{\\text{d}}{\\text{d}t}\\left[^{212}\\text{Bi}\\right] & = k_1\\left[^{212}\\text{Pb}\\right]-k_2\\left[^{212}\\text{Bi}\\right]-k_3\\left[^{212}\\text{Bi}\\right] &  \\qquad \\text{ }, \\\\\n",
    "\\frac{\\text{d}}{\\text{d}t}\\left[^{208}\\text{Tl}\\right] & = k_2\\left[^{212}\\text{Bi}\\right]-k_4\\left[^{208}\\text{Tl}\\right] &  \\qquad \\text{ }, \\\\  \n",
    "\\frac{\\text{d}}{\\text{d}t}\\left[^{212}\\text{Po}\\right] & = k_3\\left[^{212}\\text{Bi}\\right]-k_5\\left[^{212}\\text{Po}\\right] & \\qquad \\text{ }, \\\\\n",
    "\\frac{\\text{d}}{\\text{d}t}\\left[^{208}\\text{Pb}\\right] & = k_4[^{208}\\text{Tl}]+k_5\\left[^{212}\\text{Po}\\right] & \\qquad \\text{ }.\n",
    "\\end{align*}\n",
    "$$"
   ]
  },
  {
   "cell_type": "markdown",
   "id": "8ed2d8d0-605b-46f4-913e-0a4b825388ce",
   "metadata": {},
   "source": [
    "Se todas as espécies intermediárias, $J$, forem tratadas em “estado estacionário” (ou seja, $\\dot{\\left[J\\right]}=0$), a expressão aproximada para a concentração de $^{208}\\text{Pb}$ em função do tempo é"
   ]
  },
  {
   "cell_type": "markdown",
   "id": "1215d99e-c832-431f-9269-a8c1841adfb0",
   "metadata": {},
   "source": [
    "$$\\tag{4.3}\n",
    "\\left[^{208}\\text{Pb}\\right]=\\left[^{212}\\text{Pb}\\right]_{0}\\left(1-e^{-k_1t}\\right)\\text{ }.\n",
    "$$"
   ]
  },
  {
   "cell_type": "markdown",
   "id": "0ace1d25-77f7-4836-bacb-cce384b4d1e4",
   "metadata": {},
   "source": [
    "Compare o resultado “exato” obtido pela integração numérica das equações diferenciais com esta resposta aproximada."
   ]
  },
  {
   "cell_type": "code",
   "execution_count": 7,
   "id": "bb7216bd-0ca4-4d92-8043-c4d21deef93c",
   "metadata": {},
   "outputs": [],
   "source": [
    "# SEU CÓDIGO AQUI"
   ]
  },
  {
   "cell_type": "markdown",
   "id": "f637e7c4-827a-4262-9fce-cc725793c131",
   "metadata": {},
   "source": [
    "---"
   ]
  },
  {
   "cell_type": "markdown",
   "id": "aafe495b-7e71-4751-be91-df0ff9c56168",
   "metadata": {},
   "source": [
    "### Problema 5: A evolução de uma chama de fósforo"
   ]
  },
  {
   "cell_type": "markdown",
   "id": "b9ccd356-b603-4d54-b921-ed7c7adaec5a",
   "metadata": {},
   "source": [
    "Um modelo simples da evolução de uma chama de fósforo considera que o raio da chama, $y$, varia com o tempo conforme"
   ]
  },
  {
   "cell_type": "markdown",
   "id": "dacfa9cd-f8aa-4a0d-817c-957ff118ec1f",
   "metadata": {},
   "source": [
    "$$\\tag{5.1}\n",
    "\\frac{\\text{d}y}{\\text{d}t}=\\alpha y^{2}-\\beta y^{3}\\text{ },\n",
    "$$"
   ]
  },
  {
   "cell_type": "markdown",
   "id": "0f6dfd3c-6f07-42fc-b9f4-bddb49976407",
   "metadata": {},
   "source": [
    "onde $\\alpha$ e $\\beta$ são algumas constantes relativas ao transporte de oxigênio através da superfície da chama e à taxa de seu consumo dentro dela. A chama é inicialmente pequena, $y\\left(0\\right)\\gg \\alpha/\\beta$, mas em algum ponto cresce rapidamente até atingir um estado estacionário de raio constante (assumindo um suprimento ilimitado de combustível)."
   ]
  },
  {
   "cell_type": "markdown",
   "id": "0d1b263d-dc62-441c-8520-48242ec7b616",
   "metadata": {},
   "source": [
    "Tomando $\\alpha=\\beta=1$, resolva esta EDO numericamente usando `scipy.integrate.solve_ivp` usando um método de integração adequado ao longo de um intervalo de tempo $\\left(0, 5/y(0)\\right)$ para:"
   ]
  },
  {
   "cell_type": "markdown",
   "id": "acb782e8-c9ca-49c9-86d6-8ebddfe576ad",
   "metadata": {},
   "source": [
    "- **a)** $y\\left(0\\right)=0.01$;\n",
    "- **b)** $y\\left(0\\right)=0.0001$. "
   ]
  },
  {
   "cell_type": "code",
   "execution_count": 8,
   "id": "810b657d-b825-4620-bea7-e3cfda763967",
   "metadata": {},
   "outputs": [],
   "source": [
    "# SEU CÓDIGO AQUI"
   ]
  },
  {
   "cell_type": "markdown",
   "id": "2433ba44-b465-4c09-8cd4-e238dcfae160",
   "metadata": {},
   "source": [
    "**c)** Quantos passos de tempo devem ser dados em cada caso?"
   ]
  },
  {
   "cell_type": "code",
   "execution_count": 9,
   "id": "99c0289d-5379-4eb4-bc85-59c02c5fb9f5",
   "metadata": {},
   "outputs": [],
   "source": [
    "# SEU CÓDIGO AQUI"
   ]
  },
  {
   "cell_type": "markdown",
   "id": "f3d87fab-b3b5-4f0c-9eaf-0f591b244981",
   "metadata": {},
   "source": [
    "A solução exata deve ser escrita na forma:"
   ]
  },
  {
   "cell_type": "markdown",
   "id": "c7f30236-475f-40e0-a1db-fcd265bfe71f",
   "metadata": {},
   "source": [
    "$$\\tag{5.2}\n",
    "y\\left(t\\right)=\\frac{\\alpha}{\\beta\\left[1+W\\left(ae^{a-\\alpha^{2}t/\\beta}\\right)\\right]}\\text{ },\n",
    "$$"
   ]
  },
  {
   "cell_type": "markdown",
   "id": "0c6acf36-e8d3-4316-99e9-d7454707c018",
   "metadata": {},
   "source": [
    "onde $a=\\alpha/\\left(\\beta y\\left(0\\right)\\right)$ e $W(x)$ é a função Lambert $W$, implementada no SciPy como `scipy.special.lambertw`. "
   ]
  },
  {
   "cell_type": "markdown",
   "id": "80627889-1b4c-46fc-b306-06961870cb42",
   "metadata": {},
   "source": [
    "**d)** Compare a precisão das várias soluções numéricas com esta expressão."
   ]
  },
  {
   "cell_type": "code",
   "execution_count": 10,
   "id": "4113a2ea-3ce4-42b2-8b97-e14588e61fbf",
   "metadata": {},
   "outputs": [],
   "source": [
    "# SEU CÓDIGO AQUI"
   ]
  },
  {
   "cell_type": "markdown",
   "id": "a495ea32-4172-480d-b617-4d8e2a088bf5",
   "metadata": {},
   "source": [
    "---"
   ]
  },
  {
   "cell_type": "markdown",
   "id": "36b3a679-5cf1-4a87-9b00-d7e4273211d4",
   "metadata": {},
   "source": [
    "### $\\star$ Desafio: Princípio variacional e a partícula em uma caixa"
   ]
  },
  {
   "cell_type": "markdown",
   "id": "c34ee1a3-28b7-47e8-9f38-06c687c7e846",
   "metadata": {},
   "source": [
    "Considere uma partícula unidimensional da mecânica quântica em uma caixa $\\left(−1\\geq x\\geq 1\\right)$ descrita pela equação de Schrödinger:"
   ]
  },
  {
   "cell_type": "markdown",
   "id": "0a528487-62dc-42b1-a4d0-49d6e75fda10",
   "metadata": {},
   "source": [
    "$$\\tag{*.1}\n",
    "-\\frac{\\text{d}^{2}\\psi}{\\text{d}x^{2}}=E\\psi\\text{ },\n",
    "$$"
   ]
  },
  {
   "cell_type": "markdown",
   "id": "87bde909-518c-41ef-9bfb-b690d2783485",
   "metadata": {},
   "source": [
    "em unidades de energia para as quais $\\hbar^{2}/\\left(2m\\right)=1$, sendo $m$ a massa da partícula. A solução exata para o estado fundamental deste sistema é dada por"
   ]
  },
  {
   "cell_type": "markdown",
   "id": "09b239bb-a5b6-4d84-bcb5-83fb9adb532a",
   "metadata": {},
   "source": [
    "$$\\tag{*.2}\n",
    "\\psi=\\cos{\\left(\\frac{\\pi x}{2}\\right)}\\quad,\\quad E=\\frac{\\pi^{2}}{4}\\text{ }.\n",
    "$$"
   ]
  },
  {
   "cell_type": "markdown",
   "id": "f74d585e-4c69-4b7f-8f02-1d1a2bf6c179",
   "metadata": {},
   "source": [
    "Uma solução aproximada pode ser alcançada usando o *princípio variacional*, minimizando o valor esperado da energia de uma função de onda experimental:"
   ]
  },
  {
   "cell_type": "markdown",
   "id": "82bbfdee-72bc-473a-8b87-ab9ec87c343b",
   "metadata": {},
   "source": [
    "$$\\tag{*.3}\n",
    "\\psi_{\\text{exp.}}=\\sum_{n=0}^{N}a_n \\phi_n\\left(x\\right)\\text{ },\n",
    "$$"
   ]
  },
  {
   "cell_type": "markdown",
   "id": "9559814b-5935-41d0-99e6-2a1334266482",
   "metadata": {},
   "source": [
    "em relação aos coeficientes $a_n$. Tomando as funções de base como tendo a seguinte forma polinomial simetrizada:"
   ]
  },
  {
   "cell_type": "markdown",
   "id": "ef5c71b8-ce62-4588-876b-e5e7871d4af8",
   "metadata": {},
   "source": [
    "$$\\tag{*.4}\n",
    "\\phi_n=\\left(1-x\\right)^{N-n+1}\\left(1+x\\right)^{n+1}\\text{ }.\n",
    "$$"
   ]
  },
  {
   "cell_type": "markdown",
   "id": "45a8f7dd-fa8c-4df4-b8b3-34f49050ed54",
   "metadata": {},
   "source": [
    "Use `scipy.optimize.minimize` e `scipy.integrate.quad` para encontrar o valor ideal do valor esperado (também conhecido como *proporção de Rayleigh-Ritz*):"
   ]
  },
  {
   "cell_type": "markdown",
   "id": "d7e7e509-5803-4af8-9fe2-ac9e8aa8209e",
   "metadata": {},
   "source": [
    "$$\\tag{*.5}\n",
    "\\mathcal{E}=\\frac{\\langle \\psi_{\\text{exp.}|\\hat{H}|\\psi_{\\text{exp.}}} \\rangle}{\\langle \\psi_{exp.}|\\psi_{\\text{exp.}} \\rangle}=-\\frac{\\int_{-1}^{1}\\psi_{\\text{exp.}}\\frac{\\text{d}}{\\text{d}x^{2}}\\psi_{\\text{exp.}}\\text{d}x}{\\int_{-1}^{1}\\psi_{\\text{exp.}}\\psi_{\\text{exp.}}\\text{d}x}\\text{ }.\n",
    "$$"
   ]
  },
  {
   "cell_type": "markdown",
   "id": "0fa1fb26-027a-4b6d-af68-ba89ebbbcaca",
   "metadata": {},
   "source": [
    "Compare a energia estimada, $\\mathcal{E}$, com a resposta exata para $N=1,2,3,4$."
   ]
  },
  {
   "cell_type": "markdown",
   "id": "19ec9069-f1c8-4560-b563-7f03af90f904",
   "metadata": {},
   "source": [
    "**DICA:** use os objetos `np.polynomial.Polynomial` para representar as funções de onda de base e de teste."
   ]
  },
  {
   "cell_type": "code",
   "execution_count": 11,
   "id": "cb1c7c18-a414-4f12-922d-981da165c36e",
   "metadata": {},
   "outputs": [],
   "source": [
    "# SEU CÓDIGO AQUI"
   ]
  },
  {
   "cell_type": "markdown",
   "id": "6c78a643-01f9-42a7-b3e7-38c10e1dba8c",
   "metadata": {},
   "source": [
    "---"
   ]
  }
 ],
 "metadata": {
  "kernelspec": {
   "display_name": "Python 3 (ipykernel)",
   "language": "python",
   "name": "python3"
  },
  "language_info": {
   "codemirror_mode": {
    "name": "ipython",
    "version": 3
   },
   "file_extension": ".py",
   "mimetype": "text/x-python",
   "name": "python",
   "nbconvert_exporter": "python",
   "pygments_lexer": "ipython3",
   "version": "3.9.8"
  }
 },
 "nbformat": 4,
 "nbformat_minor": 5
}
