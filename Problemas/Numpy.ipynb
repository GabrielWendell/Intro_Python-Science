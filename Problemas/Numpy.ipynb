{
 "cells": [
  {
   "cell_type": "markdown",
   "id": "00c48b7a-3248-469a-9cf0-9af5bede8c08",
   "metadata": {},
   "source": [
    "# Introdução à Programação Científica em Python"
   ]
  },
  {
   "cell_type": "markdown",
   "id": "559d5bc8-1d68-4b8a-82de-498982d93c8c",
   "metadata": {},
   "source": [
    "## Problemas Propostos #03"
   ]
  },
  {
   "cell_type": "markdown",
   "id": "9fe8abb0-8ed8-4c90-959a-ca23dbaaf1f5",
   "metadata": {},
   "source": [
    "- **Aula 3:** *NumPy*."
   ]
  },
  {
   "cell_type": "markdown",
   "id": "ad076d81-3d13-44b7-a944-3acf9743e7fd",
   "metadata": {},
   "source": [
    "---"
   ]
  },
  {
   "cell_type": "markdown",
   "id": "af97b0cb-9fa9-4caa-9b8b-5e696f9d073c",
   "metadata": {},
   "source": [
    "### Problema 1: Análise de uma explosão nuclear"
   ]
  },
  {
   "cell_type": "markdown",
   "id": "8cfcbb5e-c136-4dec-b51c-1a5f2dd9c473",
   "metadata": {},
   "source": [
    "A expansão da bola de fogo esférica gerada em uma explosão pode ser analisada para deduzir a energia inicial, $E$, liberada por uma arma nuclear. O físico britânico Geoffrey Taylor usou análise dimensional para demonstrar que o raio desta esfera, $R(t)$, deveria estar relacionado a $E$, à densidade do ar, $\\rho_{\\text{ar}}$, e ao tempo, $t$, através de"
   ]
  },
  {
   "cell_type": "markdown",
   "id": "3f90cc21-5bf7-44f8-b822-1a8ca74ce414",
   "metadata": {},
   "source": [
    "$$\\tag{1.1}\n",
    "R(t)=CE^{1/5}\\rho_{\\text{ar}}^{-1/5}t^{2/3}\\text{ },\n",
    "$$"
   ]
  },
  {
   "cell_type": "markdown",
   "id": "25035a51-dc67-48b9-b5d0-1536a65bf241",
   "metadata": {},
   "source": [
    "onde, usando problemas de modelo de onda de choque, Taylor estimou a constante adimensional $C\\approx1$. Usando os dados obtidos de imagens temporizadas desclassificadas da primeira explosão atômica do Novo México, Taylor confirmou esta lei e produziu uma estimativa do valor (então desconhecido) de $E$. "
   ]
  },
  {
   "cell_type": "markdown",
   "id": "ae201afd-347d-47a1-a708-ccc603b770e1",
   "metadata": {},
   "source": [
    "**a)** Use uma relação do tipo $\\log-\\log$ para ajustar os dados da tabela abaixo retirada de [G. I. Taylor, (1950) *Proc. Roy. Soc. London* **A201**, 159.](https://ui.adsabs.harvard.edu/abs/1950RSPSA.201..159T/abstract) ao modelo e confirmar a dependência de $R$ no tempo. "
   ]
  },
  {
   "cell_type": "markdown",
   "id": "d44caaa8-9a25-4070-90b9-77b26415619e",
   "metadata": {},
   "source": [
    "| t [ms] | R [m]  | t [ms] | R [m]  | t [ms] | R [m]   |\n",
    "|--------|--------|--------|--------|--------|---------|\n",
    "| $0.1$  | $11.1$ | $1.36$ | $42.8$ | $4.34$ | $65.6$  |\n",
    "| $0.24$ | $19.9$ | $1.50$ | $44.4$ | $4.61$ | $67.3$  |\n",
    "| $0.38$ | $25.3$ | $1.65$ | $46.0$ | $15.0$ | $106.5$ |\n",
    "| $0.52$ | $28.8$ | $1.79$ | $46.9$ | $25.0$ | $130.0$ |\n",
    "| $0.66$ | $31.9$ | $1.93$ | $48.7$ | $34.0$ | $145.0$ |\n",
    "| $0.80$ | $34.2$ | $3.26$ | $59.0$ | $53.0$ | $175.0$ |\n",
    "| $0.94$ | $36.3$ | $3.53$ | $61.1$ | $62.0$ | $185.0$ |\n",
    "| $1.08$ | $38.9$ | $3.80$ | $62.9$ | $-$    | $-$     |\n",
    "| $1.22$ | $41.0$ | $4.07$ | $64.3$ | $-$    | $-$     |"
   ]
  },
  {
   "cell_type": "markdown",
   "id": "fba8706d-5313-4e86-8e82-67ccc66b54db",
   "metadata": {},
   "source": [
    "**Tabela**: Raio da bola de fogo produzida pelo teste nuclear *Trinity* como uma função do tempo. A leitura da tabela se dá da esquerda para a direita. "
   ]
  },
  {
   "cell_type": "code",
   "execution_count": 1,
   "id": "4173e1fd-03a2-4af2-a245-abe68994587d",
   "metadata": {},
   "outputs": [],
   "source": [
    "# SEU CÓDIGO AQUI"
   ]
  },
  {
   "cell_type": "markdown",
   "id": "0214d82b-5512-420b-9b0f-52689049ebb7",
   "metadata": {},
   "source": [
    "**b)** Tomando $\\rho_{\\text{ar}}=1.25\\text{ kg/m}^{3}$, deduza uma expressão para $E$ e expresse o seu valor em Joules e em \"quilotons de TNT\", onde a energia explosiva liberada por $1$ tonelada de TNT (TriNitroToluene) é arbitrariamente definida como sendo $4.184\\times10^{9}\\text{ J}$."
   ]
  },
  {
   "cell_type": "code",
   "execution_count": 2,
   "id": "6d4315b5-05dc-41bc-9b87-35330be2e6bd",
   "metadata": {},
   "outputs": [],
   "source": [
    "# SEU CÓDIGO AQUI"
   ]
  },
  {
   "cell_type": "markdown",
   "id": "155c4063-e41b-402e-a8cd-e73a144488df",
   "metadata": {},
   "source": [
    "---"
   ]
  },
  {
   "cell_type": "markdown",
   "id": "aa1edc56-1944-4380-8f94-59f3f0b7907b",
   "metadata": {},
   "source": [
    "### Problema 2: Equação de estado de van der Waals"
   ]
  },
  {
   "cell_type": "markdown",
   "id": "3e3b2c79-8e92-4a8f-98fa-9e9ce02da3e5",
   "metadata": {},
   "source": [
    "A equação de estado de van der Waals pode ser escrita da seguinte forma para fornecer a pressão, $p$, de um gás a partir de seu volume molar, $V$, e temperatura, $T$:"
   ]
  },
  {
   "cell_type": "markdown",
   "id": "4aaf6998-07b2-4aa4-a2a5-44109f83b2a5",
   "metadata": {},
   "source": [
    "$$\\tag{2.1}\n",
    "p=\\frac{RT}{V-b}-\\frac{a}{V^{2}}\\text{ },\n",
    "$$"
   ]
  },
  {
   "cell_type": "markdown",
   "id": "910bf195-28b5-46e2-85ee-813d2cdda5cc",
   "metadata": {},
   "source": [
    "onde $a$ e $b$ são constantes específicas da molécula e $R=8.314\\text{ J K}^{-1}\\text{ mol}^{-1}$ é a constante do gás. Pode ser facilmente reorganizado para produzir a temperatura para uma dada pressão e volume, mas a sua forma que dá o volume molar em termos de pressão e temperatura é uma equação cúbica:"
   ]
  },
  {
   "cell_type": "markdown",
   "id": "143a8187-1b71-41d6-89e5-869bffb720b6",
   "metadata": {},
   "source": [
    "$$\\tag{2.2}\n",
    "pV^{3}-\\left(pb+RT\\right)V^{2}+aV-ab=0\\text{ }.\n",
    "$$"
   ]
  },
  {
   "cell_type": "markdown",
   "id": "fd575ccb-a5ef-42c4-ab64-aab7ec9d5f54",
   "metadata": {},
   "source": [
    "Das três raízes desta equação, abaixo do *ponto crítico*, $(T_c, p_c)$ todas são reais: a maior e a menor dão o volume molar da fase gasosa e da fase líquida, respectivamente; acima do ponto crítico, onde não existe fase líquida, apenas uma raiz é real e dá o volume molar do gás (também conhecido nesta região como *fluido supercrítico*). O ponto crítico é dado pela condição:"
   ]
  },
  {
   "cell_type": "markdown",
   "id": "df7244e8-b275-4032-ae61-91f0a9b7522f",
   "metadata": {},
   "source": [
    "$$\\tag{2.3}\n",
    "\\left(\\frac{\\partial p}{\\partial V}\\right)\\Bigg|_{T}=\\left(\\frac{\\partial^{2} p}{\\partial V^2}\\right)\\Bigg|_{T}=0\\text{ },\n",
    "$$"
   ]
  },
  {
   "cell_type": "markdown",
   "id": "dd0cc770-92f8-4538-828c-8646efa94a0e",
   "metadata": {},
   "source": [
    "e para um gás de van der Waals é dado pelas fórmulas:"
   ]
  },
  {
   "cell_type": "markdown",
   "id": "1ce84216-a3ec-443b-a6d8-198eabb9fbe6",
   "metadata": {},
   "source": [
    "$$\\tag{2.4}\n",
    "T_c=\\frac{8a}{27Rb}\\quad,\\quad p_c=\\frac{a}{27b^{2}}\\text{ }.\n",
    "$$"
   ]
  },
  {
   "cell_type": "markdown",
   "id": "65ebea13-dc78-495c-9731-87ca13c6702f",
   "metadata": {},
   "source": [
    "Para amônia, as constantes de van der Waals são $a=4.225\\text{ L}^{2}\\text{ bar mol}^{-2}$ e $b=0.03707\\text{ L mol}^{−1}$."
   ]
  },
  {
   "cell_type": "markdown",
   "id": "85c49a84-2025-42b9-be9b-a707f2a2453f",
   "metadata": {},
   "source": [
    "**a)** Encontre o ponto crítico da amônia e, em seguida, determine o volume molar à temperatura e pressão ambientes, $(298\\text{ K}, 1\\text{ atm})$ e a $(500\\text{ K}, 12\\text{ MPa})$."
   ]
  },
  {
   "cell_type": "code",
   "execution_count": 3,
   "id": "cff19ba9-0188-47fb-9526-b3a06b40dad7",
   "metadata": {},
   "outputs": [],
   "source": [
    "# SEU CÓDIGO AQUI"
   ]
  },
  {
   "cell_type": "markdown",
   "id": "97c25d7d-5406-405e-bb96-8b20fd2317d9",
   "metadata": {},
   "source": [
    "**b)** Uma isoterma é o conjunto de pontos $(p, V)$ a uma temperatura constante que satisfaz uma equação de estado. Trace a isoterma ($p$ contra $V$) para amônia a $350\\text{ K}$ usando a equação de estado de van der Waals e compare-a com a isoterma de $350\\text{ K}$ para um gás ideal, que tem a equação de estado, $p=RT/V$."
   ]
  },
  {
   "cell_type": "code",
   "execution_count": 4,
   "id": "f7c2a603-c224-498d-8bab-7244dc5a0979",
   "metadata": {},
   "outputs": [],
   "source": [
    "# SEU CÓDIGO AQUI"
   ]
  },
  {
   "cell_type": "markdown",
   "id": "7d279857-28f8-4ae1-b187-6699bed2f7b0",
   "metadata": {},
   "source": [
    "---"
   ]
  },
  {
   "cell_type": "markdown",
   "id": "0d2c25aa-98fe-4618-a222-3cca992daa0a",
   "metadata": {},
   "source": [
    "### Problema 3: A dependência da resistividade com a temperatura"
   ]
  },
  {
   "cell_type": "markdown",
   "id": "e01f6468-1a85-441b-ac31-a034258a41f2",
   "metadata": {},
   "source": [
    "A resistência de um fio de comprimento $\\ell$ e área de seção transversal $A$ é dada por $R=\\rho\\ell/A$, onde $\\rho$ é a *resistividade* (unidades SI: $\\Omega\\text{m}$). Em faixas de temperatura razoavelmente estreitas, $R$ aumenta linearmente com a temperatura:"
   ]
  },
  {
   "cell_type": "markdown",
   "id": "e890cdba-b4ca-42a4-8d6a-da2082fed339",
   "metadata": {},
   "source": [
    "$$\\tag{3.1}\n",
    "R\\left(T\\right)=R_0\\left[1+\\alpha\\left(T-T_0\\right)\\right]\\text{ },\n",
    "$$"
   ]
  },
  {
   "cell_type": "markdown",
   "id": "5483caa2-73cd-4205-b5c4-235a13701484",
   "metadata": {},
   "source": [
    "onde $\\alpha$ é uma constante. Ajuste uma linha reta aos seguintes conjuntos de dados e determine $\\rho$ para cobre e ferro na temperatura de referência $T_0=300\\text{ K}$. Os dados são medidos para um fio com seção transversal circular com raio de $0.1\\text{ mm}$ e comprimento de $100\\text{ m}$."
   ]
  },
  {
   "cell_type": "markdown",
   "id": "b0aa3c3c-445a-49db-9c64-72d77b42b7e4",
   "metadata": {},
   "source": [
    "| $T\\text{ [K]}$ | $R\\left(\\text{Cu}\\right)\\text{ }[\\Omega]$ | $R\\left(\\text{Fe}\\right)\\text{ }[\\Omega]$ |\r\n",
    "|----------------|-------------------------------------------|-------------------------------------------|\r\n",
    "| $220.0$        | $0.33$                                    | $1.89$                                    |\r\n",
    "| $250.0$        | $0.51$                                    | $2.31$                                    |\r\n",
    "| $280.0$        | $0.59$                                    | $2.77$                                    |\r\n",
    "| $310.0$        | $0.44$                                    | $3.25$                                    |\r\n",
    "| $340.0$        | $0.64$                                    | $3.71$                                    |\r\n",
    "| $370.0$        | $0.70$                                    | $4.25$                                    |\r\n",
    "| $400.0$        | $0.73$                                    | $4.66$                                    |"
   ]
  },
  {
   "cell_type": "code",
   "execution_count": 1,
   "id": "86a12a1d-0c1b-4671-9047-3a2728aa4305",
   "metadata": {},
   "outputs": [],
   "source": [
    "# SEU CÓDIGO AQUI"
   ]
  },
  {
   "cell_type": "markdown",
   "id": "82bffad9-28a3-4ce1-9104-a06c4f30c73d",
   "metadata": {},
   "source": [
    "---"
   ]
  },
  {
   "cell_type": "markdown",
   "id": "a214dc00-1e60-49fc-bc82-9dda018da1b6",
   "metadata": {},
   "source": [
    "### Problema 4: Tensor momento de inércia"
   ]
  },
  {
   "cell_type": "markdown",
   "id": "f7be278d-82a5-4a63-b3b1-263f688800f0",
   "metadata": {},
   "source": [
    "A matriz simétrica que representa o tensor de inércia de uma coleção de massas, $m_i$, com posições $(x_i, y_i,z_i)$ em relação ao seu centro de massas é:"
   ]
  },
  {
   "cell_type": "markdown",
   "id": "268f4410-1c5a-4e92-ad3d-681a6bc51c36",
   "metadata": {},
   "source": [
    "$$\\tag{4.1}\n",
    "\\boldsymbol{I}=\n",
    "\\begin{pmatrix}\n",
    "I_{xx} & I_{xy} & I_{xz} \\\\\n",
    "I_{xy} & I_{yy} & I_{yz} \\\\\n",
    "I_{xz} & I_{yz} & I_{zz} \n",
    "\\end{pmatrix} \n",
    "\\text{ },\n",
    "$$"
   ]
  },
  {
   "cell_type": "markdown",
   "id": "3735ebf3-72a9-4aae-8582-fbc3993ce0b5",
   "metadata": {},
   "source": [
    "onde:"
   ]
  },
  {
   "cell_type": "markdown",
   "id": "c328cee8-5e6a-466b-8c0e-1f8c0a839898",
   "metadata": {},
   "source": [
    "$$\\tag{4.2}\n",
    "I_{xx}=\\sum_{i} m_i\\left(y_{i}^{2}+z_{i}^{2}\\right)\\text{ },\\qquad I_{yy}=\\sum_{i} m_i\\left(x_{i}^{2}+z_{i}^{2}\\right)\\text{ },\\qquad I_{zz}=\\sum_{i} m_i\\left(x_{i}^{2}+y_{i}^{2}\\right)\\text{ },\n",
    "$$"
   ]
  },
  {
   "cell_type": "markdown",
   "id": "f0fe00a1-a2c4-4041-97fc-b8825836b099",
   "metadata": {},
   "source": [
    "$$\\tag{4.3}\n",
    "I_{xy}=-\\sum_{i} m_{i}x_{i}y_{i}\\text{ },\\qquad I_{yz}=-\\sum_{i} m_{i}y_{i}z_{i}\\text{ },\\qquad I_{xz}=-\\sum_{i} m_{i}x_{i}z_{i}\\text{ }.\n",
    "$$"
   ]
  },
  {
   "cell_type": "markdown",
   "id": "cb9055f4-61fa-4beb-9f8f-2d8a3f239f69",
   "metadata": {},
   "source": [
    "Existe uma transformação do referencial de coordenadas tal que esta matriz é diagonal: os eixos deste referencial transformado são chamados de eixos principais e os elementos diagonais da matriz de inércia, $I_a\\geq I_b\\geq I_c$ são os *principais momentos de inércia*."
   ]
  },
  {
   "cell_type": "markdown",
   "id": "3ae57aae-3cf8-42cf-a2d9-6148764d0ce0",
   "metadata": {},
   "source": [
    "Uma molécula pode ser classificada da seguinte forma, de acordo com os valores relativos de $I_a$, $I_b$ e $I_c$:"
   ]
  },
  {
   "cell_type": "markdown",
   "id": "751a0381-edbf-4414-8036-19e56e244b9f",
   "metadata": {},
   "source": [
    "- $I_a=I_b=I_c$: topo esférico;\n",
    "- $I_a=I_b<I_c$: topo simétrico achatado;\n",
    "- $I_a<I_b=I_c$: topo simétrico prolato;\n",
    "- $I_a<I_b<-Ic$: topo assimétrico."
   ]
  },
  {
   "cell_type": "markdown",
   "id": "92946f9f-0ad6-4063-861f-0e5dbc1ca37f",
   "metadata": {},
   "source": [
    "**a)** Escreva um programa para calcular os principais momentos de inércia de uma molécula, dadas a posição e as massas de seus átomos em relação a alguma origem arbitrária. Seu programa deve primeiro realocar as coordenadas do átomo em relação ao seu centro de massa e então determinar os principais momentos de inércia como os autovalores da matriz $\\boldsymbol{I}$."
   ]
  },
  {
   "cell_type": "code",
   "execution_count": 2,
   "id": "d0f28f70-1ea4-47d0-88ca-201631e8f1e3",
   "metadata": {},
   "outputs": [],
   "source": [
    "# SEU CÓDIGO AQUI"
   ]
  },
  {
   "cell_type": "markdown",
   "id": "2f64179d-b1f0-40e8-ba10-b3ed83fce465",
   "metadata": {},
   "source": [
    "**b)** Determine os principais momentos de inércia e classifique as moléculas $\\text{NH}_3$, $\\text{CH}_4$, $\\text{CH}_3\\text{Cl}$ e $\\text{O}_3$ a partir dos dados disponíveis no arquivo [`molecular-data.zip`](https://scipython.com/static/media/problems/P6.5/molecule-data.zip). "
   ]
  },
  {
   "cell_type": "code",
   "execution_count": 3,
   "id": "c33fe5c9-2e36-4833-9e45-86bd06e6e93a",
   "metadata": {},
   "outputs": [],
   "source": [
    "# SEU CÓDIGO AQUI"
   ]
  },
  {
   "cell_type": "markdown",
   "id": "add4fb86-f4af-41fc-8d00-cd1bdd02c799",
   "metadata": {},
   "source": [
    "**c)** Determine as *constantes rotacionais*, $A$, $B$ e $C$, relacionadas aos momentos de inércia (geralmente expressas em $\\text{cm}^{−1}$) através de:"
   ]
  },
  {
   "cell_type": "markdown",
   "id": "6cf10e90-e3d2-4762-9c52-0795898e55f2",
   "metadata": {},
   "source": [
    "$$\\tag{4.4}\n",
    "Q=\\frac{h}{8\\pi^{2}cI_q}\\quad:\\quad \n",
    "\\begin{cases}\n",
    "Q=A,B,C\\text{ }; \\\\\n",
    "q=a,b,c\\text{ }.\n",
    "\\end{cases}\n",
    "$$"
   ]
  },
  {
   "cell_type": "code",
   "execution_count": 4,
   "id": "ddfa1679-1d37-4e84-a93f-78233b895666",
   "metadata": {},
   "outputs": [],
   "source": [
    "# SEU CÓDIGO AQUI"
   ]
  },
  {
   "cell_type": "markdown",
   "id": "f637e7c4-827a-4262-9fce-cc725793c131",
   "metadata": {},
   "source": [
    "---"
   ]
  },
  {
   "cell_type": "markdown",
   "id": "aafe495b-7e71-4751-be91-df0ff9c56168",
   "metadata": {},
   "source": [
    "### Problema 5: O fenômeno de Gibbs"
   ]
  },
  {
   "cell_type": "markdown",
   "id": "b9ccd356-b603-4d54-b921-ed7c7adaec5a",
   "metadata": {},
   "source": [
    "O *fenômeno de Gibbs* é o nome dado às oscilações observadas na série de Fourier de uma função periódica próxima a uma descontinuidade escalonada. Por exemplo, a onda quadrada definida por $f(x)=1$ para $0<x<1$ e $f(x)=−1$ para $1<x<2$ (e repetindo fora do intervalo $(0,2)$ tem a expansão da série de Fourier:"
   ]
  },
  {
   "cell_type": "markdown",
   "id": "d930eb8e-ad49-43f0-b493-f55eeb60cd43",
   "metadata": {},
   "source": [
    "$$\\tag{5.1}\n",
    "f(x) = \\frac{4}{\\pi}\\sum_{n=1,3,5,\\cdots} \\frac{1}{n}\\sin(n\\pi x)\\text{ }\n",
    "$$"
   ]
  },
  {
   "cell_type": "markdown",
   "id": "44d4ca90-1239-42ee-b5d0-6d6ed0489660",
   "metadata": {},
   "source": [
    "**a)** Calcule $f(x)$ e a expansão em série de Fourier truncada em $20$ termos para $0\\leq x\\leq4$."
   ]
  },
  {
   "cell_type": "code",
   "execution_count": 5,
   "id": "9361b8cc-912a-4b7a-8966-2e0c10a095ae",
   "metadata": {},
   "outputs": [],
   "source": [
    "# SEU CÓDIGO AQUI"
   ]
  },
  {
   "cell_type": "markdown",
   "id": "8d2a2745-a70e-466c-bc2a-02db3083ff3b",
   "metadata": {},
   "source": [
    "**b)** (*Opcional*) Faça um gráfico da expansão em série de Fourier realizada no item **a)** e em seguida faça um zoom em uma região que exiba o fenômeno de Gibbs."
   ]
  },
  {
   "cell_type": "code",
   "execution_count": 6,
   "id": "79fc1144-375e-4015-bc2f-6cf63b54c212",
   "metadata": {},
   "outputs": [],
   "source": [
    "# SEU CÓDIGO AQUI"
   ]
  },
  {
   "cell_type": "markdown",
   "id": "a495ea32-4172-480d-b617-4d8e2a088bf5",
   "metadata": {},
   "source": [
    "---"
   ]
  },
  {
   "cell_type": "markdown",
   "id": "36b3a679-5cf1-4a87-9b00-d7e4273211d4",
   "metadata": {},
   "source": [
    "### $\\star$ Desafio: Medindo o coeficiente de restituição"
   ]
  },
  {
   "cell_type": "markdown",
   "id": "8b1a66a8-362a-484a-b94f-bc0f28091f86",
   "metadata": {},
   "source": [
    "O coeficiente de restituição, $C_R$, de uma bola lançada verticalmente sobre uma superfície é a razão entre a velocidade da bola pouco antes de atingir a superfície e sua velocidade imediatamente após ela ricochetear nela. Se a bola for largada de uma altura $h_0$ acima da superfície, é fácil mostrar que ela estará viajando com velocidade $v_0=\\sqrt{2h/h_0}$ quando atingir; sua velocidade ao saltar de volta será $v_1=C_Rv_0$."
   ]
  },
  {
   "cell_type": "markdown",
   "id": "315676c1-1d14-43ff-9350-35125baa420b",
   "metadata": {},
   "source": [
    "De forma mais geral, a velocidade ascendente da bola após o $n$-ésimo salto é:"
   ]
  },
  {
   "cell_type": "markdown",
   "id": "3b74f203-fb48-44ff-acce-ff5e0fbef0d5",
   "metadata": {},
   "source": [
    "$$\\tag{*.1}\n",
    "v_{n+1}=v_n C_{R}^{n}\\text{ }.\n",
    "$$"
   ]
  },
  {
   "cell_type": "markdown",
   "id": "f64c119d-fc03-4523-869c-c9dcd3ad9f38",
   "metadata": {},
   "source": [
    "Um experimento para medir $C_R$, assumindo que seja independente da velocidade da bola, pode ser conduzido da seguinte forma. Solte a bola de uma altura $h_0$ no instante $t=0$ e registre o som da bola atingindo a superfície após vários quiques. O tempo entre os eventos de rejeição é então:"
   ]
  },
  {
   "cell_type": "markdown",
   "id": "05cf4f52-60a6-4ddf-9918-f9fa51fa2dd5",
   "metadata": {},
   "source": [
    "$$\\tag{*.2}\n",
    "T_n=T_0 C_R^n\\text{ },\n",
    "$$"
   ]
  },
  {
   "cell_type": "markdown",
   "id": "699f51cf-494a-4c27-af77-10cd909e0b6b",
   "metadata": {},
   "source": [
    "onde $T_0=2v_0/g$, Então:"
   ]
  },
  {
   "cell_type": "markdown",
   "id": "cc21ca8e-290f-40d7-b080-30ae762f34a4",
   "metadata": {},
   "source": [
    "$$\\tag{*.3}\n",
    "\\ln{(T_n)}=n\\ln{(C_R)}+\\ln{(T_0)}\\text{ },\n",
    "$$"
   ]
  },
  {
   "cell_type": "markdown",
   "id": "44ae46a7-42b7-411b-8d97-e95fc31433c5",
   "metadata": {},
   "source": [
    "e, portanto, um gráfico de $\\ln{(T_n)}$ contra $n$ deve ser uma linha reta com gradiente $\\ln{(C_R)}$."
   ]
  },
  {
   "cell_type": "markdown",
   "id": "9a17578a-f9fa-4989-8ef4-c19d5174cf81",
   "metadata": {},
   "source": [
    "O arquivo de dados [`bounce-data.txt`](https://scipython.com/static/media/problems/P6.5/bounce-data.txt) é uma versão em texto da gravação de um experimento realizado conforme descrito acima, com uma frequência de amostragem de $4410\\text{ s}^{−1}$ (ou seja, os pontos de dados são separados por $1/4410\\text{ s}$). "
   ]
  },
  {
   "cell_type": "markdown",
   "id": "e6accd4c-e9bf-4c04-bb6f-634485d036db",
   "metadata": {},
   "source": [
    "**a)** Analise esses dados para encontrar um valor para $C_R$. "
   ]
  },
  {
   "cell_type": "code",
   "execution_count": 8,
   "id": "e0458690-236b-4053-8c39-47595aaf9522",
   "metadata": {},
   "outputs": [],
   "source": [
    "# SEU CÓDIGO AQUI"
   ]
  },
  {
   "cell_type": "markdown",
   "id": "35ea40fa-c44b-4429-b86b-ad139583afd6",
   "metadata": {},
   "source": [
    "**b)** Se $h_0=57.5\\text{ cm}$, qual é o valor de $g$ inferido do intercepto?"
   ]
  },
  {
   "cell_type": "code",
   "execution_count": 9,
   "id": "3a2fbd00-6598-405e-a420-deea54fd9966",
   "metadata": {},
   "outputs": [],
   "source": [
    "# SEU CÓDIGO AQUI"
   ]
  },
  {
   "cell_type": "markdown",
   "id": "6c78a643-01f9-42a7-b3e7-38c10e1dba8c",
   "metadata": {},
   "source": [
    "---"
   ]
  }
 ],
 "metadata": {
  "kernelspec": {
   "display_name": "Python 3 (ipykernel)",
   "language": "python",
   "name": "python3"
  },
  "language_info": {
   "codemirror_mode": {
    "name": "ipython",
    "version": 3
   },
   "file_extension": ".py",
   "mimetype": "text/x-python",
   "name": "python",
   "nbconvert_exporter": "python",
   "pygments_lexer": "ipython3",
   "version": "3.9.8"
  }
 },
 "nbformat": 4,
 "nbformat_minor": 5
}
