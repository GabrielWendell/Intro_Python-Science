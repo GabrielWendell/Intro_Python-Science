{
 "cells": [
  {
   "cell_type": "markdown",
   "id": "7640d8b5-e821-4744-80c3-b8c96d4fbebc",
   "metadata": {},
   "source": [
    "# Introdução à Programação Científica em Python"
   ]
  },
  {
   "cell_type": "markdown",
   "id": "58ab50f3-6bd9-4aa5-a3a2-9dbd667823fe",
   "metadata": {},
   "source": [
    "- Gabriel Wendell Celestino Rocha."
   ]
  },
  {
   "cell_type": "markdown",
   "id": "7de95bfd-8463-4c4d-b3c2-08dba6718a29",
   "metadata": {},
   "source": [
    "---"
   ]
  },
  {
   "cell_type": "markdown",
   "id": "49817f12-d5a3-4675-a3b9-0fb2e428e6a7",
   "metadata": {},
   "source": [
    "## Aula 1 (07/03 - 08/03): Jupyter + Python I"
   ]
  },
  {
   "cell_type": "markdown",
   "id": "1ef4c534-1b23-47b6-9130-3bfe57b3023f",
   "metadata": {},
   "source": [
    "1. **Introdução** (07/03)\n",
    "    - Instalando o Python;\n",
    "    - Command Line."
   ]
  },
  {
   "cell_type": "markdown",
   "id": "550a4b2d-207e-4fc1-a0c7-80097ee01bc7",
   "metadata": {},
   "source": [
    "2. **IPython e Jupyter Notebook** (07/03)\n",
    "    - IPython;\n",
    "    - Jupyter Notebook."
   ]
  },
  {
   "cell_type": "markdown",
   "id": "09b4f278-e3ec-4d86-8947-6e02bd5ebaa9",
   "metadata": {},
   "source": [
    "3. **Núcleo Python I** (08/03)\n",
    "    - Shell Python;\n",
    "    - Números, Variáveis, Comparações e Lógica;\n",
    "    - Objetos Python I: Strings;\n",
    "    - Objetos Python II: Listas, tuplas e loops;\n",
    "    - Controle de fluxo;\n",
    "    - Entrada/saída de arquivo;\n",
    "    - Funções."
   ]
  },
  {
   "cell_type": "markdown",
   "id": "b529f003-c8f4-4d3c-8df7-d248592b5dcd",
   "metadata": {},
   "source": [
    "$$\\blacklozenge\\quad\\blacklozenge\\quad\\blacklozenge\\quad\\blacklozenge\\quad\\blacklozenge$$"
   ]
  },
  {
   "cell_type": "markdown",
   "id": "78aa2757-8372-4076-a8b6-b7f03010aa61",
   "metadata": {},
   "source": [
    "## Aula 2 (14/03 - 15/03): Python II"
   ]
  },
  {
   "cell_type": "markdown",
   "id": "767d226c-f796-4c59-a041-a074ce61b84a",
   "metadata": {},
   "source": [
    "1. Erros e exceções;\n",
    "2. Objetos Python III: Dicionários e Sets;\n",
    "3. Idiomas Pythonicos: *\"Syntatic Sugar\"*;\n",
    "4. Serviços do Sistema Operacional;\n",
    "5. Modulos e Pacotes;\n",
    "6. Uma introdução à programação orientada a objetos."
   ]
  },
  {
   "cell_type": "markdown",
   "id": "4e1c1542-5d9f-4e19-9520-161de9f9afb9",
   "metadata": {},
   "source": [
    "$$\\blacklozenge\\quad\\blacklozenge\\quad\\blacklozenge\\quad\\blacklozenge\\quad\\blacklozenge$$"
   ]
  },
  {
   "cell_type": "markdown",
   "id": "b2ccd48e-d84c-4af5-aaaf-1cc86534a928",
   "metadata": {},
   "source": [
    "## Aula 3 (21/03): NumPy"
   ]
  },
  {
   "cell_type": "markdown",
   "id": "859880a4-748b-4279-8d1c-c04abb827314",
   "metadata": {},
   "source": [
    "1. Métodos básicos de array;\n",
    "2. Lendo e escrevendo um array em um arquivo;\n",
    "3. Métodos estatísticos;\n",
    "4. Polinômios;\n",
    "5. Álgebra Linear;\n",
    "6. Amostragem aleatória;\n",
    "7. Transformada discreta de Fourier."
   ]
  },
  {
   "cell_type": "markdown",
   "id": "df42516c-6542-43a5-8943-ba51484a583c",
   "metadata": {},
   "source": [
    "$$\\blacklozenge\\quad\\blacklozenge\\quad\\blacklozenge\\quad\\blacklozenge\\quad\\blacklozenge$$"
   ]
  },
  {
   "cell_type": "markdown",
   "id": "49e64042-bcba-485f-b3fe-7d679c26a892",
   "metadata": {},
   "source": [
    "## Aula 4 (22/03): Matplotlib"
   ]
  },
  {
   "cell_type": "markdown",
   "id": "4e3b84e7-faf6-490a-89dd-b57c2f72c41d",
   "metadata": {},
   "source": [
    "1. Gráficos de Linha e Gráficos de Dispersão;\n",
    "2. Personalização e Refinamento do Gráfico;\n",
    "3. Gráficos de Barras, Gráficos de Pizza e Gráficos Polares;\n",
    "4. Anotando Gráficos;\n",
    "5. Gráficos de Contorno e Mapas de Calor;\n",
    "6. Gráficos Tridimensionais;\n",
    "7. Animação."
   ]
  },
  {
   "cell_type": "markdown",
   "id": "07cb3d67-4b62-44ba-997e-fd4102953bf8",
   "metadata": {},
   "source": [
    "$$\\blacklozenge\\quad\\blacklozenge\\quad\\blacklozenge\\quad\\blacklozenge\\quad\\blacklozenge$$"
   ]
  },
  {
   "cell_type": "markdown",
   "id": "c899fc89-bcf8-45f7-be91-7cba8f50bdfb",
   "metadata": {},
   "source": [
    "## Aula 5 (28/03): Pandas"
   ]
  },
  {
   "cell_type": "markdown",
   "id": "e615f51c-34e1-4047-90d8-14d6ca893caa",
   "metadata": {},
   "source": [
    "1. Introdução ao `pandas`;\n",
    "2. Leitura e Escrita de `Series` e `DataFrames`;\n",
    "3. Indexação avançada;\n",
    "4. Limpeza e Exploração de Dados;\r",
    "5.  Agrupamento e agregação de dado;99..6 Exempl.83"
   ]
  },
  {
   "cell_type": "markdown",
   "id": "f488b25e-43a1-4f9e-a698-728c94097173",
   "metadata": {},
   "source": [
    "$$\\blacklozenge\\quad\\blacklozenge\\quad\\blacklozenge\\quad\\blacklozenge\\quad\\blacklozenge$$"
   ]
  },
  {
   "cell_type": "markdown",
   "id": "b8b023f3-3797-4e07-9566-e9a29f667357",
   "metadata": {},
   "source": [
    "## Aula 6 (29/03): SciPy"
   ]
  },
  {
   "cell_type": "markdown",
   "id": "741224d3-a831-42e1-a373-f97d10fd22c0",
   "metadata": {},
   "source": [
    "1. Constantes físicas e funções especiais;\n",
    "2. Integração e Equações Diferenciais Ordinárias;\n",
    "3. Interpolação;\n",
    "4. Otimização, Ajuste de dados e Localização de raízes;\n",
    "5. Análise de séries temporais."
   ]
  },
  {
   "cell_type": "markdown",
   "id": "7ea1dd28-c9a4-4293-ae6f-265061590eb2",
   "metadata": {},
   "source": [
    "$$\\blacklozenge\\quad\\blacklozenge\\quad\\blacklozenge\\quad\\blacklozenge\\quad\\blacklozenge$$"
   ]
  },
  {
   "cell_type": "markdown",
   "id": "52d46754-0e90-438c-b754-608392a77ca2",
   "metadata": {},
   "source": [
    "## Aula 7 (04/04): Programação científica geral"
   ]
  },
  {
   "cell_type": "markdown",
   "id": "f5b47567-156b-4430-a4f6-5a0e32686740",
   "metadata": {},
   "source": [
    "1. Aritmética de ponto flutuante;\n",
    "2. Estabilidade e Condicionamento;\n",
    "3. Técnicas de programação e Desenvolvimento de softwares."
   ]
  },
  {
   "cell_type": "markdown",
   "id": "f28b621c-53e5-42ed-acea-f090cea2292a",
   "metadata": {},
   "source": [
    "$$\\blacklozenge\\quad\\blacklozenge\\quad\\blacklozenge\\quad\\blacklozenge\\quad\\blacklozenge$$"
   ]
  },
  {
   "cell_type": "markdown",
   "id": "3ea2bb5b-3308-4def-8b11-e23c73c640af",
   "metadata": {},
   "source": [
    "### Aula 8 (04/05): Projetos Python"
   ]
  },
  {
   "cell_type": "markdown",
   "id": "c5047c1a-39a7-4e67-a5a5-89dfdc2dd9ba",
   "metadata": {},
   "source": [
    "- Apresentação de projetos."
   ]
  },
  {
   "cell_type": "markdown",
   "id": "a9b5e3d8-337d-47b8-a2a0-554676ef9f5b",
   "metadata": {},
   "source": [
    "---"
   ]
  }
 ],
 "metadata": {
  "kernelspec": {
   "display_name": "Python 3 (ipykernel)",
   "language": "python",
   "name": "python3"
  },
  "language_info": {
   "codemirror_mode": {
    "name": "ipython",
    "version": 3
   },
   "file_extension": ".py",
   "mimetype": "text/x-python",
   "name": "python",
   "nbconvert_exporter": "python",
   "pygments_lexer": "ipython3",
   "version": "3.9.8"
  }
 },
 "nbformat": 4,
 "nbformat_minor": 5
}
