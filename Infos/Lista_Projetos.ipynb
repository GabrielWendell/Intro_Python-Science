{
 "cells": [
  {
   "cell_type": "markdown",
   "id": "7640d8b5-e821-4744-80c3-b8c96d4fbebc",
   "metadata": {},
   "source": [
    "# Introdução à Programação Científica em Python"
   ]
  },
  {
   "cell_type": "markdown",
   "id": "58ab50f3-6bd9-4aa5-a3a2-9dbd667823fe",
   "metadata": {},
   "source": [
    "- Gabriel Wendell Celestino Rocha."
   ]
  },
  {
   "cell_type": "markdown",
   "id": "7de95bfd-8463-4c4d-b3c2-08dba6718a29",
   "metadata": {},
   "source": [
    "---"
   ]
  },
  {
   "cell_type": "markdown",
   "id": "1927e76b-17c0-458f-b5f0-55250620b153",
   "metadata": {},
   "source": [
    "## Sugestões de Projetos"
   ]
  },
  {
   "cell_type": "markdown",
   "id": "4d198f0c-29bc-49ad-bdb8-d1c26564e3fe",
   "metadata": {},
   "source": [
    "**Legenda:**\n",
    "> $\\star$ = Médio \\\n",
    "> $\\star\\star$ = Difícil. \\\n",
    "> $\\star\\star\\star$ = Tema de TCC."
   ]
  },
  {
   "cell_type": "markdown",
   "id": "0ca2d982-4e7c-4175-bfb0-8f9b2fd7fbd0",
   "metadata": {},
   "source": [
    "- ### Astronomia"
   ]
  },
  {
   "cell_type": "markdown",
   "id": "fd1a2354-23b3-4923-b307-a55be90cfe89",
   "metadata": {},
   "source": [
    "1. $\\star$ Determinado distâncias interestelares com o Gaia DR3;\n",
    "2. $\\star\\star$ Radiação de corpo negro e a radiação cósmica de fundo;\n",
    "3. $\\star\\star$ A cor dos objetos celestes;\n",
    "4. $\\star\\star$ Análise da órbita Terra-Vênus;\n",
    "5. $\\star\\star\\star$ Diagrama HR  om os dados do HIPPARCUS;\n",
    "6. $\\star\\star\\star$ Diagrama de Hubble e as supernovas;\n",
    "7. $\\star\\star\\star$ $k-$*means clustering* para dados de exoplanetas. "
   ]
  },
  {
   "cell_type": "markdown",
   "id": "1c0736d8-5236-4e7b-b349-409328c1e36b",
   "metadata": {},
   "source": [
    "- ### Mecânica dos Fluidos"
   ]
  },
  {
   "cell_type": "markdown",
   "id": "270522d3-40cd-4495-a55d-a9ed45c4e848",
   "metadata": {},
   "source": [
    "1. $\\star$ Frequência de Brunt-Vaisälä;\n",
    "2. $\\star\\star$ Convecção e difusão;\n",
    "3. $\\star\\star\\star$ Equação de Navier-Stokes 2D."
   ]
  },
  {
   "cell_type": "markdown",
   "id": "1ffccfca-6a33-40ac-a41a-b7db4579a654",
   "metadata": {},
   "source": [
    "- ### Mecânica Clássica"
   ]
  },
  {
   "cell_type": "markdown",
   "id": "c7e9c557-918c-4a4e-8fb1-6238e51b414b",
   "metadata": {},
   "source": [
    "1. $\\star$ Curvas de Lissajous;\n",
    "2. Análise de movimentos pendulares:\n",
    "   > $\\star\\star$ Pêndulo esférico; \\\n",
    "   > $\\star\\star$ Pêndulos acoplados; \\\n",
    "   > $\\star\\star$ Pêndulo amortecido forçado; \\\n",
    "   > $\\star\\star$ Pêndulo não harmônico. \\\n",
    "   > $\\star\\star\\star$ Pêndulo de Wilberforce; \\\n",
    "   > $\\star\\star\\star$ Pêndulo duplo;\n",
    "3. $\\star\\star$ Lançamentos de projéteis;\n",
    "4. $\\star\\star$ O problema da Braquistócrona."
   ]
  },
  {
   "cell_type": "markdown",
   "id": "78522cfc-b595-439d-afc9-d85bb1e4bfca",
   "metadata": {},
   "source": [
    "- ### Eletromagnetismo"
   ]
  },
  {
   "cell_type": "markdown",
   "id": "05f91b93-8ef3-424d-8f54-7ca55ae503b3",
   "metadata": {},
   "source": [
    "1. $\\star\\star$ Campo elétrico gerado por diferentes geometrias;\n",
    "2. $\\star\\star$ Análise de um dipolo elétrico;\n",
    "3. $\\star\\star\\star$ Multipolos elétricos."
   ]
  },
  {
   "cell_type": "markdown",
   "id": "20488668-f984-4ddf-b792-cdc377ceafd5",
   "metadata": {},
   "source": [
    "- ### Termodinâmica"
   ]
  },
  {
   "cell_type": "markdown",
   "id": "5d8aa7f2-da44-497f-9bd2-a1b947af679b",
   "metadata": {},
   "source": [
    "1. $\\star$ Análise do gás em uma caixa;\n",
    "2. Condução térmica:\n",
    "    > $\\star$ Unidimensional; \\\n",
    "    > $\\star\\star$ Bidimensional; \\\n",
    "    > $\\star\\star\\star$ Tridimensional;\n",
    "3. Movimento Browniano:\n",
    "    > $\\star$ Unidimensional; \\\n",
    "    > $\\star\\star$ Bidimensional; \\\n",
    "    > $\\star\\star\\star$ Tridimensional."
   ]
  },
  {
   "cell_type": "markdown",
   "id": "6c7c71db-28b2-4eb2-af51-46269f191860",
   "metadata": {},
   "source": [
    "- ### Mecânica Quântica"
   ]
  },
  {
   "cell_type": "markdown",
   "id": "40abe77e-b791-438c-9ff5-055a8893dc86",
   "metadata": {},
   "source": [
    "- $\\star\\star$ Evolução temporal da função de onda;\n",
    "- $\\star\\star$ Oscilador harmônico quântico;\n",
    "- $\\star\\star$ Autoenergias de diferentes potenciais."
   ]
  },
  {
   "cell_type": "markdown",
   "id": "d907ca14-08b5-476b-b665-5bdb7359ab55",
   "metadata": {},
   "source": [
    "- ### Outros tópicos"
   ]
  },
  {
   "cell_type": "markdown",
   "id": "09b4c4b1-8838-4078-9e29-6c1c2139612a",
   "metadata": {},
   "source": [
    "1. Métodos de mínimos quadrados:\n",
    "   > $\\star\\star$ Dados bidimensionais; \\\n",
    "   > $\\star\\star\\star$ Método linear e não linear;\n",
    "2. $\\star\\star$ Anomalia de Schottky no hidrogênio;\n",
    "3. $\\star\\star\\star$ Método do gradiente descendentes."
   ]
  },
  {
   "cell_type": "markdown",
   "id": "de6dd83b-cd60-45cc-a955-ac4c8339996a",
   "metadata": {},
   "source": [
    "---"
   ]
  }
 ],
 "metadata": {
  "kernelspec": {
   "display_name": "Python 3 (ipykernel)",
   "language": "python",
   "name": "python3"
  },
  "language_info": {
   "codemirror_mode": {
    "name": "ipython",
    "version": 3
   },
   "file_extension": ".py",
   "mimetype": "text/x-python",
   "name": "python",
   "nbconvert_exporter": "python",
   "pygments_lexer": "ipython3",
   "version": "3.9.8"
  }
 },
 "nbformat": 4,
 "nbformat_minor": 5
}
