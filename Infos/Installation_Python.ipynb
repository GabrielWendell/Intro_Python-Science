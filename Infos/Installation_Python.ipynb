{
 "cells": [
  {
   "cell_type": "markdown",
   "id": "9b60a569-8ee3-434e-a01b-c5dbbe779fb8",
   "metadata": {},
   "source": [
    "# Introdução à Programação Científica em Python"
   ]
  },
  {
   "cell_type": "markdown",
   "id": "6b98fba7-8581-42db-82a2-eae4027a02a4",
   "metadata": {},
   "source": [
    "- Gabriel Wendell Celestino Rocha"
   ]
  },
  {
   "cell_type": "markdown",
   "id": "dd5c29fb-e718-48b2-ad15-7417d9fd6b79",
   "metadata": {},
   "source": [
    "---"
   ]
  },
  {
   "cell_type": "markdown",
   "id": "20befa68-fd66-4669-89c0-4f21566ab2b7",
   "metadata": {},
   "source": [
    "## 1. Introdução"
   ]
  },
  {
   "cell_type": "markdown",
   "id": "f8295e9c-28cc-44ee-bbd6-7d2f81bd74b7",
   "metadata": {},
   "source": [
    "#### Instalando o Python"
   ]
  },
  {
   "cell_type": "markdown",
   "id": "06316243-a0c2-42dd-b9e4-63790c5cede9",
   "metadata": {},
   "source": [
    "O site oficial do [Python](www.python.org) e contém instruções completas e fáceis de seguir para baixar o Python. No entanto, existem várias distribuições completas que incluem as bibliotecas `NumPy`, `SciPy` e `Matplotlib` (a “*SciPy Stack*”) para evitar que você tenha que baixá-las e instalá-las você mesmo:"
   ]
  },
  {
   "cell_type": "markdown",
   "id": "20ee69b1-57a3-4fb7-9ee0-580cf2c29999",
   "metadata": {},
   "source": [
    "- [*Anaconda*](www.anaconda.com/distribution) está disponível gratuitamente (inclusive para uso comercial). Ele instala Python 2 e Python 3, mas a versão padrão pode ser selecionada antes do download, conforme indicado na página da web, ou posteriormente usando o comando `conda`.\n",
    "\n",
    "- [*Enthought Deployment Manager*](https://assets.enthought.com/downloads/) (EDM) é uma distribuição semelhante com uma versão gratuita e vários níveis de versões pagas, incluindo suporte técnico e software de desenvolvimento."
   ]
  },
  {
   "cell_type": "markdown",
   "id": "9a353b05-d7eb-40f1-a375-f3070f26147b",
   "metadata": {},
   "source": [
    "Na maioria dos casos, uma dessas distribuições deve ser tudo de que você precisa."
   ]
  },
  {
   "cell_type": "markdown",
   "id": "eb1e58c8-0cbc-42e1-84cc-b23578035440",
   "metadata": {},
   "source": [
    "O código-fonte (e arquivos binários para algumas plataformas) dos pacotes `NumPy`, `SciPy`, `Matplotlib` e `IPython` estão disponíveis separadamente em:"
   ]
  },
  {
   "cell_type": "markdown",
   "id": "3eee38d5-c1ab-473b-b25b-af1d0320affb",
   "metadata": {},
   "source": [
    "- [NumPy](https://github.com/numpy/numpy)\n",
    "- [Matplotlib](https://matplotlib.org/users/installing.html)\n",
    "- [SciPy](https://github.com/scipy/scipy)\n",
    "- [IPython](https://github.com/ipython/ipython)\n",
    "- [Jupyter Notebook e Jupyter Lab](https://jupyter.org/)"
   ]
  },
  {
   "cell_type": "markdown",
   "id": "08231a7d-d2e9-456a-a33d-c5ff0c55676b",
   "metadata": {},
   "source": [
    "**Windows**\n",
    "\n",
    "Os usuários do Windows têm mais algumas opções para instalar o stack completo do SciPy: [*Python(x,y)*](https://python-xy.github.io) e [*WinPython*](https://winpython.github.io/).\r\n",
    "Ambos são gratuitos.e."
   ]
  },
  {
   "cell_type": "markdown",
   "id": "06e8b464-e320-424b-8784-262eff410170",
   "metadata": {},
   "source": [
    "**Linux**\n",
    "\n",
    "Quase todas as distribuições Linux vêm com Python 2, mas geralmente não com Python 3, então você pode precisar instalá-lo a partir dos links acima: as distribuições Anaconda e Enthought possuem versões para Linux. A maioria das distribuições Linux vem com seus próprios gerenciadores de pacotes de software (por exemplo, `apt` no Debian e `rpm` para RedHat). Estes podem ser usados para \n",
    "instaare o Python 3 e suas bibliotecas, embora encontrar os repositórios de pacotes necessários possa exigir alguma pesquisa na Internet. Tenha cuidado para não substituir ou modificar a instalação do seu sistema, pois outros aplicativos podem depender dele."
   ]
  },
  {
   "cell_type": "markdown",
   "id": "5908e6c6-761f-4060-9287-0ea30a020629",
   "metadata": {},
   "source": [
    "**macOS**\n",
    "\n",
    "macOS (anteriormente Mac OS X), sendo baseado em Unix, vem com Python, mas geralmente é uma versão mais antiga do Python 2. Você não deve excluir ou modificar esta instalação (ela é necessária para o sistema operacional), mas você pode seguir o instruções acima para obter o Python 3 e o stack do SciPy. O macOS não possui um gerenciador de pacotes nativo (um aplicativo para gerenciar e instalar software), mas os dois populares gerenciadores de pacotes de terceiros, [Homebrew](https://brew.sh/) e [MacPorts](www.macports.org), podem ambos fornecem Python 3 e seus pacotes se você preferir esta opção."
   ]
  },
  {
   "cell_type": "markdown",
   "id": "f21b5885-1609-4b67-b388-25b1fb256d9a",
   "metadata": {},
   "source": [
    "#### Linha de comando (*command line*)"
   ]
  },
  {
   "cell_type": "markdown",
   "id": "8f480992-3dbb-4b24-a1ff-c9a33809212b",
   "metadata": {},
   "source": [
    "A maioria dos exemplos de código neste curso são escritos como programas independentes que podem ser executados a partir da *linha de comando* ou de dentro de um *integrated development enviroment* (IDE). Para acessar a interface de linha de comando (também conhecida como *console* ou *terminal*) em diferentes plataformas, siga as instruções abaixo."
   ]
  },
  {
   "cell_type": "markdown",
   "id": "b529590f-3526-4826-90f3-c6e19160be8c",
   "metadata": {},
   "source": [
    "- Windows 7 e anteriores: *Iniciar* > *Todos os Programas* > *Prompt de Comando*; alternativamente, digite `cmd` na caixa de entrada *Iniciar* > *Executar*.\n",
    "\n",
    "- Windows 8: *Pré-visualização* (canto inferior esquerdo da tela) > *Windows System*: *All apps*; alternativamente, digite `cmd` na caixa de pesquisa no canto superior direito da tela.\n",
    "\n",
    "- Windows 10: No Menu Iniciar (ícone do Windows, canto inferior esquerdo da tela) > *Windows System* > *Prompt de Comando*; alternativamente, digite `cmd` na caixa de pesquisa acessada no canto inferior esquerdo da tela, próximo ao ícone do Windows.\n",
    "\n",
    "- Linux: se você não estiver utilizando interface gráfica já está na linha de comando; se estiver, localize o aplicativo Terminal (as distribuições variam, mas é geralmente encontrado na subpasta *System Utilities* ou *System Tools*).\n",
    "\n",
    "- Mac OS X e macOS: *Finder* > *Applications* > *Utilities* > *Terminal*."
   ]
  },
  {
   "cell_type": "markdown",
   "id": "e3a90156-f6d6-4843-a0e6-2d525cf1e823",
   "metadata": {},
   "source": [
    "Os comandos digitados na linha de comando são interpretados por um aplicativo chamado *shell*, que permite ao usuário navegar no sistema de arquivos e iniciar outros aplicativos. Por exemplo, o comando:\n",
    "\n",
    "```\n",
    "> python my_program.py\n",
    "```\n",
    "\n",
    "instrui o shell a invocar o interpretador Python, enviando-lhe o arquivo `my_program.py` como script a ser executado. A saída do programa é então retornada ao shell e exibida em\r\n",
    "seu console."
   ]
  },
  {
   "cell_type": "markdown",
   "id": "bc9bc60c-2f92-412d-b92a-ce3c6e1bc06e",
   "metadata": {},
   "source": [
    "---"
   ]
  }
 ],
 "metadata": {
  "kernelspec": {
   "display_name": "Python 3 (ipykernel)",
   "language": "python",
   "name": "python3"
  },
  "language_info": {
   "codemirror_mode": {
    "name": "ipython",
    "version": 3
   },
   "file_extension": ".py",
   "mimetype": "text/x-python",
   "name": "python",
   "nbconvert_exporter": "python",
   "pygments_lexer": "ipython3",
   "version": "3.9.8"
  }
 },
 "nbformat": 4,
 "nbformat_minor": 5
}
